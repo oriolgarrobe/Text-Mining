{
 "cells": [
  {
   "cell_type": "markdown",
   "metadata": {
    "id": "zsJqJ9u-lvJt"
   },
   "source": [
    "# L4: Word embeddings"
   ]
  },
  {
   "cell_type": "markdown",
   "metadata": {
    "id": "2GO9coftlvJu"
   },
   "source": [
    "In this lab you will explore word embeddings. A **word embedding** is a mapping of words to points in a vector space such that nearby words (points) are similar in terms of their distributional properties. You will use word embedding to find similar words, and evaluate their usefulness in an inference task.\n",
    "\n",
    "You will use the word vectors that come with [spaCy](http://spacy.io). Note that you will need the &lsquo;large&rsquo; English language model; the &lsquo;small&rsquo; model that you used in previous labs does not include proper word vectors."
   ]
  },
  {
   "cell_type": "code",
   "execution_count": 8,
   "metadata": {
    "id": "4GIwi9-5lvJu"
   },
   "outputs": [],
   "source": [
    "import spacy\n",
    "nlp = spacy.load('en_core_web_lg')"
   ]
  },
  {
   "cell_type": "markdown",
   "metadata": {
    "id": "ZTV6Cm3ElvJv"
   },
   "source": [
    "Every word in the model&rsquo;s vocabulary comes with a 300-dimensional vector, represented as a NumPy array. The following code cell shows how to access the vector for the word *cheese*:"
   ]
  },
  {
   "cell_type": "code",
   "execution_count": 47,
   "metadata": {
    "colab": {
     "base_uri": "https://localhost:8080/"
    },
    "id": "A_D7fe8mlvJv",
    "outputId": "628c4cc5-0aef-495f-93c8-da6ab74b0d0e"
   },
   "outputs": [
    {
     "data": {
      "text/plain": [
       "array([-5.5252e-01,  1.8894e-01,  6.8737e-01, -1.9789e-01,  7.0575e-02,\n",
       "        1.0075e+00,  5.1789e-02, -1.5603e-01,  3.1941e-01,  1.1702e+00,\n",
       "       -4.7248e-01,  4.2867e-01, -4.2025e-01,  2.4803e-01,  6.8194e-01,\n",
       "       -6.7488e-01,  9.2401e-02,  1.3089e+00, -3.6278e-02,  2.0098e-01,\n",
       "        7.6005e-01, -6.6718e-02, -7.7794e-02,  2.3844e-01, -2.4351e-01,\n",
       "       -5.4164e-01, -3.3540e-01,  2.9805e-01,  3.5269e-01, -8.0594e-01,\n",
       "       -4.3611e-01,  6.1535e-01,  3.4212e-01, -3.3603e-01,  3.3282e-01,\n",
       "        3.8065e-01,  5.7427e-02,  9.9918e-02,  1.2525e-01,  1.1039e+00,\n",
       "        3.6678e-02,  3.0490e-01, -1.4942e-01,  3.2912e-01,  2.3300e-01,\n",
       "        4.3395e-01,  1.5666e-01,  2.2778e-01, -2.5830e-02,  2.4334e-01,\n",
       "       -5.8136e-02, -1.3486e-01,  2.4521e-01, -3.3459e-01,  4.2839e-01,\n",
       "       -4.8181e-01,  1.3403e-01,  2.6049e-01,  8.9933e-02, -9.3770e-02,\n",
       "        3.7672e-01, -2.9558e-02,  4.3841e-01,  6.1212e-01, -2.5720e-01,\n",
       "       -7.8506e-01,  2.3880e-01,  1.3399e-01, -7.9315e-02,  7.0582e-01,\n",
       "        3.9968e-01,  6.7779e-01, -2.0474e-03,  1.9785e-02, -4.2059e-01,\n",
       "       -5.3858e-01, -5.2155e-02,  1.7252e-01,  2.7547e-01, -4.4482e-01,\n",
       "        2.3595e-01, -2.3445e-01,  3.0103e-01, -5.5096e-01, -3.1159e-02,\n",
       "       -3.4433e-01,  1.2386e+00,  1.0317e+00, -2.2728e-01, -9.5207e-03,\n",
       "       -2.5432e-01, -2.9792e-01,  2.5934e-01, -1.0421e-01, -3.3876e-01,\n",
       "        4.2470e-01,  5.8335e-04,  1.3093e-01,  2.8786e-01,  2.3474e-01,\n",
       "        2.5905e-02, -6.4359e-01,  6.1330e-02,  6.3842e-01,  1.4705e-01,\n",
       "       -6.1594e-01,  2.5097e-01, -4.4872e-01,  8.6825e-01,  9.9555e-02,\n",
       "       -4.4734e-02, -7.4239e-01, -5.9147e-01, -5.4929e-01,  3.8108e-01,\n",
       "        5.5177e-02, -1.0487e-01, -1.2838e-01,  6.0521e-03,  2.8743e-01,\n",
       "        2.1592e-01,  7.2871e-02, -3.1644e-01, -4.3321e-01,  1.8682e-01,\n",
       "        6.7274e-02,  2.8115e-01, -4.6222e-02, -9.6803e-02,  5.6091e-01,\n",
       "       -6.7762e-01, -1.6645e-01,  1.5553e-01,  5.2301e-01, -3.0058e-01,\n",
       "       -3.7291e-01,  8.7895e-02, -1.7963e-01, -4.4193e-01, -4.4607e-01,\n",
       "       -2.4122e+00,  3.3738e-01,  6.2416e-01,  4.2787e-01, -2.5386e-01,\n",
       "       -6.1683e-01, -7.0097e-01,  4.9303e-01,  3.6916e-01, -9.7499e-02,\n",
       "        6.1411e-01, -4.7572e-03,  4.3916e-01, -2.1551e-01, -5.6745e-01,\n",
       "       -4.0278e-01,  2.9459e-01, -3.0850e-01,  1.0103e-01,  7.9741e-02,\n",
       "       -6.3811e-01,  2.4781e-01, -4.4546e-01,  1.0828e-01, -2.3624e-01,\n",
       "       -5.0838e-01, -1.7001e-01, -7.8735e-01,  3.4073e-01, -3.1830e-01,\n",
       "        4.5286e-01, -9.5118e-02,  2.0772e-01, -8.0183e-02, -3.7982e-01,\n",
       "       -4.9949e-01,  4.0759e-02, -3.7724e-01, -8.9705e-02, -6.8187e-01,\n",
       "        2.2106e-01, -3.9931e-01,  3.2329e-01, -3.6180e-01, -7.2093e-01,\n",
       "       -6.3404e-01,  4.3125e-01, -4.9743e-01, -1.7395e-01, -3.8779e-01,\n",
       "       -3.2556e-01,  1.4423e-01, -8.3401e-02, -2.2994e-01,  2.7793e-01,\n",
       "        4.9112e-01,  6.4511e-01, -7.8945e-02,  1.1171e-01,  3.7264e-01,\n",
       "        1.3070e-01, -6.1607e-02, -4.3501e-01,  2.8999e-02,  5.6224e-01,\n",
       "        5.8012e-02,  4.7078e-02,  4.2770e-01,  7.3245e-01, -2.1150e-02,\n",
       "        1.1988e-01,  7.8823e-02, -1.9106e-01,  3.5278e-02, -3.1102e-01,\n",
       "        1.3209e-01, -2.8606e-01, -1.5649e-01, -6.4339e-01,  4.4599e-01,\n",
       "       -3.0912e-01,  4.4520e-01, -3.6774e-01,  2.7327e-01,  6.7833e-01,\n",
       "       -8.3830e-02, -4.5120e-01,  1.0754e-01, -4.5908e-01,  1.5095e-01,\n",
       "       -4.5856e-01,  3.4465e-01,  7.8013e-02, -2.8319e-01, -2.8149e-02,\n",
       "        2.4404e-01, -7.1345e-01,  5.2834e-02, -2.8085e-01,  2.5344e-02,\n",
       "        4.2979e-02,  1.5663e-01, -7.4647e-01, -1.1301e+00,  4.4135e-01,\n",
       "        3.1444e-01, -1.0018e-01, -5.3526e-01, -9.0601e-01, -6.4954e-01,\n",
       "        4.2664e-02, -7.9927e-02,  3.2905e-01, -3.0797e-01, -1.9190e-02,\n",
       "        4.2765e-01,  3.1460e-01,  2.9051e-01, -2.7386e-01,  6.8483e-01,\n",
       "        1.9395e-02, -3.2884e-01, -4.8239e-01, -1.5747e-01, -1.6036e-01,\n",
       "        4.9164e-01, -7.0352e-01, -3.5591e-01, -7.4887e-01, -5.2827e-01,\n",
       "        4.4983e-02,  5.9247e-02,  4.6224e-01,  8.9697e-02, -7.5618e-01,\n",
       "        6.3682e-01,  9.0680e-02,  6.8830e-02,  1.8296e-01,  1.0754e-01,\n",
       "        6.7811e-01, -1.4716e-01,  1.7029e-01, -5.2630e-01,  1.9268e-01,\n",
       "        9.3130e-01,  8.0363e-01,  6.1324e-01, -3.0494e-01,  2.0236e-01,\n",
       "        5.8520e-01,  2.6484e-01, -4.5863e-01,  2.1035e-03, -5.6990e-01,\n",
       "       -4.9092e-01,  4.2511e-01, -1.0954e+00,  1.7124e-01,  2.2495e-01],\n",
       "      dtype=float32)"
      ]
     },
     "execution_count": 47,
     "metadata": {
      "tags": []
     },
     "output_type": "execute_result"
    }
   ],
   "source": [
    "nlp.vocab['cheese'].vector"
   ]
  },
  {
   "cell_type": "markdown",
   "metadata": {
    "id": "wuEALmJHlvJz"
   },
   "source": [
    "## Problem 1: Finding similar words"
   ]
  },
  {
   "cell_type": "markdown",
   "metadata": {
    "id": "A4KrARMElvJz"
   },
   "source": [
    "Your first task is to use the word embeddings to find similar words. More specifically, we ask you to write a function `most_similar` that takes a vector $x$ and returns a list with the 10 most similar entries in spaCy&rsquo;s vocabulary, with similarity being defined by cosine.\n",
    "\n",
    "**Tip:** spaCy already has a [`most_similar`](https://spacy.io/api/vectors#most_similar) method that you can wrap."
   ]
  },
  {
   "cell_type": "code",
   "execution_count": 48,
   "metadata": {
    "id": "78kLH5_ElvJ0"
   },
   "outputs": [],
   "source": [
    "# TODO: Enter your implementation of `most_similar` here\n",
    "def most_similar(x):\n",
    "    most_similar = nlp.vocab.vectors.most_similar(x.reshape(1,-1), n=10)\n",
    "    return([nlp.vocab[key] for key in most_similar[0][0]])"
   ]
  },
  {
   "cell_type": "markdown",
   "metadata": {
    "id": "mLuDDTsolvJ0"
   },
   "source": [
    "Test your implementation by running the following code cell, which will print the 10 most similar words for the word *cheese*:"
   ]
  },
  {
   "cell_type": "code",
   "execution_count": 49,
   "metadata": {
    "colab": {
     "base_uri": "https://localhost:8080/"
    },
    "id": "SHoPSNd9lvJ0",
    "outputId": "0210fc88-b131-481a-e1a3-fa9c7d26e5f3"
   },
   "outputs": [
    {
     "name": "stdout",
     "output_type": "stream",
     "text": [
      "CHEESE cheese Cheese Cheddar cheddar CHEDDAR BACON Bacon bacon cheeses\n"
     ]
    }
   ],
   "source": [
    "print(' '.join(w.text for w in most_similar(nlp.vocab['cheese'].vector)))"
   ]
  },
  {
   "cell_type": "markdown",
   "metadata": {
    "id": "pcyJrSrGlvJ1"
   },
   "source": [
    "You should get the following output:"
   ]
  },
  {
   "cell_type": "markdown",
   "metadata": {
    "id": "k412fzr1lvJ1"
   },
   "source": [
    "CHEESE cheese Cheese Cheddar cheddar CHEDDAR BACON Bacon bacon cheeses"
   ]
  },
  {
   "cell_type": "markdown",
   "metadata": {
    "id": "IrSf32uUlvJ1"
   },
   "source": [
    "Once you have a working implementation of `most_similar`, use it to think about in what sense the returned words really are &lsquo;similar&rsquo; to the cue word. Try to find examples where the cue word and at least one of the words returned by `most_similar` are in the following semantic relations:\n",
    "\n",
    "1. synonymy (exchangeable meanings)\n",
    "2. antonymy (opposite meanings)\n",
    "3. hyperonymy/hyponymy (more specific/less specific meanings)\n",
    "\n",
    "Document your examples in the code cell below."
   ]
  },
  {
   "cell_type": "code",
   "execution_count": 50,
   "metadata": {
    "colab": {
     "base_uri": "https://localhost:8080/"
    },
    "id": "MdyDL2W6lvJ1",
    "outputId": "e5de66a8-4d10-44c2-cba7-664c51e253c2"
   },
   "outputs": [
    {
     "name": "stdout",
     "output_type": "stream",
     "text": [
      "1. Synonymy:\n",
      "carpet Carpet CARPET CARPETS Carpets carpets CARPETING Carpeting carpeting Rug\n",
      "\n",
      "2. Antonymy:\n",
      "late LATE Late Early early EARLY later Later LATER EARLIER\n",
      "\n",
      "3. Hyperonymy:\n",
      "fruit FRUIT Fruit fruits Fruits FRUITS berries Berries BERRIES Apples\n",
      "\n",
      "3b. Hyponymy:\n",
      "CAR car Car CARs CARS cars Cars vehicle VEHICLE Vehicle\n"
     ]
    }
   ],
   "source": [
    "# TODO: Insert code here to generate your examples\n",
    "print('1. Synonymy:')\n",
    "print(' '.join(w.text for w in most_similar(nlp.vocab['carpet'].vector)))\n",
    "print('\\n2. Antonymy:')\n",
    "print(' '.join(w.text for w in most_similar(nlp.vocab['late'].vector)))\n",
    "print('\\n3. Hyperonymy:')\n",
    "print(' '.join(w.text for w in most_similar(nlp.vocab['fruit'].vector)))\n",
    "print('\\n3b. Hyponymy:')\n",
    "print(' '.join(w.text for w in most_similar(nlp.vocab['car'].vector)))"
   ]
  },
  {
   "cell_type": "markdown",
   "metadata": {
    "id": "NoC4YIn8lvJ1"
   },
   "source": [
    "## Problem 2: Plotting similar words"
   ]
  },
  {
   "cell_type": "markdown",
   "metadata": {
    "id": "HKRHEge9lvJ1"
   },
   "source": [
    "Your next task is to visualize the word embedding space by a plot. To do so, you will have to reduce the dimensionality of the space from 300 to 2&nbsp;dimensions. One suitable algorithm for this is [T-distributed Stochastic Neighbor Embedding](https://en.wikipedia.org/wiki/T-distributed_stochastic_neighbor_embedding) (TSNE), which is implemented in scikit-learn&rsquo;s [TSNE](https://scikit-learn.org/stable/modules/generated/sklearn.manifold.TSNE.html) class.\n",
    "\n",
    "Write a function `plot_most_similar` that takes a list of words (lexemes) and does the following:\n",
    "\n",
    "1. For each word in the list, find the most similar words (lexemes) in the spaCy vocabulary.\n",
    "2. Compute the TSNE transformation of the corresponding vectors to 2&nbsp;dimensions.\n",
    "3. Produce a scatter plot of the transformed vectors, with the vectors as points and the corresponding word forms as labels."
   ]
  },
  {
   "cell_type": "code",
   "execution_count": 51,
   "metadata": {
    "id": "ySAn2CUAlvJ1"
   },
   "outputs": [],
   "source": [
    "# TODO: Write code here to plot the most similar words\n",
    "from sklearn.manifold import TSNE\n",
    "import numpy as np\n",
    "import matplotlib.pyplot as plt\n",
    "\n",
    "# Code based on: https://www.kaggle.com/jeffd23/visualizing-word-vectors-with-t-sne\n",
    "\n",
    "def plot_most_similar(lexemes):\n",
    "    \n",
    "    tokens = []\n",
    "    labels = []\n",
    "    \n",
    "    # Find most similar words for a given word\n",
    "    for lex in lexemes:\n",
    "        #similar_words = most_similar(nlp.vocab[word].vector)\n",
    "        similar_words = most_similar(lex.vector)\n",
    "   \n",
    "        # Add word's 'embedding' and 'text' to lists\n",
    "        for word in similar_words:\n",
    "            tokens.append(word.vector)\n",
    "            labels.append(word.text)\n",
    "    \n",
    "    # Reduce dimensionality with t-SNE algorithm\n",
    "    words_embedded = TSNE(n_components=2, n_jobs=-1).fit_transform(tokens)\n",
    "    \n",
    "    # Add reduced dimensionality coordinates to new lists\n",
    "    x = []\n",
    "    y = []\n",
    "    for e in words_embedded:\n",
    "        x.append(e[0])\n",
    "        y.append(e[1])\n",
    "        \n",
    "    # Plot\n",
    "    plt.figure(figsize=(16, 16)) \n",
    "    plt.scatter(x,y)\n",
    "    for i in range(len(x)):\n",
    "        plt.annotate(labels[i],\n",
    "                     xy=(x[i],y[i]),\n",
    "                     xytext=(5, 2),\n",
    "                     textcoords='offset points',\n",
    "                     ha='right',\n",
    "                     va='bottom')"
   ]
  },
  {
   "cell_type": "markdown",
   "metadata": {
    "id": "RvNF8I8ulvJ1"
   },
   "source": [
    "Test your code by running the following cell:"
   ]
  },
  {
   "cell_type": "code",
   "execution_count": 52,
   "metadata": {
    "colab": {
     "base_uri": "https://localhost:8080/",
     "height": 918
    },
    "id": "eTewJ4FplvJ1",
    "outputId": "7d04a1af-9d8f-4abc-e66d-0d08abef2c1f",
    "scrolled": true
   },
   "outputs": [
    {
     "data": {
      "image/png": "[encoded data removed]",
      "text/plain": [
       "<Figure size 1152x1152 with 1 Axes>"
      ]
     },
     "metadata": {
      "needs_background": "light",
      "tags": []
     },
     "output_type": "display_data"
    }
   ],
   "source": [
    "plot_most_similar(nlp.vocab[w] for w in ['cheese', 'goat', 'sweden', 'university', 'computer'])"
   ]
  },
  {
   "cell_type": "markdown",
   "metadata": {
    "id": "XOLIumnalvJ2"
   },
   "source": [
    "Take a few minutes to look at your plot. What does it tell you? What does it *not* tell you?"
   ]
  },
  {
   "cell_type": "markdown",
   "metadata": {
    "id": "3gmCgE9olvJ2"
   },
   "source": [
    "**Answer:**\n",
    "* The plot shows how close or how far words are to each other. It is very easy to see that words that are similar - or just variations of the same word - are close. However, at the center of the plot, the different clusters of words are mixed. The word 'cheese', for instance, is as far from 'goat' as it is from 'computer' or 'university'. It is difficult to see when a cluster ends and the other starts. In brief, close the the (0,0) point words are represented too close."
   ]
  },
  {
   "cell_type": "markdown",
   "metadata": {
    "id": "Bbpwm-14lvJ2"
   },
   "source": [
    "## Problem 3: Analogies"
   ]
  },
  {
   "cell_type": "markdown",
   "metadata": {
    "id": "rtPkp-XClvJ2"
   },
   "source": [
    "In a **word analogy task** you are given three words $x$, $y$, $z$ and have to predict a word $w$ that has the same semantic relation to $z$ as $y$ has to $x$. One example is *man*, *woman*, *brother*, the expected answer being *sister* (the semantic relation is *male*/*female*).\n",
    "\n",
    "[Mikolov et al. (2013)](http://www.aclweb.org/anthology/N13-1090) have shown that some types of word analogy tasks can be solved by adding and substracting word vectors in a word embedding: the vector for *sister* is the closest vector (in terms of cosine distance) to the vector *brother* $-$ *man* $+$ *woman*. Your next task is to write a function `fourth` that takes in three words (say *brother*, *man*, *woman*) and predicts the word that completes the analogy (in this case, *sister*)."
   ]
  },
  {
   "cell_type": "code",
   "execution_count": 53,
   "metadata": {
    "id": "1CFc2o6UlvJ2"
   },
   "outputs": [],
   "source": [
    "# TODO: Enter code here to solve the analogy problem\n",
    "def fourth(w1,w2,w3):\n",
    "    y = np.add(np.subtract(w1.vector,w2.vector),w3.vector)\n",
    "    return(most_similar(y)[0])"
   ]
  },
  {
   "cell_type": "markdown",
   "metadata": {
    "id": "q_w44CV0lvJ2"
   },
   "source": [
    "Test your code by running the following code. You should get *sister*."
   ]
  },
  {
   "cell_type": "code",
   "execution_count": 54,
   "metadata": {
    "colab": {
     "base_uri": "https://localhost:8080/",
     "height": 35
    },
    "id": "Mg6awTEnlvJ2",
    "outputId": "4c13e8ce-061b-4bb5-a061-9a36739989ff",
    "scrolled": true
   },
   "outputs": [
    {
     "data": {
      "application/vnd.google.colaboratory.intrinsic+json": {
       "type": "string"
      },
      "text/plain": [
       "'SISTER'"
      ]
     },
     "execution_count": 54,
     "metadata": {
      "tags": []
     },
     "output_type": "execute_result"
    }
   ],
   "source": [
    "fourth(nlp.vocab['brother'], nlp.vocab['man'], nlp.vocab['woman']).text"
   ]
  },
  {
   "cell_type": "markdown",
   "metadata": {
    "id": "sx34fXq1lvJ3"
   },
   "source": [
    "You should also be able to get the following:\n",
    "\n",
    "* *Stockholm* $-$ *Sweden* $+$ *Germany* $=$ *Berlin*\n",
    "* *Swedish* $-$ *Sweden* $+$ *France* $=$ *French*\n",
    "* *better* $-$ *good* $+$ *bad* $=$ *worse*\n",
    "* *walked* $-$ *walk* $+$ *take* $=$ *took*\n",
    "\n",
    "Experiment with other examples to see whether you get the expected output. Provide three examples of analogies for which the model produces the &lsquo;correct&rsquo; answer, and three examples on which the model &lsquo;failed&rsquo;. Based on your theoretical understanding of word embeddings, do you have a hypothesis as to why the model succeeds/fails in completing the analogy? Discuss this question in a short text."
   ]
  },
  {
   "cell_type": "markdown",
   "metadata": {
    "id": "hp2URS5ylvJ3"
   },
   "source": [
    "*TODO: Insert your examples and your discussion here*"
   ]
  },
  {
   "cell_type": "code",
   "execution_count": 55,
   "metadata": {
    "colab": {
     "base_uri": "https://localhost:8080/",
     "height": 35
    },
    "id": "aqIjl7pllvJ3",
    "outputId": "42f6893a-f08e-47fb-da2f-de3285e206bd"
   },
   "outputs": [
    {
     "data": {
      "application/vnd.google.colaboratory.intrinsic+json": {
       "type": "string"
      },
      "text/plain": [
       "'BERLIN'"
      ]
     },
     "execution_count": 55,
     "metadata": {
      "tags": []
     },
     "output_type": "execute_result"
    }
   ],
   "source": [
    "fourth(nlp.vocab['Stockholm'], nlp.vocab['Sweden'], nlp.vocab['Germany']).text"
   ]
  },
  {
   "cell_type": "code",
   "execution_count": 56,
   "metadata": {
    "colab": {
     "base_uri": "https://localhost:8080/",
     "height": 35
    },
    "id": "dALwmRzglvJ3",
    "outputId": "45927448-6d03-4a90-c908-68308d0a20f7"
   },
   "outputs": [
    {
     "data": {
      "application/vnd.google.colaboratory.intrinsic+json": {
       "type": "string"
      },
      "text/plain": [
       "'French'"
      ]
     },
     "execution_count": 56,
     "metadata": {
      "tags": []
     },
     "output_type": "execute_result"
    }
   ],
   "source": [
    "fourth(nlp.vocab['Swedish'], nlp.vocab['Sweden'], nlp.vocab['France']).text"
   ]
  },
  {
   "cell_type": "code",
   "execution_count": 57,
   "metadata": {
    "colab": {
     "base_uri": "https://localhost:8080/",
     "height": 35
    },
    "id": "Ox3G6qDQlvJ3",
    "outputId": "fc0da1bb-6ee9-4e0a-df61-b8d27cdda428"
   },
   "outputs": [
    {
     "data": {
      "application/vnd.google.colaboratory.intrinsic+json": {
       "type": "string"
      },
      "text/plain": [
       "'WORSE'"
      ]
     },
     "execution_count": 57,
     "metadata": {
      "tags": []
     },
     "output_type": "execute_result"
    }
   ],
   "source": [
    "fourth(nlp.vocab['better'], nlp.vocab['good'], nlp.vocab['bad']).text"
   ]
  },
  {
   "cell_type": "code",
   "execution_count": 58,
   "metadata": {
    "colab": {
     "base_uri": "https://localhost:8080/",
     "height": 35
    },
    "id": "xPW4QNLplvJ3",
    "outputId": "69dade27-c086-476a-8b30-2367b226d46d"
   },
   "outputs": [
    {
     "data": {
      "application/vnd.google.colaboratory.intrinsic+json": {
       "type": "string"
      },
      "text/plain": [
       "'Took'"
      ]
     },
     "execution_count": 58,
     "metadata": {
      "tags": []
     },
     "output_type": "execute_result"
    }
   ],
   "source": [
    "fourth(nlp.vocab['walked'], nlp.vocab['walk'], nlp.vocab['take']).text"
   ]
  },
  {
   "cell_type": "markdown",
   "metadata": {
    "id": "FcZtTAf4lvJ4"
   },
   "source": [
    "## Natural language inference dataset"
   ]
  },
  {
   "cell_type": "markdown",
   "metadata": {
    "id": "9gdOkK7ulvJ4"
   },
   "source": [
    "In the second part of this lab, you will be evaluating the usefulness of word embeddings in the context of a natural language inference task. The data for this part is the [SNLI corpus](https://nlp.stanford.edu/projects/snli/), a collection of 570k human-written English image caption pairs manually labeled with the labels *Entailment*, *Contradiction*, and *Neutral*. Consider the following sentence pair as an example:\n",
    "\n",
    "* Sentence 1: A soccer game with multiple males playing.\n",
    "* Sentence 2: Some men are playing a sport.\n",
    "\n",
    "This pair is labeled with *Entailment*, because sentence&nbsp;2 is logically entailed (implied) by sentence&nbsp;1 – if sentence&nbsp;1 is true, then sentence&nbsp;2 is true, too. The following sentence pair, on the other hand, is labeled with *Contradiction*, because both sentences cannot be true at the same time.\n",
    "\n",
    "* Sentence 1: A black race car starts up in front of a crowd of people.\n",
    "* Sentence 2: A man is driving down a lonely road.\n",
    "\n",
    "For detailed information about the corpus, refer to [Bowman et al. (2015)](https://www.aclweb.org/anthology/D15-1075/). For this lab, we load the training portion and the development portion of the dataset.\n",
    "\n",
    "**Note:** Because the SNLI corpus is rather big, we initially only load a small portion (25,000 samples) of the training data. Once you have working code for Problems&nbsp;4–6, you should set the flag `final` to `True` and re-run all cells with the full dataset."
   ]
  },
  {
   "cell_type": "code",
   "execution_count": 3,
   "metadata": {
    "colab": {
     "base_uri": "https://localhost:8080/"
    },
    "id": "-VnlHSMolvJ4",
    "outputId": "f619457f-eeaf-43b5-84a8-9d390af216a4"
   },
   "outputs": [
    {
     "name": "stdout",
     "output_type": "stream",
     "text": [
      "Number of sentence pairs in the training data: 549367\n",
      "Number of sentence pairs in the development data: 9842\n"
     ]
    }
   ],
   "source": [
    "import bz2\n",
    "import pandas as pd\n",
    "\n",
    "final_evaluation = True    # TODO: Set to True for the final evaluation!\n",
    "\n",
    "with bz2.open('train.jsonl.bz2', 'rt') as source:\n",
    "    if final_evaluation:\n",
    "        df_train = pd.read_json(source, lines=True)\n",
    "    else:\n",
    "        df_train = pd.read_json(source, lines=True, nrows=25000)\n",
    "    print('Number of sentence pairs in the training data:', len(df_train))\n",
    "\n",
    "with bz2.open('dev.jsonl.bz2', 'rt') as source:\n",
    "    df_dev = pd.read_json(source, lines=True)\n",
    "    print('Number of sentence pairs in the development data:', len(df_dev))"
   ]
  },
  {
   "cell_type": "markdown",
   "metadata": {
    "id": "AkIwpb6GlvJ4"
   },
   "source": [
    "When you inspect the data frames, you will see that we have preprocessed the sentences and separated tokens by spaces. In the columns `tagged1` and `tagged2`, we have added the part-of-speech tags for every token (as predicted by spaCy), also separated by spaces."
   ]
  },
  {
   "cell_type": "markdown",
   "metadata": {
    "id": "uhGGAhOmlvJ4"
   },
   "source": [
    "## Problem 4: Two simple baselines"
   ]
  },
  {
   "cell_type": "markdown",
   "metadata": {
    "id": "4d1ymebjlvJ4"
   },
   "source": [
    "Your first task is to establish two simple baselines for the natural language inference task."
   ]
  },
  {
   "cell_type": "code",
   "execution_count": 2,
   "metadata": {
    "id": "Xctup3RglvJ4"
   },
   "outputs": [],
   "source": [
    "from sklearn.pipeline import Pipeline\n",
    "from sklearn.feature_extraction.text import CountVectorizer\n",
    "from sklearn.dummy import DummyClassifier\n",
    "from sklearn.linear_model import LogisticRegression\n",
    "from sklearn.metrics import classification_report\n",
    "from sklearn.metrics import confusion_matrix, plot_confusion_matrix"
   ]
  },
  {
   "cell_type": "markdown",
   "metadata": {
    "id": "emfLeuholvJ4"
   },
   "source": [
    "### Random baseline\n",
    "\n",
    "Implement the standard random baseline that generates prediction by sampling from the empirical distribution of the classes in the training data. Write code to evaluate the performance of this classifier on the development data."
   ]
  },
  {
   "cell_type": "code",
   "execution_count": 61,
   "metadata": {
    "colab": {
     "base_uri": "https://localhost:8080/",
     "height": 279
    },
    "id": "f3QQtUTJlvJ4",
    "outputId": "18540aa2-c63d-4aa8-ff64-d63a323f99aa"
   },
   "outputs": [
    {
     "data": {
      "image/png": "[encoded data removed]",
      "text/plain": [
       "<Figure size 432x288 with 2 Axes>"
      ]
     },
     "metadata": {
      "needs_background": "light",
      "tags": []
     },
     "output_type": "display_data"
    }
   ],
   "source": [
    "# TODO: Enter code here to implement the random baseline. Print the classification report.\n",
    "\n",
    "pipe = Pipeline(steps=[('preprocessor', CountVectorizer()),\n",
    "                       ('model', DummyClassifier('stratified'))])\n",
    "\n",
    "fit_pipe = pipe.fit(df_train['sentence1'], df_train['gold_label'])\n",
    "\n",
    "plot_confusion_matrix(fit_pipe, df_dev['sentence1'], df_dev['gold_label'], cmap=plt.cm.Blues)\n",
    "\n",
    "plt.show()\n"
   ]
  },
  {
   "cell_type": "code",
   "execution_count": 62,
   "metadata": {
    "colab": {
     "base_uri": "https://localhost:8080/"
    },
    "id": "LvogQDJ3lvJ4",
    "outputId": "4a91884d-d528-496e-f032-88c8bff870df"
   },
   "outputs": [
    {
     "name": "stdout",
     "output_type": "stream",
     "text": [
      "               precision    recall  f1-score   support\n",
      "\n",
      "contradiction       0.33      0.34      0.34      3278\n",
      "   entailment       0.33      0.33      0.33      3329\n",
      "      neutral       0.31      0.31      0.31      3235\n",
      "\n",
      "     accuracy                           0.33      9842\n",
      "    macro avg       0.33      0.33      0.33      9842\n",
      " weighted avg       0.33      0.33      0.33      9842\n",
      "\n"
     ]
    }
   ],
   "source": [
    "preds = fit_pipe.predict(df_dev['sentence1'])\n",
    "\n",
    "print(classification_report(df_dev['gold_label'], preds, zero_division = 0))"
   ]
  },
  {
   "cell_type": "markdown",
   "metadata": {
    "id": "F5S9tKYUlvJ4"
   },
   "source": [
    "### One-sided baseline\n",
    "\n",
    "A second obvious baseline for the inference task is to predict the class label of a sentence pair based on the text of only one of the two sentences, just as in a standard document classification task. Put together a simple [CountVectorizer](https://scikit-learn.org/stable/modules/generated/sklearn.feature_extraction.text.CountVectorizer.html) + [LogisticRegression](https://scikit-learn.org/stable/modules/generated/sklearn.linear_model.LogisticRegression.html) pipeline that implements this idea, train it, and evaluate it on the development data. Is it better to base predictions on sentence&nbsp;1 or sentence&nbsp;2? Why should one sentence be more useful than the other?"
   ]
  },
  {
   "cell_type": "markdown",
   "metadata": {
    "id": "iIvOWlVMlvJ4"
   },
   "source": [
    "**Predictions based on 1st sentence**"
   ]
  },
  {
   "cell_type": "code",
   "execution_count": 63,
   "metadata": {
    "colab": {
     "base_uri": "https://localhost:8080/",
     "height": 0
    },
    "id": "bbPZbAqxlvJ4",
    "outputId": "665c3087-6e98-4901-d72a-37fec5a266f1"
   },
   "outputs": [
    {
     "name": "stderr",
     "output_type": "stream",
     "text": [
      "/usr/local/lib/python3.6/dist-packages/sklearn/linear_model/_logistic.py:940: ConvergenceWarning: lbfgs failed to converge (status=1):\n",
      "STOP: TOTAL NO. of ITERATIONS REACHED LIMIT.\n",
      "\n",
      "Increase the number of iterations (max_iter) or scale the data as shown in:\n",
      "    https://scikit-learn.org/stable/modules/preprocessing.html\n",
      "Please also refer to the documentation for alternative solver options:\n",
      "    https://scikit-learn.org/stable/modules/linear_model.html#logistic-regression\n",
      "  extra_warning_msg=_LOGISTIC_SOLVER_CONVERGENCE_MSG)\n"
     ]
    },
    {
     "data": {
      "image/png": "[encoded data removed]",
      "text/plain": [
       "<Figure size 432x288 with 2 Axes>"
      ]
     },
     "metadata": {
      "needs_background": "light",
      "tags": []
     },
     "output_type": "display_data"
    }
   ],
   "source": [
    "# Logistic Regression with Counter Words Vector representation - Default values\n",
    "\n",
    "pipe = Pipeline(steps=[('preprocessor', CountVectorizer()),\n",
    "                       ('model', LogisticRegression())])\n",
    "\n",
    "fit_pipe = pipe.fit(df_train['sentence1'], df_train['gold_label'])\n",
    "\n",
    "plot_confusion_matrix(fit_pipe, df_dev['sentence1'], df_dev['gold_label'], cmap=plt.cm.Blues)\n",
    "\n",
    "plt.show()"
   ]
  },
  {
   "cell_type": "code",
   "execution_count": 64,
   "metadata": {
    "colab": {
     "base_uri": "https://localhost:8080/"
    },
    "id": "ksHOdk1plvJ4",
    "outputId": "29596656-7dab-4d63-9791-3c5a5387c66e"
   },
   "outputs": [
    {
     "name": "stdout",
     "output_type": "stream",
     "text": [
      "               precision    recall  f1-score   support\n",
      "\n",
      "contradiction       0.33      0.25      0.29      3278\n",
      "   entailment       0.34      0.34      0.34      3329\n",
      "      neutral       0.33      0.41      0.36      3235\n",
      "\n",
      "     accuracy                           0.33      9842\n",
      "    macro avg       0.33      0.33      0.33      9842\n",
      " weighted avg       0.33      0.33      0.33      9842\n",
      "\n"
     ]
    }
   ],
   "source": [
    "preds = fit_pipe.predict(df_dev['sentence1'])\n",
    "\n",
    "print(classification_report(df_dev['gold_label'], preds, zero_division = 0))"
   ]
  },
  {
   "cell_type": "markdown",
   "metadata": {
    "id": "p6d5NOeQlvJ5"
   },
   "source": [
    "**Predictions based on 2nd sentence**"
   ]
  },
  {
   "cell_type": "code",
   "execution_count": 65,
   "metadata": {
    "colab": {
     "base_uri": "https://localhost:8080/",
     "height": 0
    },
    "id": "q1zDouZ9lvJ5",
    "outputId": "803acaf6-ca28-4a27-ad4a-928917d08486"
   },
   "outputs": [
    {
     "name": "stderr",
     "output_type": "stream",
     "text": [
      "/usr/local/lib/python3.6/dist-packages/sklearn/linear_model/_logistic.py:940: ConvergenceWarning: lbfgs failed to converge (status=1):\n",
      "STOP: TOTAL NO. of ITERATIONS REACHED LIMIT.\n",
      "\n",
      "Increase the number of iterations (max_iter) or scale the data as shown in:\n",
      "    https://scikit-learn.org/stable/modules/preprocessing.html\n",
      "Please also refer to the documentation for alternative solver options:\n",
      "    https://scikit-learn.org/stable/modules/linear_model.html#logistic-regression\n",
      "  extra_warning_msg=_LOGISTIC_SOLVER_CONVERGENCE_MSG)\n"
     ]
    },
    {
     "data": {
      "image/png": "[encoded data removed]",
      "text/plain": [
       "<Figure size 432x288 with 2 Axes>"
      ]
     },
     "metadata": {
      "needs_background": "light",
      "tags": []
     },
     "output_type": "display_data"
    }
   ],
   "source": [
    "# Logistic Regression with Counter Words Vector representation - Default values\n",
    "\n",
    "pipe = Pipeline(steps=[('preprocessor', CountVectorizer()),\n",
    "                       ('model', LogisticRegression())])\n",
    "\n",
    "fit_pipe = pipe.fit(df_train['sentence2'], df_train['gold_label'])\n",
    "\n",
    "plot_confusion_matrix(fit_pipe, df_dev['sentence2'], df_dev['gold_label'], cmap=plt.cm.Blues)\n",
    "\n",
    "plt.show()"
   ]
  },
  {
   "cell_type": "code",
   "execution_count": 66,
   "metadata": {
    "colab": {
     "base_uri": "https://localhost:8080/"
    },
    "id": "KznamdA4lvJ5",
    "outputId": "b86ada0d-7356-4b68-f150-ab4944e9ad3a"
   },
   "outputs": [
    {
     "name": "stdout",
     "output_type": "stream",
     "text": [
      "               precision    recall  f1-score   support\n",
      "\n",
      "contradiction       0.60      0.60      0.60      3278\n",
      "   entailment       0.59      0.64      0.62      3329\n",
      "      neutral       0.62      0.56      0.59      3235\n",
      "\n",
      "     accuracy                           0.60      9842\n",
      "    macro avg       0.60      0.60      0.60      9842\n",
      " weighted avg       0.60      0.60      0.60      9842\n",
      "\n"
     ]
    }
   ],
   "source": [
    "preds = fit_pipe.predict(df_dev['sentence2'])\n",
    "\n",
    "print(classification_report(df_dev['gold_label'], preds, zero_division = 0))"
   ]
  },
  {
   "cell_type": "markdown",
   "metadata": {
    "id": "bgXCw7yblvJ5"
   },
   "source": [
    "*TODO: Enter your answer to the discussion questions here*\n",
    "\n",
    "**Answer:**\n",
    "* The confusion matrices and the performance measures show that it is better to use sentence2 tp predict the class label of a sentence. The performance is better by 27% on average accuracy.\n",
    "* Sentence2 is more useful as the result of the prediction is based on the nature of this one in relation to sentence1. Sentence1 is only stating a fact. Therefore, the nature of sentence2 provides more information to the prediction. "
   ]
  },
  {
   "cell_type": "markdown",
   "metadata": {
    "id": "4COuQ6SUlvJ5"
   },
   "source": [
    "## Problem 5: A classifier based on manually engineered features"
   ]
  },
  {
   "cell_type": "markdown",
   "metadata": {
    "id": "G_TLMr9YlvJ8"
   },
   "source": [
    "[Bowman et al., 2015](https://www.aclweb.org/anthology/D15-1075/) evaluate a classifier that uses (among others) **cross-unigram features**. This term is used to refer to pairs of unigrams $(w_1, w_2)$ such that $w_1$ occurs in sentence&nbsp;1, $w_2$ occurs in sentence&nbsp;2, and both have been assigned the same part-of-speech tag.\n",
    "\n",
    "Your next task is to implement the cross-unigram classifier. To this end, the next cell contains skeleton code for a transformer that you can use as the first component in a classification pipeline. This transformer converts each row of the SNLI data frame into a space-separated string consisting of\n",
    "\n",
    "* the standard unigrams (of sentence&nbsp;1 or sentence&nbsp;2 – choose whichever performed better in Problem&nbsp;4)\n",
    "* the cross-unigrams, as described above.\n",
    "\n",
    "The space-separated string forms a new &lsquo;document&rsquo; that can be passed to a vectorizer in exactly the same way as a standard sentence in Problem&nbsp;4."
   ]
  },
  {
   "cell_type": "code",
   "execution_count": 4,
   "metadata": {
    "id": "vfS66LGYlvJ8"
   },
   "outputs": [],
   "source": [
    "from sklearn.base import BaseEstimator, TransformerMixin\n",
    "\n",
    "class CrossUnigramsTransformer(BaseEstimator, TransformerMixin):\n",
    "    def __init__(self):\n",
    "        pass\n",
    "\n",
    "    def fit(self, X, y=None):\n",
    "        return self\n",
    "\n",
    "    # Transform a single row of the dataframe.\n",
    "    def _transform(self, row):\n",
    "        # TODO: Replace the following line with your own code\n",
    "        \n",
    "        text = row[4].lower()\n",
    "\n",
    "        for i in range(len(row[2].split())):\n",
    "            word1 = row[2].split()[i].lower()\n",
    "            tag1 = row[3].split()[i]\n",
    "\n",
    "            for j in range(len(row[4].split())):\n",
    "                word2 = row[4].split()[j].lower()\n",
    "                tag2 = row[5].split()[j]\n",
    "\n",
    "                if tag1==tag2 and word1!=word2:\n",
    "                    crossunigram1 = word1 + '_' + word2\n",
    "                    crossunigram2 = word2 + '_' + word1\n",
    "\n",
    "                    if crossunigram1 not in text and crossunigram2 not in text:\n",
    "                        text = text + ' ' + crossunigram1\n",
    "\n",
    "        return text\n",
    "\n",
    "    def transform(self, X):\n",
    "        return [self._transform(row) for row in X.itertuples()]"
   ]
  },
  {
   "cell_type": "markdown",
   "metadata": {
    "id": "vfdimDSSlvJ8"
   },
   "source": [
    "Once you have an implementation of the transformer, extend the pipeline that you built for Problem&nbsp;4, train it, and evaluate it on the development data."
   ]
  },
  {
   "cell_type": "code",
   "execution_count": 68,
   "metadata": {
    "colab": {
     "base_uri": "https://localhost:8080/",
     "height": 414
    },
    "id": "ndZ6XWY6lvJ8",
    "outputId": "ed28cf3b-2506-48fa-958a-013deb67060f"
   },
   "outputs": [
    {
     "name": "stderr",
     "output_type": "stream",
     "text": [
      "/usr/local/lib/python3.6/dist-packages/sklearn/linear_model/_logistic.py:940: ConvergenceWarning: lbfgs failed to converge (status=1):\n",
      "STOP: TOTAL NO. of ITERATIONS REACHED LIMIT.\n",
      "\n",
      "Increase the number of iterations (max_iter) or scale the data as shown in:\n",
      "    https://scikit-learn.org/stable/modules/preprocessing.html\n",
      "Please also refer to the documentation for alternative solver options:\n",
      "    https://scikit-learn.org/stable/modules/linear_model.html#logistic-regression\n",
      "  extra_warning_msg=_LOGISTIC_SOLVER_CONVERGENCE_MSG)\n"
     ]
    },
    {
     "data": {
      "image/png": "[encoded data removed]",
      "text/plain": [
       "<Figure size 432x288 with 2 Axes>"
      ]
     },
     "metadata": {
      "needs_background": "light",
      "tags": []
     },
     "output_type": "display_data"
    }
   ],
   "source": [
    "# TODO: Enter code here to implement the cross-unigrams classifier. Print the classification report.\n",
    "\n",
    "pipe = Pipeline(steps=[('transformer', CrossUnigramsTransformer()),\n",
    "                       ('preprocessor', CountVectorizer()),\n",
    "                       ('model', LogisticRegression())])\n",
    "\n",
    "fit_pipe = pipe.fit(df_train, df_train['gold_label'])\n",
    "\n",
    "plot_confusion_matrix(fit_pipe, df_dev, df_dev['gold_label'], cmap=plt.cm.Blues)\n",
    "\n",
    "plt.show()"
   ]
  },
  {
   "cell_type": "markdown",
   "metadata": {
    "id": "Ew1kFhbNlvJ9"
   },
   "source": [
    "## Problem 6: A classifier based on word embeddings"
   ]
  },
  {
   "cell_type": "markdown",
   "metadata": {
    "id": "QoOxCIn5lvJ9"
   },
   "source": [
    "Your last task in this lab is to build a classifier for the natural language inference task that uses word embeddings. More specifically, we ask you to implement a vectorizer that represents each sentence as the sum of its word vectors – a representation known as the **continuous bag-of-words**. Thus, given that spaCy&rsquo;s word vectors have 300 dimensions, each sentence will be transformed into a 300-dimensional vector. To represent a sentence pair, the vectorizer should concatenate the vectors for the individual sentences; this yields a 600-dimensional vector. This vector can then be passed to a classifier.\n",
    "\n",
    "The next code cell contains skeleton code for the vectorizer. You will have to implement two methods: one that maps a single sentence to a vector (of length 300), and one that maps a sentence pair to a vector (of length 600)."
   ]
  },
  {
   "cell_type": "code",
   "execution_count": 5,
   "metadata": {
    "id": "WpliIkjhlvJ9"
   },
   "outputs": [],
   "source": [
    "import numpy as np\n",
    "\n",
    "from sklearn.base import BaseEstimator, TransformerMixin\n",
    "\n",
    "class PairedSentenceVectorizer(BaseEstimator, TransformerMixin):\n",
    "    def __init__(self):\n",
    "        pass\n",
    "\n",
    "    def fit(self, X, y=None):\n",
    "        return self\n",
    "\n",
    "    # Vectorize a single sentence.\n",
    "    def _transform1(self, sentence):\n",
    "        # TODO: Replace the following line with your own code\n",
    "        #sentence = row[2].split(' ')\n",
    "        word_vector = np.zeros(300)\n",
    "        for word in sentence:\n",
    "            word_vector = word_vector + nlp.vocab[word].vector\n",
    "        return word_vector\n",
    "    \n",
    "    # Vectorize a single row of the dataframe.\n",
    "    def _transform2(self, row):\n",
    "        # TODO: Replace the following line with your own code\n",
    "            \n",
    "        return np.concatenate((self._transform1(row[2]), self._transform1(row[4])))\n",
    "        \n",
    "\n",
    "    def transform(self, X):\n",
    "        return np.concatenate(\n",
    "            [self._transform2(row).reshape(1, -1) for row in X.itertuples()]\n",
    "        )"
   ]
  },
  {
   "cell_type": "markdown",
   "metadata": {
    "id": "N5GOg9nIlvJ9"
   },
   "source": [
    "Once you have a working implementation, build a pipeline consisting of the new vectorizer and a [multi-layer perceptron classifier](https://scikit-learn.org/stable/modules/generated/sklearn.neural_network.MLPClassifier.html). This more powerful (compared to logistic regression) classifier is called for here because we do not specify features by hand (as we did in Problem&nbsp;5), but want to let the model learn a good representation of the data by itself. Use 3&nbsp;hidden layers, each with size 300. It suffices to train the classifier for 8&nbsp;iterations (epochs)."
   ]
  },
  {
   "cell_type": "code",
   "execution_count": 72,
   "metadata": {
    "colab": {
     "base_uri": "https://localhost:8080/",
     "height": 333
    },
    "id": "Eie3WCrBlvJ9",
    "outputId": "2bbf867c-1b55-4715-c272-df474c194ad2"
   },
   "outputs": [
    {
     "name": "stderr",
     "output_type": "stream",
     "text": [
      "/usr/local/lib/python3.6/dist-packages/sklearn/neural_network/_multilayer_perceptron.py:571: ConvergenceWarning: Stochastic Optimizer: Maximum iterations (8) reached and the optimization hasn't converged yet.\n",
      "  % self.max_iter, ConvergenceWarning)\n"
     ]
    },
    {
     "data": {
      "image/png": "[encoded data removed]",
      "text/plain": [
       "<Figure size 432x288 with 2 Axes>"
      ]
     },
     "metadata": {
      "needs_background": "light",
      "tags": []
     },
     "output_type": "display_data"
    }
   ],
   "source": [
    "# TODO: Enter code here to implement the word embeddings classifier. Print the classification report.\n",
    "from sklearn.neural_network import MLPClassifier\n",
    "\n",
    "pipe = Pipeline(steps=[('transformer', PairedSentenceVectorizer()),\n",
    "                       ('nn', MLPClassifier(hidden_layer_sizes=(300,300,300), max_iter=8))])\n",
    "\n",
    "fit_pipe = pipe.fit(df_train, df_train['gold_label'])\n",
    "\n",
    "plot_confusion_matrix(fit_pipe, df_dev, df_dev['gold_label'], cmap=plt.cm.Blues)\n",
    "\n",
    "plt.show()"
   ]
  },
  {
   "cell_type": "markdown",
   "metadata": {
    "id": "bQqHzBw_lvJ9"
   },
   "source": [
    "## Problem 7: Final evaluation"
   ]
  },
  {
   "cell_type": "markdown",
   "metadata": {
    "id": "nHglzXL0lvJ9"
   },
   "source": [
    "Once you have working code for all problems, re-run Problems&nbsp;4–6 with the full training data. This will take quite a while (expect approximately 1&;nbsp;hour on Colab). **Make sure to not overwrite your previous results.** What are your results on the full data? How do they differ from the results that you obtained for the smaller training data? How do you interpret this? Summarize your findings in a short text."
   ]
  },
  {
   "cell_type": "code",
   "execution_count": 74,
   "metadata": {
    "id": "zcMmdJBtlvJ9"
   },
   "outputs": [],
   "source": [
    "# TODO: Enter your code for the full experiments here\n",
    "\n"
   ]
  },
  {
   "cell_type": "markdown",
   "metadata": {
    "id": "jpLht_OflvJ9"
   },
   "source": [
    "**Random baseline**"
   ]
  },
  {
   "cell_type": "code",
   "execution_count": 75,
   "metadata": {
    "colab": {
     "base_uri": "https://localhost:8080/",
     "height": 279
    },
    "id": "capWBSWSlvJ9",
    "outputId": "71498073-e3fd-478e-e6e3-7538ae09e57e"
   },
   "outputs": [
    {
     "data": {
      "image/png": "[encoded data removed]",
      "text/plain": [
       "<Figure size 432x288 with 2 Axes>"
      ]
     },
     "metadata": {
      "needs_background": "light",
      "tags": []
     },
     "output_type": "display_data"
    }
   ],
   "source": [
    "# TODO: Enter code here to implement the random baseline. Print the classification report.\n",
    "\n",
    "pipe = Pipeline(steps=[('preprocessor', CountVectorizer()),\n",
    "                       ('model', DummyClassifier('stratified'))])\n",
    "\n",
    "fit_pipe = pipe.fit(df_train['sentence1'], df_train['gold_label'])\n",
    "\n",
    "plot_confusion_matrix(fit_pipe, df_dev['sentence1'], df_dev['gold_label'], cmap=plt.cm.Blues)\n",
    "\n",
    "plt.show()\n"
   ]
  },
  {
   "cell_type": "markdown",
   "metadata": {
    "id": "mOie75c9lvJ9"
   },
   "source": [
    "**One-sided baseline**\n"
   ]
  },
  {
   "cell_type": "markdown",
   "metadata": {
    "id": "Q-0WcKXmlvJ9"
   },
   "source": [
    "**Predictions based on 1st sentence**"
   ]
  },
  {
   "cell_type": "code",
   "execution_count": 76,
   "metadata": {
    "colab": {
     "base_uri": "https://localhost:8080/",
     "height": 414
    },
    "id": "jy4zSQL3lvJ9",
    "outputId": "b9c0853d-ccc6-475e-f6cf-8449dea25b23"
   },
   "outputs": [
    {
     "name": "stderr",
     "output_type": "stream",
     "text": [
      "/usr/local/lib/python3.6/dist-packages/sklearn/linear_model/_logistic.py:940: ConvergenceWarning: lbfgs failed to converge (status=1):\n",
      "STOP: TOTAL NO. of ITERATIONS REACHED LIMIT.\n",
      "\n",
      "Increase the number of iterations (max_iter) or scale the data as shown in:\n",
      "    https://scikit-learn.org/stable/modules/preprocessing.html\n",
      "Please also refer to the documentation for alternative solver options:\n",
      "    https://scikit-learn.org/stable/modules/linear_model.html#logistic-regression\n",
      "  extra_warning_msg=_LOGISTIC_SOLVER_CONVERGENCE_MSG)\n"
     ]
    },
    {
     "data": {
      "image/png": "[encoded data removed]",
      "text/plain": [
       "<Figure size 432x288 with 2 Axes>"
      ]
     },
     "metadata": {
      "needs_background": "light",
      "tags": []
     },
     "output_type": "display_data"
    }
   ],
   "source": [
    "# Logistic Regression with Counter Words Vector representation - Default values\n",
    "\n",
    "pipe = Pipeline(steps=[('preprocessor', CountVectorizer()),\n",
    "                       ('model', LogisticRegression())])\n",
    "\n",
    "fit_pipe = pipe.fit(df_train['sentence1'], df_train['gold_label'])\n",
    "\n",
    "plot_confusion_matrix(fit_pipe, df_dev['sentence1'], df_dev['gold_label'], cmap=plt.cm.Blues)\n",
    "\n",
    "plt.show()"
   ]
  },
  {
   "cell_type": "markdown",
   "metadata": {
    "id": "ahXn-tcvlvJ9"
   },
   "source": [
    "**Predictions based on 2nd sentence**"
   ]
  },
  {
   "cell_type": "code",
   "execution_count": 77,
   "metadata": {
    "colab": {
     "base_uri": "https://localhost:8080/",
     "height": 414
    },
    "id": "gg7o0axvlvJ9",
    "outputId": "55155a9f-391b-4fcd-8a2f-e9bf7bde35de"
   },
   "outputs": [
    {
     "name": "stderr",
     "output_type": "stream",
     "text": [
      "/usr/local/lib/python3.6/dist-packages/sklearn/linear_model/_logistic.py:940: ConvergenceWarning: lbfgs failed to converge (status=1):\n",
      "STOP: TOTAL NO. of ITERATIONS REACHED LIMIT.\n",
      "\n",
      "Increase the number of iterations (max_iter) or scale the data as shown in:\n",
      "    https://scikit-learn.org/stable/modules/preprocessing.html\n",
      "Please also refer to the documentation for alternative solver options:\n",
      "    https://scikit-learn.org/stable/modules/linear_model.html#logistic-regression\n",
      "  extra_warning_msg=_LOGISTIC_SOLVER_CONVERGENCE_MSG)\n"
     ]
    },
    {
     "data": {
      "image/png": "[encoded data removed]",
      "text/plain": [
       "<Figure size 432x288 with 2 Axes>"
      ]
     },
     "metadata": {
      "needs_background": "light",
      "tags": []
     },
     "output_type": "display_data"
    }
   ],
   "source": [
    "# Logistic Regression with Counter Words Vector representation - Default values\n",
    "\n",
    "pipe = Pipeline(steps=[('preprocessor', CountVectorizer()),\n",
    "                       ('model', LogisticRegression())])\n",
    "\n",
    "fit_pipe = pipe.fit(df_train['sentence2'], df_train['gold_label'])\n",
    "\n",
    "plot_confusion_matrix(fit_pipe, df_dev['sentence2'], df_dev['gold_label'], cmap=plt.cm.Blues)\n",
    "\n",
    "plt.show()"
   ]
  },
  {
   "cell_type": "markdown",
   "metadata": {
    "id": "NzMXVd4xlvJ9"
   },
   "source": [
    "**A classifier based on manually engineered features**"
   ]
  },
  {
   "cell_type": "code",
   "execution_count": 78,
   "metadata": {
    "colab": {
     "base_uri": "https://localhost:8080/",
     "height": 414
    },
    "id": "J-i-gNdHlvJ9",
    "outputId": "8fa9db65-e885-4bea-b9fc-4e9bab29fdc9"
   },
   "outputs": [
    {
     "name": "stderr",
     "output_type": "stream",
     "text": [
      "/usr/local/lib/python3.6/dist-packages/sklearn/linear_model/_logistic.py:940: ConvergenceWarning: lbfgs failed to converge (status=1):\n",
      "STOP: TOTAL NO. of ITERATIONS REACHED LIMIT.\n",
      "\n",
      "Increase the number of iterations (max_iter) or scale the data as shown in:\n",
      "    https://scikit-learn.org/stable/modules/preprocessing.html\n",
      "Please also refer to the documentation for alternative solver options:\n",
      "    https://scikit-learn.org/stable/modules/linear_model.html#logistic-regression\n",
      "  extra_warning_msg=_LOGISTIC_SOLVER_CONVERGENCE_MSG)\n"
     ]
    },
    {
     "data": {
      "image/png": "[encoded data removed]",
      "text/plain": [
       "<Figure size 432x288 with 2 Axes>"
      ]
     },
     "metadata": {
      "needs_background": "light",
      "tags": []
     },
     "output_type": "display_data"
    }
   ],
   "source": [
    "# TODO: Enter code here to implement the cross-unigrams classifier. Print the classification report.\n",
    "\n",
    "pipe = Pipeline(steps=[('transformer', CrossUnigramsTransformer()),\n",
    "                       ('preprocessor', CountVectorizer()),\n",
    "                       ('model', LogisticRegression())])\n",
    "\n",
    "fit_pipe = pipe.fit(df_train, df_train['gold_label'])\n",
    "\n",
    "plot_confusion_matrix(fit_pipe, df_dev, df_dev['gold_label'], cmap=plt.cm.Blues)\n",
    "\n",
    "plt.show()"
   ]
  },
  {
   "cell_type": "markdown",
   "metadata": {
    "id": "fKzMpEZ9lvJ9"
   },
   "source": [
    "**A classifier based on word embeddings**"
   ]
  },
  {
   "cell_type": "code",
   "execution_count": 12,
   "metadata": {
    "colab": {
     "base_uri": "https://localhost:8080/",
     "height": 333
    },
    "id": "VnAtfPxRlvJ-",
    "outputId": "1793bb3f-a3cd-4067-aabd-0d45e4af617e"
   },
   "outputs": [
    {
     "name": "stderr",
     "output_type": "stream",
     "text": [
      "/usr/local/lib/python3.6/dist-packages/sklearn/neural_network/_multilayer_perceptron.py:571: ConvergenceWarning: Stochastic Optimizer: Maximum iterations (8) reached and the optimization hasn't converged yet.\n",
      "  % self.max_iter, ConvergenceWarning)\n"
     ]
    },
    {
     "data": {
      "image/png": "[encoded data removed]",
      "text/plain": [
       "<Figure size 432x288 with 2 Axes>"
      ]
     },
     "metadata": {
      "needs_background": "light",
      "tags": []
     },
     "output_type": "display_data"
    }
   ],
   "source": [
    "from sklearn.neural_network import MLPClassifier\n",
    "\n",
    "pipe = Pipeline(steps=[('transformer', PairedSentenceVectorizer()),\n",
    "                       ('nn', MLPClassifier(hidden_layer_sizes=(300,300,300), max_iter=8))])\n",
    "\n",
    "fit_pipe = pipe.fit(df_train, df_train['gold_label'])\n",
    "\n",
    "plot_confusion_matrix(fit_pipe, df_dev, df_dev['gold_label'], cmap=plt.cm.Blues)\n",
    "\n",
    "plt.show()"
   ]
  },
  {
   "cell_type": "markdown",
   "metadata": {},
   "source": [
    "**Answer:**\n",
    "* Random Baseline. Results are very similar, as expected.\n",
    "* 1-sided baseline. 1st sentence. The results are very similar. Contradictory labels are rarely predicted.\n",
    "* 1-sided baseline. 2nd sentence. The results improve, more data trains better the model but without dramatic changes.\n",
    "* Manually engineered features. Results are very similar in both cases. Although with more data they are better.\n",
    "* Word embeddings. In this model the result shows a relevant improvement. This is due that Neural Networks need more data to train. With less data some classical ML algorithms perform similarly as NN's, but NN's improve their performance a lot with more data."
   ]
  },
  {
   "cell_type": "markdown",
   "metadata": {
    "id": "Vm-8L5WBlvJ-"
   },
   "source": [
    "<div class=\"alert alert-info\">\n",
    "    Please read the section ‘General information’ on the ‘Labs’ page of the course website before submitting this notebook!\n",
    "</div>"
   ]
  }
 ],
 "metadata": {
  "colab": {
   "name": "TM-L4.ipynb",
   "provenance": []
  },
  "kernelspec": {
   "display_name": "Python 3",
   "language": "python",
   "name": "python3"
  },
  "language_info": {
   "codemirror_mode": {
    "name": "ipython",
    "version": 3
   },
   "file_extension": ".py",
   "mimetype": "text/x-python",
   "name": "python",
   "nbconvert_exporter": "python",
   "pygments_lexer": "ipython3",
   "version": "3.7.9"
  }
 },
 "nbformat": 4,
 "nbformat_minor": 1
}
