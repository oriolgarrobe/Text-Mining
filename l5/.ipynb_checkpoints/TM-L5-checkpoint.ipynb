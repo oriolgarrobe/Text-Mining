{
 "cells": [
  {
   "cell_type": "markdown",
   "metadata": {},
   "source": [
    "# L5: Information extraction"
   ]
  },
  {
   "cell_type": "markdown",
   "metadata": {},
   "source": [
    "Information extraction (IE) is the task of identifying named entities and semantic relations between these entities in text data. In this lab we will focus on two sub-tasks in IE, **named entity recognition** (identifying mentions of entities) and **entity linking** (matching these mentions to entities in a knowledge base)."
   ]
  },
  {
   "cell_type": "markdown",
   "metadata": {},
   "source": [
    "We start by loading spaCy:"
   ]
  },
  {
   "cell_type": "code",
   "execution_count": 1,
   "metadata": {},
   "outputs": [],
   "source": [
    "import spacy\n",
    "\n",
    "nlp = spacy.load('en_core_web_sm')"
   ]
  },
  {
   "cell_type": "markdown",
   "metadata": {},
   "source": [
    "The data that we will be using has been tokenized following the conventions of the [Penn Treebank](ftp://ftp.cis.upenn.edu/pub/treebank/public_html/tokenization.html), and we need to prevent spaCy from using its own tokenizer on top of this. We therefore override spaCy&rsquo;s tokenizer with one that simply splits on space."
   ]
  },
  {
   "cell_type": "code",
   "execution_count": 2,
   "metadata": {},
   "outputs": [],
   "source": [
    "from spacy.tokens import Doc\n",
    "\n",
    "class WhitespaceTokenizer(object):\n",
    "    def __init__(self, vocab):\n",
    "        self.vocab = vocab\n",
    "\n",
    "    def __call__(self, text):\n",
    "        return Doc(self.vocab, words=text.split(' '))\n",
    "\n",
    "nlp.tokenizer = WhitespaceTokenizer(nlp.vocab)"
   ]
  },
  {
   "cell_type": "markdown",
   "metadata": {},
   "source": [
    "## Data set"
   ]
  },
  {
   "cell_type": "markdown",
   "metadata": {},
   "source": [
    "The main data set for this lab is a collection of news wire articles in which mentions of named entities have been annotated with page names from the [English Wikipedia](https://en.wikipedia.org/wiki/). The next code cell loads the training and the development parts of the data into Pandas data frames."
   ]
  },
  {
   "cell_type": "code",
   "execution_count": 3,
   "metadata": {},
   "outputs": [],
   "source": [
    "import bz2\n",
    "import csv\n",
    "import pandas as pd\n",
    "\n",
    "with bz2.open('ner-train.tsv.bz2', 'rt') as source:\n",
    "    df_train = pd.read_csv(source, sep='\\t', quoting=csv.QUOTE_NONE)\n",
    "\n",
    "with bz2.open('ner-dev.tsv.bz2', 'rt') as source:\n",
    "    df_dev = pd.read_csv(source, sep='\\t', quoting=csv.QUOTE_NONE)"
   ]
  },
  {
   "cell_type": "markdown",
   "metadata": {},
   "source": [
    "Each row in these two data frames corresponds to one mention of a named entity and has five columns:\n",
    "\n",
    "1. a unique identifier for the sentence containing the entity mention\n",
    "2. the pre-tokenized sentence, with tokens separated by spaces\n",
    "3. the start position of the token span containing the entity mention\n",
    "4. the end position of the token span (exclusive, as in Python list indexing)\n",
    "5. the entity label; either a Wikipedia page name or the generic label `--NME--`\n",
    "\n",
    "The following cell prints the first five samples from the training data:"
   ]
  },
  {
   "cell_type": "code",
   "execution_count": 4,
   "metadata": {},
   "outputs": [
    {
     "data": {
      "text/html": [
       "<div>\n",
       "<style scoped>\n",
       "    .dataframe tbody tr th:only-of-type {\n",
       "        vertical-align: middle;\n",
       "    }\n",
       "\n",
       "    .dataframe tbody tr th {\n",
       "        vertical-align: top;\n",
       "    }\n",
       "\n",
       "    .dataframe thead th {\n",
       "        text-align: right;\n",
       "    }\n",
       "</style>\n",
       "<table border=\"1\" class=\"dataframe\">\n",
       "  <thead>\n",
       "    <tr style=\"text-align: right;\">\n",
       "      <th></th>\n",
       "      <th>sentence_id</th>\n",
       "      <th>sentence</th>\n",
       "      <th>beg</th>\n",
       "      <th>end</th>\n",
       "      <th>label</th>\n",
       "    </tr>\n",
       "  </thead>\n",
       "  <tbody>\n",
       "    <tr>\n",
       "      <th>0</th>\n",
       "      <td>0000-000</td>\n",
       "      <td>EU rejects German call to boycott British lamb .</td>\n",
       "      <td>0</td>\n",
       "      <td>1</td>\n",
       "      <td>--NME--</td>\n",
       "    </tr>\n",
       "    <tr>\n",
       "      <th>1</th>\n",
       "      <td>0000-000</td>\n",
       "      <td>EU rejects German call to boycott British lamb .</td>\n",
       "      <td>2</td>\n",
       "      <td>3</td>\n",
       "      <td>Germany</td>\n",
       "    </tr>\n",
       "    <tr>\n",
       "      <th>2</th>\n",
       "      <td>0000-000</td>\n",
       "      <td>EU rejects German call to boycott British lamb .</td>\n",
       "      <td>6</td>\n",
       "      <td>7</td>\n",
       "      <td>United_Kingdom</td>\n",
       "    </tr>\n",
       "    <tr>\n",
       "      <th>3</th>\n",
       "      <td>0000-001</td>\n",
       "      <td>Peter Blackburn</td>\n",
       "      <td>0</td>\n",
       "      <td>2</td>\n",
       "      <td>--NME--</td>\n",
       "    </tr>\n",
       "    <tr>\n",
       "      <th>4</th>\n",
       "      <td>0000-002</td>\n",
       "      <td>BRUSSELS 1996-08-22</td>\n",
       "      <td>0</td>\n",
       "      <td>1</td>\n",
       "      <td>Brussels</td>\n",
       "    </tr>\n",
       "  </tbody>\n",
       "</table>\n",
       "</div>"
      ],
      "text/plain": [
       "  sentence_id                                          sentence  beg  end  \\\n",
       "0    0000-000  EU rejects German call to boycott British lamb .    0    1   \n",
       "1    0000-000  EU rejects German call to boycott British lamb .    2    3   \n",
       "2    0000-000  EU rejects German call to boycott British lamb .    6    7   \n",
       "3    0000-001                                   Peter Blackburn    0    2   \n",
       "4    0000-002                               BRUSSELS 1996-08-22    0    1   \n",
       "\n",
       "            label  \n",
       "0         --NME--  \n",
       "1         Germany  \n",
       "2  United_Kingdom  \n",
       "3         --NME--  \n",
       "4        Brussels  "
      ]
     },
     "execution_count": 4,
     "metadata": {},
     "output_type": "execute_result"
    }
   ],
   "source": [
    "df_train.head()"
   ]
  },
  {
   "cell_type": "markdown",
   "metadata": {},
   "source": [
    "In this sample, we see that the first sentence is annotated with three entity mentions:\n",
    "\n",
    "* the span 0–1 &lsquo;EU&rsquo; is annotated as a mention but only labelled with the generic `--NME--`\n",
    "* the span 2–3 &lsquo;German&rsquo; is annotated with the page [Germany](http://en.wikipedia.org/wiki/Germany)\n",
    "* the span 6–7 &lsquo;British&rsquo; is annotated with the page [United_Kingdom](http://en.wikipedia.org/wiki/United_Kingdom)"
   ]
  },
  {
   "cell_type": "markdown",
   "metadata": {},
   "source": [
    "## Problem 1: Evaluation measures"
   ]
  },
  {
   "cell_type": "markdown",
   "metadata": {},
   "source": [
    "To warm up, we ask you to write code to print the three measures that you will be using for evaluation:"
   ]
  },
  {
   "cell_type": "code",
   "execution_count": 5,
   "metadata": {},
   "outputs": [],
   "source": [
    "def evaluation_report(gold, pred):\n",
    "    \"\"\"Print precision, recall, and F1 score.\n",
    "    \n",
    "    Args:\n",
    "        gold: The set with the gold-standard values.\n",
    "        pred: The set with the predicted values.\n",
    "    \n",
    "    Returns:\n",
    "        Nothing, but prints the precision, recall, and F1 values computed\n",
    "        based on the specified sets.\n",
    "    \"\"\"\n",
    "    # TODO: Replace the next line with your own code\n",
    "    \n",
    "    tp = gold.intersection(pred) # true positives\n",
    "    \n",
    "    precision = len(tp)/len(pred)\n",
    "    \n",
    "    recall = len(tp)/len(gold)\n",
    "    \n",
    "    f1 = 2*precision*recall/(precision+recall)\n",
    "    \n",
    "    print(f'Precision: {round(precision*100)}%\\n')\n",
    "    print(f'Recall: {round(recall*100)}%\\n')\n",
    "    print(f'F1-score: {round(f1*100)}%')"
   ]
  },
  {
   "cell_type": "markdown",
   "metadata": {},
   "source": [
    "To test your code, you can run the following cell:"
   ]
  },
  {
   "cell_type": "code",
   "execution_count": 6,
   "metadata": {},
   "outputs": [
    {
     "name": "stdout",
     "output_type": "stream",
     "text": [
      "Precision: 60%\n",
      "\n",
      "Recall: 100%\n",
      "\n",
      "F1-score: 75%\n"
     ]
    }
   ],
   "source": [
    "evaluation_report(set(range(3)), set(range(5)))"
   ]
  },
  {
   "cell_type": "markdown",
   "metadata": {},
   "source": [
    "This should give you a precision of 60%, a recall of 100%, and an F1-value of 75%."
   ]
  },
  {
   "cell_type": "markdown",
   "metadata": {},
   "source": [
    "## Problem 2: Span recognition"
   ]
  },
  {
   "cell_type": "markdown",
   "metadata": {},
   "source": [
    "One of the first tasks that an information extraction system has to solve is to locate and classify (mentions of) named entities, such as persons and organizations. Here we will tackle the simpler task of recognizing **spans** of tokens that contain an entity mention, without the actual entity label.\n",
    "\n",
    "The English language model in spaCy features a full-fledged [named entity recognizer](https://spacy.io/usage/linguistic-features#named-entities) that identifies a variety of entities, and can be updated with new entity types by the user. Your task in this problem is to evaluate the performance of this component when predicting entity spans in the development data.\n",
    "\n",
    "Start by implementing a generator function that yields the gold-standard spans in a given data frame.\n",
    "\n",
    "**Hint:** The Pandas method [`itertuples()`](https://pandas.pydata.org/pandas-docs/version/0.17.0/generated/pandas.DataFrame.itertuples.html) is useful when iterating over the rows in a DataFrame."
   ]
  },
  {
   "cell_type": "code",
   "execution_count": 7,
   "metadata": {},
   "outputs": [],
   "source": [
    "def gold_spans(df):\n",
    "    \"\"\"Yield the gold-standard mention spans in a data frame.\n",
    "\n",
    "    Args:\n",
    "        df: A data frame.\n",
    "\n",
    "    Yields:\n",
    "        The gold-standard mention spans in the specified data frame as\n",
    "        triples consisting of the sentence id, start position, and end\n",
    "        position of each span.\n",
    "    \"\"\"\n",
    "    # TODO: Replace the next line with your own code\n",
    "    \n",
    "    for row in df.itertuples():\n",
    "        yield (row[1],row[3],row[4])"
   ]
  },
  {
   "cell_type": "markdown",
   "metadata": {},
   "source": [
    "To test your code, you can count the spans yielded by your function. When called on the development data, you should get a total of 5,917 unique triples. The first triple and the last triple should be\n",
    "\n",
    "    ('0946-000', 2, 3)\n",
    "    ('1161-010', 1, 3)  "
   ]
  },
  {
   "cell_type": "code",
   "execution_count": 8,
   "metadata": {},
   "outputs": [
    {
     "name": "stdout",
     "output_type": "stream",
     "text": [
      "5917\n"
     ]
    }
   ],
   "source": [
    "spans_dev_gold = set(gold_spans(df_dev))\n",
    "print(len(spans_dev_gold))"
   ]
  },
  {
   "cell_type": "markdown",
   "metadata": {},
   "source": [
    "Your next task is to write code that calls spaCy to predict the named entities in the development data, and to evaluate the accuracy of these predictions in terms of precision, recall, and F1. Print these scores using the function that you wrote for Problem&nbsp;1."
   ]
  },
  {
   "cell_type": "code",
   "execution_count": 9,
   "metadata": {},
   "outputs": [],
   "source": [
    "# TODO: Write code here to run and evaluate the spaCy NER on the development data\n",
    "def predict(df):\n",
    "    for row in df.itertuples():\n",
    "        sentence = nlp(row[2])\n",
    "        for ent in sentence.ents:\n",
    "            start = sentence.text.split(' ').index(ent.text.split(' ')[0])\n",
    "            yield (row[1], start, start+len(ent.text.split(' ')))"
   ]
  },
  {
   "cell_type": "code",
   "execution_count": 10,
   "metadata": {},
   "outputs": [
    {
     "name": "stdout",
     "output_type": "stream",
     "text": [
      "Precision: 53%\n",
      "\n",
      "Recall: 67%\n",
      "\n",
      "F1-score: 59%\n"
     ]
    }
   ],
   "source": [
    "preds_dev_gold = set(predict(df_dev)) #predictions of dev data\n",
    "\n",
    "evaluation_report(spans_dev_gold, preds_dev_gold)"
   ]
  },
  {
   "cell_type": "markdown",
   "metadata": {},
   "source": [
    "## Problem 3: Error analysis"
   ]
  },
  {
   "cell_type": "markdown",
   "metadata": {},
   "source": [
    "As you were able to see in Problem&nbsp;2, the span accuracy of the named entity recognizer is far from perfect. In particular, only slightly more than half of the predicted spans are correct according to the gold standard. Your next task is to analyse this result in more detail.\n",
    "\n",
    "Here is a function that prints the false positives as well as the false negatives spans for a data frame, given a reference set of gold-standard spans and a candidate set of predicted spans."
   ]
  },
  {
   "cell_type": "code",
   "execution_count": 11,
   "metadata": {},
   "outputs": [],
   "source": [
    "from collections import defaultdict\n",
    "\n",
    "def error_report(df, spans_gold, spans_pred):\n",
    "    false_pos = defaultdict(list)\n",
    "    for s, b, e in spans_pred - spans_gold:\n",
    "        false_pos[s].append((b, e))\n",
    "    false_neg = defaultdict(list)\n",
    "    for s, b, e in spans_gold - spans_pred:\n",
    "        false_neg[s].append((b, e))\n",
    "    for row in df.drop_duplicates('sentence_id').itertuples():\n",
    "        if row.sentence_id in false_pos or row.sentence_id in false_neg:\n",
    "            print('Sentence:', row.sentence)\n",
    "            for b, e in false_pos[row.sentence_id]:\n",
    "                print('  FP:', ' '.join(row.sentence.split()[b:e]))\n",
    "            for b, e in false_neg[row.sentence_id]:\n",
    "                print('  FN:', ' '.join(row.sentence.split()[b:e]))"
   ]
  },
  {
   "cell_type": "markdown",
   "metadata": {},
   "source": [
    "Use this function to inspect and analyse the errors that the automated prediction makes. Can you see any patterns? Base your analysis on the first 500 rows of the training data. Summarize your observations in a short text."
   ]
  },
  {
   "cell_type": "code",
   "execution_count": 12,
   "metadata": {},
   "outputs": [],
   "source": [
    "# TODO: Write code here to do your analysis\n",
    "df_base = df_train.head(500)\n",
    "spans_gold = set(gold_spans(df_base))\n",
    "spans_pred = set(predict(df_base))"
   ]
  },
  {
   "cell_type": "code",
   "execution_count": 13,
   "metadata": {},
   "outputs": [
    {
     "name": "stdout",
     "output_type": "stream",
     "text": [
      "Sentence: The European Commission said on Thursday it disagreed with German advice to consumers to shun British lamb until scientists determine whether mad cow disease can be transmitted to sheep .\n",
      "  FP: The European Commission\n",
      "  FP: Thursday\n",
      "  FN: European Commission\n",
      "Sentence: Germany 's representative to the European Union 's veterinary committee Werner Zwingmann said on Wednesday consumers should buy sheepmeat from countries other than Britain until the scientific advice was clearer .\n",
      "  FP: the European Union 's\n",
      "  FP: Wednesday\n",
      "  FN: European Union\n",
      "Sentence: He said further scientific study was required and if it was found that action was needed it should be taken by the European Union .\n",
      "  FP: the European Union\n",
      "  FN: European Union\n",
      "Sentence: He said a proposal last month by EU Farm Commissioner Franz Fischler to ban sheep brains , spleens and spinal cords from the human and animal food chains was a highly specific and precautionary move to protect human health .\n",
      "  FP: last month\n",
      "  FP: EU Farm\n",
      "  FN: EU\n",
      "Sentence: Fischler proposed EU-wide measures after reports from Britain and France that under laboratory conditions sheep could contract Bovine Spongiform Encephalopathy ( BSE ) -- mad cow disease .\n",
      "  FN: BSE\n",
      "Sentence: The EU 's scientific veterinary and multidisciplinary committees are due to re-examine the issue early next month and make recommendations to the senior veterinary officials .\n",
      "  FP: early next month\n",
      "Sentence: Sheep have long been known to contract scrapie , a brain-wasting disease similar to BSE which is believed to have been transferred to cattle through feed containing animal waste .\n",
      "  FN: BSE\n",
      "Sentence: British farmers denied on Thursday there was any danger to human health from their sheep , but expressed concern that German government advice to consumers to avoid British lamb might influence consumers across Europe .\n",
      "  FP: Thursday\n",
      "  FN: British\n",
      "Sentence: \" What we have to be extremely careful of is how other countries are going to take Germany 's lead , \" Welsh National Farmers ' Union ( NFU ) chairman John Lloyd Jones said on BBC radio .\n",
      "  FP: BBC\n",
      "  FN: BBC radio\n",
      "Sentence: Bonn has led efforts to protect public health after consumer confidence collapsed in March after a British report suggested humans could contract an illness similar to mad cow disease by eating contaminated beef .\n",
      "  FP: March\n",
      "Sentence: Germany imported 47,600 sheep from Britain last year , nearly half of total imports .\n",
      "  FP: 47,600\n",
      "  FP: nearly half\n",
      "  FP: last year\n",
      "Sentence: It brought in 4,275 tonnes of British mutton , some 10 percent of overall imports .\n",
      "  FP: 4,275 tonnes\n",
      "  FP: some 10 percent\n",
      "Sentence: Rare Hendrix song draft sells for almost $ 17,000 .\n",
      "  FP: almost $ 17,000\n",
      "  FP: Rare Hendrix\n",
      "  FN: Hendrix\n",
      "Sentence: A rare early handwritten draft of a song by U.S. guitar legend Jimi Hendrix was sold for almost $ 17,000 on Thursday at an auction of some of the late musician 's favourite possessions .\n",
      "  FP: almost $ 17,000\n",
      "  FP: Thursday\n",
      "Sentence: A Florida restaurant paid 10,925 pounds ( $ 16,935 ) for the draft of \" Ai n't no telling \" , which Hendrix penned on a piece of London hotel stationery in late 1966 .\n",
      "  FP: 10,925 pounds\n",
      "  FP: 16,935\n",
      "  FP: late 1966\n",
      "  FN: Ai n't no telling\n",
      "Sentence: At the end of a January 1967 concert in the English city of Nottingham he threw the sheet of paper into the audience , where it was retrieved by a fan .\n",
      "  FP: the end of a January 1967\n",
      "Sentence: Buyers also snapped up 16 other items that were put up for auction by Hendrix 's former girlfriend Kathy Etchingham , who lived with him from 1966 to 1969 .\n",
      "  FP: 16\n",
      "  FP: 1966 to 1969\n",
      "Sentence: They included a black lacquer and mother of pearl inlaid box used by Hendrix to store his drugs , which an anonymous Australian purchaser bought for 5,060 pounds ( $ 7,845 ) .\n",
      "  FP: 7,845\n",
      "  FP: 5,060 pounds\n",
      "Sentence: China on Thursday accused Taipei of spoiling the atmosphere for a resumption of talks across the Taiwan Strait with a visit to Ukraine by Taiwanese Vice President Lien Chan this week that infuriated Beijing .\n",
      "  FP: this week\n",
      "  FP: the atmosphere for\n",
      "  FP: Thursday\n",
      "  FN: Taiwan Strait\n",
      "Sentence: Speaking only hours after Chinese state media said the time was right to engage in political talks with Taiwan , Foreign Ministry spokesman Shen Guofang told Reuters : \" The necessary atmosphere for the opening of the talks has been disrupted by the Taiwan authorities . \"\n",
      "  FP: only hours\n",
      "  FN: Taiwan\n",
      "Sentence: State media quoted China 's top negotiator with Taipei , Tang Shubei , as telling a visiting group from Taiwan on Wednesday that it was time for the rivals to hold political talks .\n",
      "  FP: Wednesday\n",
      "Sentence: that is to end the state of hostility , \" Thursday 's overseas edition of the People 's Daily quoted Tang as saying .\n",
      "  FP: Thursday\n",
      "  FP: the state of hostility\n",
      "  FN: People 's Daily\n",
      "Sentence: China , which has long opposed all Taipei efforts to gain greater international recognition , was infuriated by a visit to Ukraine this week by Taiwanese Vice President Lien .\n",
      "  FP: this week\n",
      "Sentence: Consultations should be held to set the time and format of the talks , the official Xinhua news agency quoted Tang Shubei , executive vice chairman of the Association for Relations Across the Taiwan Straits , as saying late on Wednesday .\n",
      "  FP: Xinhua news agency\n",
      "  FP: Wednesday\n",
      "  FP: the time and format of the talks ,\n",
      "  FN: Xinhua\n",
      "  FN: Association for Relations Across the Taiwan Straits\n",
      "Sentence: German July car registrations up 14.2 pct yr / yr .\n",
      "  FP: July\n",
      "  FP: 14.2\n",
      "  FN: German\n",
      "Sentence: German first-time registrations of motor vehicles jumped 14.2 percent in July this year from the year-earlier period , the Federal office for motor vehicles said on Thursday .\n",
      "  FP: 14.2 percent\n",
      "  FP: Thursday\n",
      "  FP: July this year\n",
      "  FN: Federal office for motor vehicles\n",
      "Sentence: Volkswagen AG won 77,719 registrations , slightly more than a quarter of the total .\n",
      "  FP: more than a quarter\n",
      "  FP: 77,719\n",
      "Sentence: Opel AG together with General Motors came in second place with 49,269 registrations , 16.4 percent of the overall figure .\n",
      "  FP: 49,269\n",
      "  FP: 16.4 percent\n",
      "  FP: second\n",
      "Sentence: Third was Ford with 35,563 registrations , or 11.7 percent .\n",
      "  FP: 35,563\n",
      "  FP: 11.7 percent\n",
      "  FP: Third\n",
      "Sentence: Only Seat and Porsche had fewer registrations in July 1996 compared to last year 's July .\n",
      "  FP: July 1996\n",
      "  FP: last year 's July\n",
      "  FN: Seat\n",
      "Sentence: Seat posted 3,420 registrations compared with 5522 registrations in July a year earlier .\n",
      "  FP: 5522\n",
      "  FP: 3,420\n",
      "  FP: July\n",
      "  FP: a year earlier\n",
      "  FN: Seat\n",
      "Sentence: Porsche 's registrations fell to 554 from 643 .\n",
      "  FP: 643\n",
      "  FP: 554\n",
      "Sentence: GREEK SOCIALISTS GIVE GREEN LIGHT TO PM FOR ELECTIONS .\n",
      "  FP: GREEK SOCIALISTS\n",
      "  FN: GREEK\n",
      "Sentence: ATHENS 1996-08-22\n",
      "  FP: 1996-08-22\n",
      "Sentence: The Greek socialist party 's executive bureau gave the green light to Prime Minister Costas Simitis to call snap elections , its general secretary Costas Skandalidis told reporters .\n",
      "  FN: Costas Skandalidis\n",
      "Sentence: Prime Minister Costas Simitis is going to make an official announcement after a cabinet meeting later on Thursday , said Skandalidis .\n",
      "  FP: Thursday\n",
      "Sentence: -- Dimitris Kontogiannis , Athens Newsroom +301 3311812-4\n",
      "  FP: -- Dimitris Kontogiannis\n",
      "  FN: Dimitris Kontogiannis\n",
      "Sentence: BayerVB sets C$ 100 million six-year bond .\n",
      "  FP: C$ 100 million\n",
      "  FN: BayerVB\n",
      "  FN: C$\n",
      "Sentence: BORROWER BAYERISCHE VEREINSBANK\n",
      "  FN: BAYERISCHE VEREINSBANK\n",
      "Sentence: AMT C$ 100 MLN COUPON 6.625 MATURITY 24.SEP.02\n",
      "  FP: 6.625\n",
      "  FP: 100\n",
      "  FN: C$\n",
      "Sentence: S&P = DENOMS ( K ) 1-10-100 SALE LIMITS US / UK / CA\n",
      "  FP: DENOMS\n",
      "  FP: K\n",
      "  FP: LIMITS US\n",
      "  FN: US\n",
      "  FN: S&P\n",
      "  FN: CA\n",
      "Sentence: GOV LAW GERMAN HOME CTRY = TAX PROVS STANDARD\n",
      "  FN: GERMAN\n",
      "Sentence: NOTES BAYERISCHE VEREINSBANK IS JOINT LEAD MANAGER\n",
      "  FN: BAYERISCHE VEREINSBANK\n",
      "Sentence: -- London Newsroom +44 171 542 7658\n",
      "  FP: London Newsroom +44\n",
      "  FP: 171\n",
      "  FN: London Newsroom\n",
      "Sentence: Venantius sets $ 300 million January 1999 FRN .\n",
      "  FP: $ 300 million\n",
      "  FP: January 1999\n",
      "Sentence: BORROWER VENANTIUS AB ( SWEDISH NATIONAL MORTGAGE AGENCY )\n",
      "  FP: SWEDISH NATIONAL MORTGAGE AGENCY\n",
      "  FP: BORROWER VENANTIUS AB\n",
      "  FN: SWEDISH\n",
      "  FN: VENANTIUS AB\n",
      "Sentence: TYPE FRN BASE 3M LIBOR PAY DATE S23.SEP.96\n",
      "  FN: 3M\n",
      "Sentence: LAST S&P AA+ REOFFER =\n",
      "  FN: S&P\n",
      "Sentence: LISTING LONDON DENOMS ( K ) 1-10-100 SALE LIMITS US / UK / JP / FR\n",
      "  FP: LISTING LONDON\n",
      "  FP: LIMITS US\n",
      "  FP: K\n",
      "  FN: JP\n",
      "  FN: LONDON\n",
      "  FN: FR\n",
      "  FN: US\n",
      "Sentence: GOV LAW ENGLISH HOME CTRY SWEDEN TAX PROVS STANDARD\n",
      "  FP: ENGLISH HOME CTRY SWEDEN TAX\n",
      "  FN: ENGLISH\n",
      "  FN: SWEDEN\n",
      "Sentence: -- London Newsroom +44 171 542 8863\n",
      "  FP: London Newsroom +44\n",
      "  FP: 171\n",
      "  FN: London Newsroom\n",
      "Sentence: Port conditions update - Syria - Lloyds Shipping .\n",
      "  FN: Lloyds Shipping\n",
      "Sentence: LATTAKIA , Aug 10 - waiting time at Lattakia and Tartous presently 24 hours .\n",
      "  FP: 10\n",
      "  FP: 24 hours\n",
      "  FN: Tartous\n",
      "Sentence: Israel 's outgoing peace negotiator with Syria said on Thursday current tensions between the two countries appeared to be a storm in a teacup .\n",
      "  FP: Thursday\n",
      "  FP: two\n",
      "Sentence: Itamar Rabinovich , who as Israel 's ambassador to Washington conducted unfruitful negotiations with Syria , told Israel Radio it looked like Damascus wanted to talk rather than fight .\n",
      "  FP: Israel 's\n",
      "  FN: Israel Radio\n",
      "Sentence: Israel on Wednesday sent Syria a message , via Washington , saying it was committed to peace and wanted to open negotiations without preconditions .\n",
      "  FP: Wednesday\n",
      "Sentence: Syria accused Israel on Wednesday of launching a hysterical campaign against it after Israeli television reported that Damascus had recently test fired a missile .\n",
      "  FP: Wednesday\n",
      "Sentence: \" The message that we sent to ( Syrian President Hafez al- ) Assad is that Israel is ready at any time without preconditions to enter peace negotiations , \" Israeli Foreign Minister David Levy told Israel Radio in an interview .\n",
      "  FP: Israel is\n",
      "  FN: Israel Radio\n",
      "Sentence: Tension has mounted since Israeli Prime Minister Benjamin Netanyahu took office in June vowing to retain the Golan Heights Israel captured from Syria in the 1967 Middle East war .\n",
      "  FP: June\n",
      "  FP: 1967\n",
      "Sentence: Israeli-Syrian peace talks have been deadlocked over the Golan since 1991 despite the previous government 's willingness to make Golan concessions .\n",
      "  FP: 1991\n",
      "  FN: Golan\n",
      "  FN: Israeli-Syrian\n",
      "Sentence: We do not want a war , God forbid .\n",
      "  FN: God\n",
      "Sentence: Israel 's Channel Two television said Damascus had sent a \" calming signal \" to Israel .\n",
      "  FN: Israel\n",
      "Sentence: The television also said that Netanyahu had sent messages to reassure Syria via Cairo , the United States and Moscow .\n",
      "  FP: the United States\n",
      "  FN: United States\n",
      "Sentence: TUNIS 1996-08-22\n",
      "  FN: TUNIS\n",
      "Sentence: A Polish diplomat on Thursday denied a Polish tabloid report this week that Libya was refusing exit visas to 100 Polish nurses trying to return home after working in the North African country .\n",
      "  FP: 100\n",
      "  FP: Thursday\n",
      "  FP: this week\n",
      "  FN: Polish\n",
      "  FN: Polish\n",
      "Sentence: Up to today , we have no knowledge of any nurse stranded or kept in Libya without her will , and we have not received any complaint , \" the Polish embassy 's charge d'affaires in Tripoli , Tadeusz Awdankiewicz , told Reuters by telephone .\n",
      "  FP: today\n",
      "Sentence: Poland 's labour ministry said this week it would send a team to Libya to investigate , but Awdankiewicz said the probe was prompted by some nurses complaining about their work conditions such as non-payment of their salaries .\n",
      "  FP: this week\n",
      "  FP: labour ministry\n",
      "Sentence: He said that there are an estimated 800 Polish nurses working in Libya .\n",
      "  FP: an estimated 800\n",
      "Sentence: Two Iranian opposition leaders meet in Baghdad .\n",
      "  FP: Two\n",
      "Sentence: BAGHDAD 1996-08-22\n",
      "  FN: BAGHDAD\n",
      "Sentence: An Iranian exile group based in Iraq vowed on Thursday to extend support to Iran 's Kurdish rebels after they were attacked by Iranian troops deep inside Iraq last month .\n",
      "  FP: Thursday\n",
      "  FP: last month\n",
      "  FN: Iranian\n",
      "  FN: Iraq\n",
      "Sentence: A Mujahideen Khalq statement said its leader Massoud Rajavi met in Baghdad the Secretary-General of the Kurdistan Democratic Party of Iran ( KDPI ) Hassan Rastegar on Wednesday and voiced his support to Iran 's rebel Kurds .\n",
      "  FP: Wednesday\n",
      "  FP: the Secretary-General of the Kurdistan Democratic\n",
      "  FP: Iran\n",
      "  FN: Iran\n",
      "  FN: Kurdistan Democratic Party of Iran\n",
      "  FN: Mujahideen Khalq\n",
      "Sentence: \" Rajavi emphasised that the Iranian Resistance would continue to stand side by side with their Kurdish compatriots and the resistance movement in Iranian Kurdistan , \" it said .\n",
      "  FP: Kurdistan\n",
      "  FP: the Iranian Resistance\n",
      "  FN: Rajavi\n",
      "  FN: Resistance\n",
      "  FN: Iranian Kurdistan\n",
      "Sentence: A spokesman for the group said the meeting \" signals a new level of cooperation between Mujahideen Khalq and the Iranian Kurdish oppositions \" .\n",
      "  FP: Iranian\n",
      "  FP: Kurdish\n",
      "  FN: Iranian Kurdish\n",
      "Sentence: Iran heavily bombarded targets in northern Iraq in July in pursuit of KDPI guerrillas based in Iraqi Kurdish areas outside the control of the government in Baghdad .\n",
      "  FP: July\n",
      "  FP: Kurdish\n",
      "  FP: Iraqi\n",
      "  FN: Iraqi Kurdish\n",
      "Sentence: Iraqi Kurdish areas bordering Iran are under the control of guerrillas of the Iraqi Kurdish Patriotic Union of Kurdistan ( PUK ) group .\n",
      "  FP: the control of guerrillas of the Iraqi\n",
      "  FP: Iraqi\n",
      "  FP: Kurdish\n",
      "  FN: PUK\n",
      "  FN: Iraqi Kurdish\n",
      "  FN: Iraqi Kurdish Patriotic Union of Kurdistan\n",
      "Sentence: PUK and Iraq 's Kurdistan Democratic Party ( KDP ) the two main Iraqi Kurdish factions , have had northern Iraq under their control since Iraqi forces were ousted from Kuwait in the 1991 Gulf War .\n",
      "  FP: Kurdish\n",
      "  FP: Iraqi\n",
      "  FP: the two main Iraqi\n",
      "  FP: two\n",
      "  FN: Iraq\n",
      "  FN: Gulf War\n",
      "  FN: Iraqi\n",
      "  FN: Iraqi Kurdish\n",
      "Sentence: Clashes between the two parties broke out at the weekend in the most serious fighting since a U.S.-sponsored ceasefire last year .\n",
      "  FP: two\n",
      "  FP: the two\n",
      "  FP: last year\n",
      "  FN: U.S.-sponsored\n",
      "Sentence: Mujahideen Khalq said Iranian troops had also been shelling KDP positions in Qasri region in Suleimaniya province near the Iranian border over the last two days .\n",
      "  FP: Suleimaniya province\n",
      "  FP: the Iranian border over\n",
      "  FN: Iranian\n",
      "  FN: Suleimaniya\n",
      "Sentence: It said about 100 Iraqi Kurds were killed or wounded in the attack .\n",
      "  FP: about 100\n",
      "  FP: Iraqi\n",
      "  FP: Kurds\n",
      "  FN: Iraqi Kurds\n",
      "Sentence: A U.S.-led air force in southern Turkey protects Iraqi Kurds from possible attacks by Baghdad troops .\n",
      "  FN: U.S.-led\n",
      "Sentence: MANAMA 1996-08-22\n",
      "  FN: MANAMA\n",
      "Sentence: The spot Saudi riyal against the dollar and riyal interbank deposit rates were mainly steady this week in quiet summer trade , dealers in the kingdom said .\n",
      "  FP: this week\n",
      "  FP: summer\n",
      "  FP: kingdom\n",
      "Sentence: One-month interbank deposits were at 5-1/2 , 3/8 percent , three months were 5-5/8 , 1/2 percent and six months were 5-3/4 , 5/8 percent .\n",
      "  FP: six months\n",
      "  FP: 5-5/8\n",
      "  FP: 1/2 percent\n",
      "  FP: 3/8 percent\n",
      "  FP: 5/8 percent\n",
      "  FP: three months\n",
      "  FP: 5-1/2\n",
      "  FP: 5-3/4\n",
      "  FN: One-month\n",
      "Sentence: One-year funds were at six , 5-7/8 percent .\n",
      "  FP: six\n",
      "  FP: 5-7/8 percent\n",
      "  FN: One-year\n",
      "Sentence: Israel gave Palestinian President Yasser Arafat permission on Thursday to fly over its territory to the West Bank , ending a brief Israeli-PLO crisis , an Arafat adviser said .\n",
      "  FP: the West Bank\n",
      "  FP: Arafat\n",
      "  FP: Thursday\n",
      "  FN: West Bank\n",
      "  FN: Arafat\n",
      "Sentence: The president 's aircraft has received permission to pass through Israeli airspace but the president is not expected to travel to the West Bank before Monday , \" Nabil Abu Rdainah told Reuters .\n",
      "  FP: the president is\n",
      "  FP: Monday\n",
      "  FN: West Bank\n",
      "Sentence: Arafat had been scheduled to meet former Israeli prime minister Shimon Peres in the West Bank town of Ramallah on Thursday but the venue was changed to Gaza after Israel denied flight clearance to the Palestinian leader 's helicopters .\n",
      "  FP: Thursday\n",
      "Sentence: Arafat subsequently cancelled a meeting between Israeli and PLO officials , on civilian affairs , at the Allenby Bridge crossing between Jordan and the West Bank .\n",
      "  FP: the Allenby Bridge\n",
      "  FN: Allenby Bridge\n",
      "  FN: West Bank\n",
      "Sentence: Abu Rdainah said Arafat had decided against flying to the West Bank on Thursday , after Israel lifted the ban , because he had a busy schedule in Gaza and would not be free until Monday .\n",
      "  FP: the West Bank\n",
      "  FP: Monday\n",
      "  FP: Thursday\n",
      "  FN: West Bank\n",
      "Sentence: Yasser Arafat will meet Shimon Peres in Gaza on Thursday after Palestinians said the right-wing Israeli government had barred the Palestinian leader from flying to the West Bank for talks with the former prime minister .\n",
      "  FP: Thursday\n",
      "  FP: the right-wing Israeli\n",
      "  FN: West Bank\n",
      "Sentence: \" The meeting between Peres and Arafat will take place at Erez checkpoint in Gaza and not in Ramallah as planned , \" Peres ' office said .\n",
      "  FP: Erez checkpoint\n",
      "  FN: Peres\n",
      "  FN: Erez\n",
      "Sentence: Palestinian officials said the Israeli government had barred Arafat from overflying Israel in a Palestinian helicopter to the West Bank in an attempt to bar the meeting with Peres .\n",
      "  FP: the Israeli government\n",
      "  FN: West Bank\n",
      "  FN: Palestinian\n",
      "Sentence: Israeli Prime Minister Benjamin Netanyahu has accused opposition leader Peres , who he defeated in May elections , of trying to undermine his Likud government 's authority to conduct peace talks .\n",
      "  FP: May\n",
      "Sentence: Afghan UAE embassy says Taleban guards going home .\n",
      "  FP: Afghan UAE embassy\n",
      "  FN: UAE\n",
      "  FN: Afghan\n",
      "  FN: Taleban\n",
      "Sentence: Hilary Gush\n",
      "  FN: Hilary Gush\n",
      "Sentence: DUBAI 1996-08-22\n",
      "  FP: 1996-08-22\n",
      "Sentence: Three Afghan guards brought to the United Arab Emirates last week by Russian hostages who escaped from the Taleban militia will return to Afghanistan in a few days , the Afghan embassy in Abu Dhabi said on Thursday .\n",
      "  FP: Thursday\n",
      "  FP: last week\n",
      "  FP: Three\n",
      "  FP: the United Arab Emirates\n",
      "  FP: a few days\n",
      "  FN: Afghan\n",
      "  FN: United Arab Emirates\n",
      "Sentence: \" Our ambassador is in touch with the UAE foreign ministry .\n",
      "  FP: the UAE foreign ministry\n",
      "  FN: UAE\n",
      "Sentence: Their return to Afghanistan will take place in two or three days , \" an embassy official said .\n",
      "  FP: two or three days\n",
      "Sentence: The three Islamic Taleban guards were overpowered by seven Russian aircrew who escaped to UAE state Sharjah last Friday on board their own aircraft after a year in the captivity of Taleban militia in Kandahar in southern Afghanistan .\n",
      "  FP: three\n",
      "  FP: Islamic\n",
      "  FP: Taleban\n",
      "  FP: seven\n",
      "  FP: last Friday\n",
      "  FP: UAE state\n",
      "  FN: Islamic Taleban\n",
      "  FN: Sharjah\n",
      "  FN: Taleban\n",
      "  FN: UAE\n",
      "Sentence: The UAE said on Monday it would hand over the three to the International Red Crescent , possibly last Tuesday .\n",
      "  FP: three\n",
      "  FP: last Tuesday\n",
      "  FP: the three to the\n",
      "  FP: Monday\n",
      "  FN: International Red Crescent\n",
      "Sentence: When asked whether the three guards would travel back to Kandahar or the Afghan capital Kabul , the embassy official said : \" That has not been decided , but possibly Kandahar . \"\n",
      "  FP: three\n",
      "  FN: Kandahar\n",
      "Sentence: The embassy official said the three men , believed to be in their 20s , were currently in Abu Dhabi .\n",
      "  FP: three\n",
      "  FP: 20s\n",
      "Sentence: The Russians , working for the Aerostan firm in the Russian republic of Tatarstan , were taken hostage after a Taleban MiG-19 fighter forced their cargo plane to land in August 1995 .\n",
      "  FP: the Aerostan firm\n",
      "  FP: August 1995\n",
      "  FP: Taleban MiG-19\n",
      "  FN: Taleban\n",
      "  FN: Russian\n",
      "  FN: MiG-19\n",
      "Sentence: The Russians , who said they overpowered the guards -- two armed with Kalashnikov automatic rifles -- while doing regular maintenance work on their Ilyushin 76 cargo plane last Friday , left the UAE capital Abu Dhabi for home on Sunday .\n",
      "  FP: Ilyushin 76 cargo plane\n",
      "  FP: two\n",
      "  FP: last Friday\n",
      "  FP: Sunday\n",
      "  FN: Ilyushin 76\n",
      "Sentence: BAGHDAD 1996-08-22\n",
      "  FN: BAGHDAD\n",
      "Sentence: Iraqi President Saddam Hussein has told visiting Russian ultra-nationalist Vladimir Zhirinovsky that Baghdad wanted to maintain \" friendship and cooperation \" with Moscow , official Iraqi newspapers said on Thursday .\n",
      "  FP: Thursday\n",
      "  FN: Iraqi\n",
      "Sentence: They said Zhirinovsky told Saddam before he left Baghdad on Wednesday that his Liberal Democratic party and the Russian Duma ( parliament ) \" are calling for an immediate lifting of the embargo \" imposed on Iraq after its 1990 invasion of Kuwait .\n",
      "  FP: Liberal Democratic\n",
      "  FP: 1990\n",
      "  FP: Wednesday\n",
      "  FP: the Russian Duma\n",
      "  FN: Russian\n",
      "  FN: Duma\n",
      "  FN: Liberal Democratic party\n",
      "Sentence: Zhirinovsky said on Tuesday he would press the Russian government to help end U.N. trade sanctions on Iraq and blamed Moscow for delaying establishment of good ties with Baghdad .\n",
      "  FP: Tuesday\n",
      "Sentence: \" Our stand is firm , namely we are calling on ( the Russian ) government to end the economic embargo on Iraq and resume trade ties between Russia and Iraq , \" he told reporters .\n",
      "  FN: Iraq\n",
      "Sentence: Zhirinovsky visited Iraq twice in 1995 .\n",
      "  FP: 1995\n",
      "Sentence: Last October he was invited to attend the referendum held on Iraq 's presidency , which extended Saddam 's term for seven more years .\n",
      "  FP: Last October\n",
      "  FP: seven more years\n",
      "Sentence: PRESS DIGEST - Iraq - Aug 22 .\n",
      "  FP: 22\n",
      "  FN: Iraq\n",
      "Sentence: BAGHDAD 1996-08-22\n",
      "  FN: BAGHDAD\n",
      "Sentence: These are some of the leading stories in the official Iraqi press on Thursday .\n",
      "  FP: Thursday\n",
      "Sentence: THAWRA\n",
      "  FN: THAWRA\n",
      "Sentence: - Turkish foreign minister says Turkey will take part in the Baghdad trade fair that will be held in November .\n",
      "  FP: November\n",
      "Sentence: IRAQ\n",
      "  FN: IRAQ\n",
      "Sentence: - A shipload of 12 tonnes of rice arrives in Umm Qasr port in the Gulf .\n",
      "  FP: 12 tonnes\n",
      "Sentence: PRESS DIGEST - Lebanon - Aug 22 .\n",
      "  FP: 22\n",
      "  FN: Lebanon\n",
      "Sentence: These are the leading stories in the Beirut press on Thursday .\n",
      "  FP: Thursday\n",
      "Sentence: AN-NAHAR\n",
      "  FN: AN-NAHAR\n",
      "Sentence: AS-SAFIR\n",
      "  FN: AS-SAFIR\n",
      "Sentence: - Continued criticism of law violation incidents -- which occurred in the Mount Lebanon elections last Sunday .\n",
      "  FP: last Sunday\n",
      "Sentence: AD-DIYAR\n",
      "  FN: AD-DIYAR\n",
      "Sentence: - Hariri to step into the election battle with an incomplete list .\n",
      "  FN: Hariri\n",
      "Sentence: NIDA'A AL-WATAN\n",
      "  FN: NIDA'A AL-WATAN\n",
      "Sentence: - Maronite Patriarch Sfeir expressed sorrow over the violations in Sunday ' elections .\n",
      "  FP: Sunday\n",
      "  FN: Sfeir\n",
      "  FN: Maronite\n",
      "Sentence: Early calls on CME live and feeder cattle futures ranged from 0.200 cent higher to 0.100 lower , livestock analysts said .\n",
      "  FP: 0.100\n",
      "  FP: 0.200 cent\n",
      "Sentence: MONTGOMERY , Ala .\n",
      "  FN: MONTGOMERY\n",
      "Sentence: KinderCare Learning Centers Inc said on Thursday that a debt buyback would mean an extraordinary loss of $ 1.2 million in its fiscal 1997 first quarter .\n",
      "  FP: $ 1.2 million\n",
      "  FP: fiscal 1997 first quarter\n",
      "  FP: Thursday\n",
      "Sentence: RESEARCH ALERT - Lehman starts SNET .\n",
      "  FP: SNET\n",
      "  FN: Lehman\n"
     ]
    }
   ],
   "source": [
    "error_report(df_base, spans_gold, spans_pred)"
   ]
  },
  {
   "cell_type": "markdown",
   "metadata": {},
   "source": [
    "*TODO: Write a short text that summarises the errors that you observed*\n",
    "\n",
    "**Answer:**\n",
    "* Predicted 'The European Comission' instead of 'European Comission'. Some predictions contain less words than the gold-label, however it is difficult to descifer which is the logic behind the prediction. \n",
    "* Predicted dates. The gold-label set does not contain dates, therefore they will be removed from the prediction. \n",
    "* Predicted numeric values. The gold-label set does not contain numeric values, they will also be removed."
   ]
  },
  {
   "cell_type": "markdown",
   "metadata": {},
   "source": [
    "Now, use the insights from your error analysis to improve the automated prediction that you implemented in Problem&nbsp;2. While the best way to do this would be to [update spaCy&rsquo;s NER model](https://spacy.io/usage/linguistic-features#updating) using domain-specific training data, for this lab it suffices to write code to post-process the output produced by spaCy. You should be able to improve the F1 score from Problem&nbsp;2 by at last 15 percentage points."
   ]
  },
  {
   "cell_type": "code",
   "execution_count": 14,
   "metadata": {},
   "outputs": [],
   "source": [
    "# TODO: Write code here to improve the span prediction from Problem 2\n",
    "def predict_improved(df):\n",
    "    wrong_label = ['DATE', 'CARDINAL', 'QUANTITY', 'PERCENT', 'MONEY', 'TIME', 'NAME', 'ORDINAL', 'PRODUCT']\n",
    "    for row in df.itertuples():\n",
    "        sentence = nlp(row[2])\n",
    "        for ent in sentence.ents:\n",
    "            if ent.label_ not in wrong_label:\n",
    "                start = sentence.text.split(' ').index(ent.text.split(' ')[0])\n",
    "                yield (row[1], start, start+len(ent.text.split(' ')))"
   ]
  },
  {
   "cell_type": "code",
   "execution_count": 15,
   "metadata": {
    "scrolled": true
   },
   "outputs": [
    {
     "name": "stdout",
     "output_type": "stream",
     "text": [
      "Precision: 83%\n",
      "\n",
      "Recall: 66%\n",
      "\n",
      "F1-score: 74%\n"
     ]
    }
   ],
   "source": [
    "preds_dev_gold = set(predict_improved(df_dev)) #predictions of dev data\n",
    "\n",
    "evaluation_report(spans_dev_gold, preds_dev_gold)"
   ]
  },
  {
   "cell_type": "code",
   "execution_count": 16,
   "metadata": {},
   "outputs": [
    {
     "data": {
      "text/html": [
       "<div>\n",
       "<style scoped>\n",
       "    .dataframe tbody tr th:only-of-type {\n",
       "        vertical-align: middle;\n",
       "    }\n",
       "\n",
       "    .dataframe tbody tr th {\n",
       "        vertical-align: top;\n",
       "    }\n",
       "\n",
       "    .dataframe thead th {\n",
       "        text-align: right;\n",
       "    }\n",
       "</style>\n",
       "<table border=\"1\" class=\"dataframe\">\n",
       "  <thead>\n",
       "    <tr style=\"text-align: right;\">\n",
       "      <th></th>\n",
       "      <th>sentence_id</th>\n",
       "      <th>sentence</th>\n",
       "      <th>beg</th>\n",
       "      <th>end</th>\n",
       "      <th>label</th>\n",
       "    </tr>\n",
       "  </thead>\n",
       "  <tbody>\n",
       "    <tr>\n",
       "      <th>0</th>\n",
       "      <td>0000-000</td>\n",
       "      <td>EU rejects German call to boycott British lamb .</td>\n",
       "      <td>0</td>\n",
       "      <td>1</td>\n",
       "      <td>--NME--</td>\n",
       "    </tr>\n",
       "    <tr>\n",
       "      <th>1</th>\n",
       "      <td>0000-000</td>\n",
       "      <td>EU rejects German call to boycott British lamb .</td>\n",
       "      <td>2</td>\n",
       "      <td>3</td>\n",
       "      <td>Germany</td>\n",
       "    </tr>\n",
       "    <tr>\n",
       "      <th>2</th>\n",
       "      <td>0000-000</td>\n",
       "      <td>EU rejects German call to boycott British lamb .</td>\n",
       "      <td>6</td>\n",
       "      <td>7</td>\n",
       "      <td>United_Kingdom</td>\n",
       "    </tr>\n",
       "    <tr>\n",
       "      <th>3</th>\n",
       "      <td>0000-001</td>\n",
       "      <td>Peter Blackburn</td>\n",
       "      <td>0</td>\n",
       "      <td>2</td>\n",
       "      <td>--NME--</td>\n",
       "    </tr>\n",
       "    <tr>\n",
       "      <th>4</th>\n",
       "      <td>0000-002</td>\n",
       "      <td>BRUSSELS 1996-08-22</td>\n",
       "      <td>0</td>\n",
       "      <td>1</td>\n",
       "      <td>Brussels</td>\n",
       "    </tr>\n",
       "  </tbody>\n",
       "</table>\n",
       "</div>"
      ],
      "text/plain": [
       "  sentence_id                                          sentence  beg  end  \\\n",
       "0    0000-000  EU rejects German call to boycott British lamb .    0    1   \n",
       "1    0000-000  EU rejects German call to boycott British lamb .    2    3   \n",
       "2    0000-000  EU rejects German call to boycott British lamb .    6    7   \n",
       "3    0000-001                                   Peter Blackburn    0    2   \n",
       "4    0000-002                               BRUSSELS 1996-08-22    0    1   \n",
       "\n",
       "            label  \n",
       "0         --NME--  \n",
       "1         Germany  \n",
       "2  United_Kingdom  \n",
       "3         --NME--  \n",
       "4        Brussels  "
      ]
     },
     "execution_count": 16,
     "metadata": {},
     "output_type": "execute_result"
    }
   ],
   "source": [
    "df_train.head()"
   ]
  },
  {
   "cell_type": "markdown",
   "metadata": {},
   "source": [
    "Show that you achieve the performance goal by reporting the evaluation measures that you implemented in Problem&nbsp;1."
   ]
  },
  {
   "cell_type": "markdown",
   "metadata": {},
   "source": [
    "Before going on, we ask you to store the outputs of the improved named entity recognizer on the development data in a new data frame. This new frame should have the same layout as the original data frame for the development data that you loaded above, but should contain the *predicted* start and end positions for each token span, rather than the gold positions. As the `label` of each span, you can use the special value `--NME--`."
   ]
  },
  {
   "cell_type": "code",
   "execution_count": 17,
   "metadata": {},
   "outputs": [
    {
     "data": {
      "text/html": [
       "<div>\n",
       "<style scoped>\n",
       "    .dataframe tbody tr th:only-of-type {\n",
       "        vertical-align: middle;\n",
       "    }\n",
       "\n",
       "    .dataframe tbody tr th {\n",
       "        vertical-align: top;\n",
       "    }\n",
       "\n",
       "    .dataframe thead th {\n",
       "        text-align: right;\n",
       "    }\n",
       "</style>\n",
       "<table border=\"1\" class=\"dataframe\">\n",
       "  <thead>\n",
       "    <tr style=\"text-align: right;\">\n",
       "      <th></th>\n",
       "      <th>sentence-id</th>\n",
       "      <th>beg</th>\n",
       "      <th>end</th>\n",
       "      <th>label</th>\n",
       "    </tr>\n",
       "  </thead>\n",
       "  <tbody>\n",
       "    <tr>\n",
       "      <th>0</th>\n",
       "      <td>1011-004</td>\n",
       "      <td>19</td>\n",
       "      <td>21</td>\n",
       "      <td>--NME--</td>\n",
       "    </tr>\n",
       "    <tr>\n",
       "      <th>1</th>\n",
       "      <td>1007-024</td>\n",
       "      <td>18</td>\n",
       "      <td>19</td>\n",
       "      <td>--NME--</td>\n",
       "    </tr>\n",
       "    <tr>\n",
       "      <th>2</th>\n",
       "      <td>1033-007</td>\n",
       "      <td>24</td>\n",
       "      <td>26</td>\n",
       "      <td>--NME--</td>\n",
       "    </tr>\n",
       "    <tr>\n",
       "      <th>3</th>\n",
       "      <td>1049-003</td>\n",
       "      <td>11</td>\n",
       "      <td>12</td>\n",
       "      <td>--NME--</td>\n",
       "    </tr>\n",
       "    <tr>\n",
       "      <th>4</th>\n",
       "      <td>0983-005</td>\n",
       "      <td>1</td>\n",
       "      <td>2</td>\n",
       "      <td>--NME--</td>\n",
       "    </tr>\n",
       "  </tbody>\n",
       "</table>\n",
       "</div>"
      ],
      "text/plain": [
       "  sentence-id  beg  end    label\n",
       "0    1011-004   19   21  --NME--\n",
       "1    1007-024   18   19  --NME--\n",
       "2    1033-007   24   26  --NME--\n",
       "3    1049-003   11   12  --NME--\n",
       "4    0983-005    1    2  --NME--"
      ]
     },
     "execution_count": 17,
     "metadata": {},
     "output_type": "execute_result"
    }
   ],
   "source": [
    "# TODO: Write code here to store the predicted spans in a new data frame\n",
    "df_pred = pd.DataFrame(preds_dev_gold)\n",
    "df_pred['label'] = '--NME--'\n",
    "df_pred = df_pred.rename(columns={0: \"sentence-id\", 1: \"beg\", 2: \"end\"})\n",
    "df_pred.head()"
   ]
  },
  {
   "cell_type": "markdown",
   "metadata": {},
   "source": [
    "## Problem 4: Entity linking"
   ]
  },
  {
   "cell_type": "markdown",
   "metadata": {},
   "source": [
    "Now that we have a method for predicting mention spans, we turn to the task of **entity linking**, which amounts to predicting the knowledge base entity that is referenced by a given mention. In our case, for each span we want to predict the Wikipedia page that this mention references.\n",
    "\n",
    "Start by extending the generator function that you implemented in Problem&nbsp;2 to labelled spans."
   ]
  },
  {
   "cell_type": "code",
   "execution_count": 54,
   "metadata": {},
   "outputs": [],
   "source": [
    "def gold_mentions(df):\n",
    "    \"\"\"Yield the gold-standard mentions in a data frame.\n",
    "\n",
    "    Args:\n",
    "        df: A data frame.\n",
    "\n",
    "    Yields:\n",
    "        The gold-standard mention spans in the specified data frame as\n",
    "        quadruples consisting of the sentence id, start position, end\n",
    "        position and entity label of each span.\n",
    "    \"\"\"\n",
    "    # TODO: Replace the next line with your own code\n",
    "    for row in df.itertuples():\n",
    "        yield (row[1],row[3],row[4],row[5])"
   ]
  },
  {
   "cell_type": "markdown",
   "metadata": {},
   "source": [
    "A naive baseline for entity linking on our data set is to link each mention span to the Wikipedia page name that we get when we join the tokens in the span by underscores, as is standard in Wikipedia page names. Suppose, for example, that a span contains the two tokens\n",
    "\n",
    "    Jimi Hendrix\n",
    "\n",
    "The baseline Wikipedia page name for this span would be\n",
    "\n",
    "    Jimi_Hendrix\n",
    "\n",
    "Implement this naive baseline and evaluate its performance. Print the evaluation measures that you implemented in Problem&nbsp;1."
   ]
  },
  {
   "cell_type": "markdown",
   "metadata": {},
   "source": [
    "<div class=\"alert alert-warning\">\n",
    "    Here and in the remainder of this lab, you should base your entity predictions on the predicted spans that you computed in Problem&nbsp;3.\n",
    "</div>"
   ]
  },
  {
   "cell_type": "code",
   "execution_count": null,
   "metadata": {},
   "outputs": [],
   "source": [
    "# TODO: Write code here to implement the baseline\n"
   ]
  },
  {
   "cell_type": "markdown",
   "metadata": {},
   "source": [
    "## Problem 5: Extending the training data using the knowledge base"
   ]
  },
  {
   "cell_type": "markdown",
   "metadata": {},
   "source": [
    "State-of-the-art approaches to entity linking exploit information in knowledge bases. In our case, where Wikipedia is the knowledge base, one particularly useful type of information are links to other Wikipedia pages. In particular, we can interpret the anchor texts (the highlighted texts that you click on) as mentions of the entities (pages) that they link to. This allows us to harvest long lists of mention–entity pairings.\n",
    "\n",
    "The following cell loads a data frame summarizing anchor texts and page references harvested from the first paragraphs of the English Wikipedia. The data frame also contains all entity mentions in the training data (but not the development or the test data)."
   ]
  },
  {
   "cell_type": "code",
   "execution_count": 18,
   "metadata": {},
   "outputs": [],
   "source": [
    "with bz2.open('kb.tsv.bz2', 'rt') as source:\n",
    "    df_kb = pd.read_csv(source, sep='\\t', quoting=csv.QUOTE_NONE)"
   ]
  },
  {
   "cell_type": "markdown",
   "metadata": {},
   "source": [
    "To understand what information is available in this data, the following cell shows the entry for the anchor text `Sweden`."
   ]
  },
  {
   "cell_type": "code",
   "execution_count": 20,
   "metadata": {},
   "outputs": [
    {
     "data": {
      "text/html": [
       "<div>\n",
       "<style scoped>\n",
       "    .dataframe tbody tr th:only-of-type {\n",
       "        vertical-align: middle;\n",
       "    }\n",
       "\n",
       "    .dataframe tbody tr th {\n",
       "        vertical-align: top;\n",
       "    }\n",
       "\n",
       "    .dataframe thead th {\n",
       "        text-align: right;\n",
       "    }\n",
       "</style>\n",
       "<table border=\"1\" class=\"dataframe\">\n",
       "  <thead>\n",
       "    <tr style=\"text-align: right;\">\n",
       "      <th></th>\n",
       "      <th>mention</th>\n",
       "      <th>entity</th>\n",
       "      <th>prob</th>\n",
       "    </tr>\n",
       "  </thead>\n",
       "  <tbody>\n",
       "    <tr>\n",
       "      <th>17436</th>\n",
       "      <td>Sweden</td>\n",
       "      <td>Sweden</td>\n",
       "      <td>0.985768</td>\n",
       "    </tr>\n",
       "    <tr>\n",
       "      <th>17437</th>\n",
       "      <td>Sweden</td>\n",
       "      <td>Sweden_national_football_team</td>\n",
       "      <td>0.014173</td>\n",
       "    </tr>\n",
       "    <tr>\n",
       "      <th>17438</th>\n",
       "      <td>Sweden</td>\n",
       "      <td>Sweden_men's_national_ice_hockey_team</td>\n",
       "      <td>0.000059</td>\n",
       "    </tr>\n",
       "  </tbody>\n",
       "</table>\n",
       "</div>"
      ],
      "text/plain": [
       "      mention                                 entity      prob\n",
       "17436  Sweden                                 Sweden  0.985768\n",
       "17437  Sweden          Sweden_national_football_team  0.014173\n",
       "17438  Sweden  Sweden_men's_national_ice_hockey_team  0.000059"
      ]
     },
     "execution_count": 20,
     "metadata": {},
     "output_type": "execute_result"
    }
   ],
   "source": [
    "df_kb.loc[df_kb.mention == 'Sweden']"
   ]
  },
  {
   "cell_type": "markdown",
   "metadata": {},
   "source": [
    "As you can see, each row of the data frame contains a pair $(m, e)$ of a mention $m$ and an entity $e$, as well as the conditional probability $P(e|m)$ for mention $m$ referring to entity $e$. These probabilities were estimated based on the frequencies of mention–entity pairs in the knowledge base. The example shows that the anchor text &lsquo;Sweden&rsquo; is most often used to refer to the entity [Sweden](http://en.wikipedia.org/wiki/Sweden), but in a few cases also to refer to Sweden&rsquo;s national football and ice hockey teams. Note that references are sorted in decreasing order of probability, so that the most probable pairing come first.\n",
    "\n",
    "Implement an entity linking method that resolves each mention to the most probable entity in the data frame. If the mention is not included in the data frame, you can predict the generic label `--NME--`. Print the precision, recall, and F1 of your method using the function that you implemented for Problem&nbsp;1."
   ]
  },
  {
   "cell_type": "code",
   "execution_count": 64,
   "metadata": {},
   "outputs": [],
   "source": [
    "# TODO: Write code here to implement the \"most probable entity\" method.\n",
    "\n",
    "def el_method(df):    \n",
    "    mention1 = ''\n",
    "    for row in df.itertuples():\n",
    "        mention2 = row[1]\n",
    "        if mention1 != mention2:\n",
    "            mention1 = mention2\n",
    "            yield (mention2, row[2])"
   ]
  },
  {
   "cell_type": "code",
   "execution_count": null,
   "metadata": {},
   "outputs": [],
   "source": [
    "spans_gold = set(gold_spans(df_base))\n",
    "spans_pred = set(predict(df_base))"
   ]
  },
  {
   "cell_type": "markdown",
   "metadata": {},
   "source": [
    "## Problem 6: Context-sensitive disambiguation"
   ]
  },
  {
   "cell_type": "markdown",
   "metadata": {},
   "source": [
    "Consider the entity mention &lsquo;Lincoln&rsquo;. The most probable entity for this mention turns out to be [Lincoln, Nebraska](http://en.wikipedia.org/Lincoln,_Nebraska); but in pages about American history, we would be better off to predict [Abraham Lincoln](http://en.wikipedia.org/Abraham_Lincoln). This suggests that we should try to disambiguate between different entity references based on the textual context on the page from which the mention was taken. Your task in this last problem is to implement this idea.\n",
    "\n",
    "Set up a dictionary that contains, for each mention $m$ that can refer to more than one entity $e$, a separate Naive Bayes classifier that is trained to predict the correct entity $e$, given the textual context of the mention. As the prior probabilities of the classifier, choose the probabilities $P(e|m)$ that you used in Problem&nbsp;5. To let you estimate the context-specific probabilities, we have compiled a data set with mention contexts:"
   ]
  },
  {
   "cell_type": "code",
   "execution_count": null,
   "metadata": {},
   "outputs": [],
   "source": [
    "with bz2.open('contexts.tsv.bz2') as source:\n",
    "    df_contexts = pd.read_csv(source, sep='\\t', quoting=csv.QUOTE_NONE)"
   ]
  },
  {
   "cell_type": "markdown",
   "metadata": {},
   "source": [
    "This data frame contains, for each ambiguous mention $m$ and each knowledge base entity $e$ to which this mention can refer, up to 100 randomly selected contexts in which $m$ is used to refer to $e$. For this data, a **context** is defined as the 5 tokens to the left and the 5 tokens to the right of the mention. Here are a few examples:"
   ]
  },
  {
   "cell_type": "code",
   "execution_count": null,
   "metadata": {},
   "outputs": [],
   "source": [
    "df_contexts.head()"
   ]
  },
  {
   "cell_type": "markdown",
   "metadata": {},
   "source": [
    "Note that, in each context, the position of the mention is indicated by the `@` symbol.\n",
    "\n",
    "From this data frame, it is easy to select the data that you need to train the classifiers – the contexts and corresponding entities for all mentions. To illustrate this, the following cell shows how to select all contexts that belong to the mention &lsquo;Lincoln&rsquo;:"
   ]
  },
  {
   "cell_type": "code",
   "execution_count": null,
   "metadata": {},
   "outputs": [],
   "source": [
    "df_contexts.context[df_contexts.mention == 'Lincoln']"
   ]
  },
  {
   "cell_type": "markdown",
   "metadata": {},
   "source": [
    "Implement the context-sensitive disambiguation method and evaluate its performance. Here are some more hints that may help you along the way:\n",
    "\n",
    "**Hint 1:** The prior probabilities for a Naive Bayes classifier can be specified using the `class_prior` option. You will have to provide the probabilities in the same order as the alphabetically sorted class (entity) names.\n",
    "\n",
    "**Hint 2:** Not all mentions in the knowledge base are ambiguous, and therefore not all mentions have context data. If a mention has only one possible entity, pick that one. If a mention has no entity at all, predict the `--NME--` label."
   ]
  },
  {
   "cell_type": "code",
   "execution_count": null,
   "metadata": {},
   "outputs": [],
   "source": [
    "# TODO: Write code here to implement the context-sensitive disambiguation method"
   ]
  },
  {
   "cell_type": "markdown",
   "metadata": {},
   "source": [
    "You should expect to see a small (around 1&nbsp;unit) increase in both precision, recall, and F1."
   ]
  },
  {
   "cell_type": "markdown",
   "metadata": {},
   "source": [
    "**This was the last lab in the Text Mining course. Congratulations!**"
   ]
  },
  {
   "cell_type": "markdown",
   "metadata": {},
   "source": [
    "<div class=\"alert alert-info\">\n",
    "    Please read the section ‘General information’ on the ‘Labs’ page of the course website before submitting this notebook!\n",
    "</div>"
   ]
  }
 ],
 "metadata": {
  "kernelspec": {
   "display_name": "Python 3",
   "language": "python",
   "name": "python3"
  },
  "language_info": {
   "codemirror_mode": {
    "name": "ipython",
    "version": 3
   },
   "file_extension": ".py",
   "mimetype": "text/x-python",
   "name": "python",
   "nbconvert_exporter": "python",
   "pygments_lexer": "ipython3",
   "version": "3.7.9"
  }
 },
 "nbformat": 4,
 "nbformat_minor": 2
}
