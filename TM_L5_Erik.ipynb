{
  "nbformat": 4,
  "nbformat_minor": 0,
  "metadata": {
    "kernelspec": {
      "display_name": "Python 3",
      "language": "python",
      "name": "python3"
    },
    "language_info": {
      "codemirror_mode": {
        "name": "ipython",
        "version": 3
      },
      "file_extension": ".py",
      "mimetype": "text/x-python",
      "name": "python",
      "nbconvert_exporter": "python",
      "pygments_lexer": "ipython3",
      "version": "3.7.9"
    },
    "colab": {
      "name": "Kopie von TM-L5.ipynb",
      "provenance": [],
      "include_colab_link": true
    }
  },
  "cells": [
    {
      "cell_type": "markdown",
      "metadata": {
        "id": "view-in-github",
        "colab_type": "text"
      },
      "source": [
        "<a href=\"https://colab.research.google.com/github/oriolgarrobe/text-mining/blob/master/TM_L5_Erik.ipynb\" target=\"_parent\"><img src=\"https://colab.research.google.com/assets/colab-badge.svg\" alt=\"Open In Colab\"/></a>"
      ]
    },
    {
      "cell_type": "markdown",
      "metadata": {
        "id": "aivf77XYY2BG"
      },
      "source": [
        "# L5: Information extraction"
      ]
    },
    {
      "cell_type": "markdown",
      "metadata": {
        "id": "VlgkDEq5Y2BH"
      },
      "source": [
        "Information extraction (IE) is the task of identifying named entities and semantic relations between these entities in text data. In this lab we will focus on two sub-tasks in IE, **named entity recognition** (identifying mentions of entities) and **entity linking** (matching these mentions to entities in a knowledge base)."
      ]
    },
    {
      "cell_type": "markdown",
      "metadata": {
        "id": "eVhYvcV6Y2BI"
      },
      "source": [
        "We start by loading spaCy:"
      ]
    },
    {
      "cell_type": "code",
      "metadata": {
        "id": "ZnGyKP2SY2BI"
      },
      "source": [
        "import spacy\n",
        "\n",
        "nlp = spacy.load('en_core_web_sm')"
      ],
      "execution_count": null,
      "outputs": []
    },
    {
      "cell_type": "markdown",
      "metadata": {
        "id": "M7swfKHOY2BK"
      },
      "source": [
        "The data that we will be using has been tokenized following the conventions of the [Penn Treebank](ftp://ftp.cis.upenn.edu/pub/treebank/public_html/tokenization.html), and we need to prevent spaCy from using its own tokenizer on top of this. We therefore override spaCy&rsquo;s tokenizer with one that simply splits on space."
      ]
    },
    {
      "cell_type": "code",
      "metadata": {
        "id": "2HNqqvMvY2BK"
      },
      "source": [
        "from spacy.tokens import Doc\n",
        "\n",
        "class WhitespaceTokenizer(object):\n",
        "    def __init__(self, vocab):\n",
        "        self.vocab = vocab\n",
        "\n",
        "    def __call__(self, text):\n",
        "        return Doc(self.vocab, words=text.split(' '))\n",
        "\n",
        "nlp.tokenizer = WhitespaceTokenizer(nlp.vocab)"
      ],
      "execution_count": null,
      "outputs": []
    },
    {
      "cell_type": "markdown",
      "metadata": {
        "id": "InD-PsdTY2BK"
      },
      "source": [
        "## Data set"
      ]
    },
    {
      "cell_type": "markdown",
      "metadata": {
        "id": "7gDK2eXIY2BK"
      },
      "source": [
        "The main data set for this lab is a collection of news wire articles in which mentions of named entities have been annotated with page names from the [English Wikipedia](https://en.wikipedia.org/wiki/). The next code cell loads the training and the development parts of the data into Pandas data frames."
      ]
    },
    {
      "cell_type": "code",
      "metadata": {
        "id": "HNgyo31yY2BK"
      },
      "source": [
        "import bz2\n",
        "import csv\n",
        "import pandas as pd\n",
        "\n",
        "with bz2.open('ner-train.tsv.bz2', 'rt') as source:\n",
        "    df_train = pd.read_csv(source, sep='\\t', quoting=csv.QUOTE_NONE)\n",
        "\n",
        "with bz2.open('ner-dev.tsv.bz2', 'rt') as source:\n",
        "    df_dev = pd.read_csv(source, sep='\\t', quoting=csv.QUOTE_NONE)"
      ],
      "execution_count": null,
      "outputs": []
    },
    {
      "cell_type": "markdown",
      "metadata": {
        "id": "b402LMK0Y2BL"
      },
      "source": [
        "Each row in these two data frames corresponds to one mention of a named entity and has five columns:\n",
        "\n",
        "1. a unique identifier for the sentence containing the entity mention\n",
        "2. the pre-tokenized sentence, with tokens separated by spaces\n",
        "3. the start position of the token span containing the entity mention\n",
        "4. the end position of the token span (exclusive, as in Python list indexing)\n",
        "5. the entity label; either a Wikipedia page name or the generic label `--NME--`\n",
        "\n",
        "The following cell prints the first five samples from the training data:"
      ]
    },
    {
      "cell_type": "code",
      "metadata": {
        "colab": {
          "base_uri": "https://localhost:8080/",
          "height": 204
        },
        "id": "GNE1AsTzY2BL",
        "outputId": "bc1839d4-918b-4891-9c15-7c5a579aa797"
      },
      "source": [
        "df_train.head()"
      ],
      "execution_count": null,
      "outputs": [
        {
          "output_type": "execute_result",
          "data": {
            "text/html": [
              "<div>\n",
              "<style scoped>\n",
              "    .dataframe tbody tr th:only-of-type {\n",
              "        vertical-align: middle;\n",
              "    }\n",
              "\n",
              "    .dataframe tbody tr th {\n",
              "        vertical-align: top;\n",
              "    }\n",
              "\n",
              "    .dataframe thead th {\n",
              "        text-align: right;\n",
              "    }\n",
              "</style>\n",
              "<table border=\"1\" class=\"dataframe\">\n",
              "  <thead>\n",
              "    <tr style=\"text-align: right;\">\n",
              "      <th></th>\n",
              "      <th>sentence_id</th>\n",
              "      <th>sentence</th>\n",
              "      <th>beg</th>\n",
              "      <th>end</th>\n",
              "      <th>label</th>\n",
              "    </tr>\n",
              "  </thead>\n",
              "  <tbody>\n",
              "    <tr>\n",
              "      <th>0</th>\n",
              "      <td>0000-000</td>\n",
              "      <td>EU rejects German call to boycott British lamb .</td>\n",
              "      <td>0</td>\n",
              "      <td>1</td>\n",
              "      <td>--NME--</td>\n",
              "    </tr>\n",
              "    <tr>\n",
              "      <th>1</th>\n",
              "      <td>0000-000</td>\n",
              "      <td>EU rejects German call to boycott British lamb .</td>\n",
              "      <td>2</td>\n",
              "      <td>3</td>\n",
              "      <td>Germany</td>\n",
              "    </tr>\n",
              "    <tr>\n",
              "      <th>2</th>\n",
              "      <td>0000-000</td>\n",
              "      <td>EU rejects German call to boycott British lamb .</td>\n",
              "      <td>6</td>\n",
              "      <td>7</td>\n",
              "      <td>United_Kingdom</td>\n",
              "    </tr>\n",
              "    <tr>\n",
              "      <th>3</th>\n",
              "      <td>0000-001</td>\n",
              "      <td>Peter Blackburn</td>\n",
              "      <td>0</td>\n",
              "      <td>2</td>\n",
              "      <td>--NME--</td>\n",
              "    </tr>\n",
              "    <tr>\n",
              "      <th>4</th>\n",
              "      <td>0000-002</td>\n",
              "      <td>BRUSSELS 1996-08-22</td>\n",
              "      <td>0</td>\n",
              "      <td>1</td>\n",
              "      <td>Brussels</td>\n",
              "    </tr>\n",
              "  </tbody>\n",
              "</table>\n",
              "</div>"
            ],
            "text/plain": [
              "  sentence_id  ...           label\n",
              "0    0000-000  ...         --NME--\n",
              "1    0000-000  ...         Germany\n",
              "2    0000-000  ...  United_Kingdom\n",
              "3    0000-001  ...         --NME--\n",
              "4    0000-002  ...        Brussels\n",
              "\n",
              "[5 rows x 5 columns]"
            ]
          },
          "metadata": {
            "tags": []
          },
          "execution_count": 4
        }
      ]
    },
    {
      "cell_type": "markdown",
      "metadata": {
        "id": "nenUt5ByY2BP"
      },
      "source": [
        "In this sample, we see that the first sentence is annotated with three entity mentions:\n",
        "\n",
        "* the span 0–1 &lsquo;EU&rsquo; is annotated as a mention but only labelled with the generic `--NME--`\n",
        "* the span 2–3 &lsquo;German&rsquo; is annotated with the page [Germany](http://en.wikipedia.org/wiki/Germany)\n",
        "* the span 6–7 &lsquo;British&rsquo; is annotated with the page [United_Kingdom](http://en.wikipedia.org/wiki/United_Kingdom)"
      ]
    },
    {
      "cell_type": "markdown",
      "metadata": {
        "id": "QqCU2SzDY2BP"
      },
      "source": [
        "## Problem 1: Evaluation measures"
      ]
    },
    {
      "cell_type": "markdown",
      "metadata": {
        "id": "yPdH114kY2BP"
      },
      "source": [
        "To warm up, we ask you to write code to print the three measures that you will be using for evaluation:"
      ]
    },
    {
      "cell_type": "code",
      "metadata": {
        "id": "XN5iWcGsY2BQ"
      },
      "source": [
        "def evaluation_report(gold, pred):\n",
        "    \"\"\"Print precision, recall, and F1 score.\n",
        "    \n",
        "    Args:\n",
        "        gold: The set with the gold-standard values.\n",
        "        pred: The set with the predicted values.\n",
        "    \n",
        "    Returns:\n",
        "        Nothing, but prints the precision, recall, and F1 values computed\n",
        "        based on the specified sets.\n",
        "    \"\"\"\n",
        "    # TODO: Replace the next line with your own code\n",
        "    \n",
        "    tp = gold.intersection(pred) # true positives\n",
        "    \n",
        "    precision = len(tp)/len(pred)\n",
        "    \n",
        "    recall = len(tp)/len(gold)\n",
        "    \n",
        "    f1 = 2*precision*recall/(precision+recall)\n",
        "    \n",
        "    print(f'Precision: {round(precision*100)}%\\n')\n",
        "    print(f'Recall: {round(recall*100)}%\\n')\n",
        "    print(f'F1-score: {round(f1*100)}%')"
      ],
      "execution_count": null,
      "outputs": []
    },
    {
      "cell_type": "markdown",
      "metadata": {
        "id": "buKrek_iY2BQ"
      },
      "source": [
        "To test your code, you can run the following cell:"
      ]
    },
    {
      "cell_type": "code",
      "metadata": {
        "colab": {
          "base_uri": "https://localhost:8080/"
        },
        "id": "nQIJ77WHY2BQ",
        "outputId": "18090f76-b513-49af-88d2-5e18371cb8a7"
      },
      "source": [
        "evaluation_report(set(range(3)), set(range(5)))"
      ],
      "execution_count": null,
      "outputs": [
        {
          "output_type": "stream",
          "text": [
            "Precision: 60%\n",
            "\n",
            "Recall: 100%\n",
            "\n",
            "F1-score: 75%\n"
          ],
          "name": "stdout"
        }
      ]
    },
    {
      "cell_type": "markdown",
      "metadata": {
        "id": "5kqRroCUY2BR"
      },
      "source": [
        "This should give you a precision of 60%, a recall of 100%, and an F1-value of 75%."
      ]
    },
    {
      "cell_type": "markdown",
      "metadata": {
        "id": "PJqFla2QY2BR"
      },
      "source": [
        "## Problem 2: Span recognition"
      ]
    },
    {
      "cell_type": "markdown",
      "metadata": {
        "id": "GbFaHTyLY2BR"
      },
      "source": [
        "One of the first tasks that an information extraction system has to solve is to locate and classify (mentions of) named entities, such as persons and organizations. Here we will tackle the simpler task of recognizing **spans** of tokens that contain an entity mention, without the actual entity label.\n",
        "\n",
        "The English language model in spaCy features a full-fledged [named entity recognizer](https://spacy.io/usage/linguistic-features#named-entities) that identifies a variety of entities, and can be updated with new entity types by the user. Your task in this problem is to evaluate the performance of this component when predicting entity spans in the development data.\n",
        "\n",
        "Start by implementing a generator function that yields the gold-standard spans in a given data frame.\n",
        "\n",
        "**Hint:** The Pandas method [`itertuples()`](https://pandas.pydata.org/pandas-docs/version/0.17.0/generated/pandas.DataFrame.itertuples.html) is useful when iterating over the rows in a DataFrame."
      ]
    },
    {
      "cell_type": "code",
      "metadata": {
        "id": "-cbGCY5CY2BR"
      },
      "source": [
        "def gold_spans(df):\n",
        "    \"\"\"Yield the gold-standard mention spans in a data frame.\n",
        "\n",
        "    Args:\n",
        "        df: A data frame.\n",
        "\n",
        "    Yields:\n",
        "        The gold-standard mention spans in the specified data frame as\n",
        "        triples consisting of the sentence id, start position, and end\n",
        "        position of each span.\n",
        "    \"\"\"\n",
        "    # TODO: Replace the next line with your own code\n",
        "    \n",
        "    for row in df.itertuples():\n",
        "        yield (row[1],row[3],row[4])"
      ],
      "execution_count": null,
      "outputs": []
    },
    {
      "cell_type": "markdown",
      "metadata": {
        "id": "aXjx22FIY2BS"
      },
      "source": [
        "To test your code, you can count the spans yielded by your function. When called on the development data, you should get a total of 5,917 unique triples. The first triple and the last triple should be\n",
        "\n",
        "    ('0946-000', 2, 3)\n",
        "    ('1161-010', 1, 3)  "
      ]
    },
    {
      "cell_type": "code",
      "metadata": {
        "colab": {
          "base_uri": "https://localhost:8080/"
        },
        "id": "iZf1d8DNY2BS",
        "outputId": "32f98c53-c863-4260-96f7-542fba9f59f7"
      },
      "source": [
        "spans_dev_gold = set(gold_spans(df_dev))\n",
        "spans_dev_gold_l = list(gold_spans(df_dev))\n",
        "\n",
        "print(len(spans_dev_gold))\n",
        "print(spans_dev_gold_l[0])\n",
        "print(spans_dev_gold_l[5916])"
      ],
      "execution_count": null,
      "outputs": [
        {
          "output_type": "stream",
          "text": [
            "5917\n",
            "('0946-000', 2, 3)\n",
            "('1161-010', 1, 3)\n"
          ],
          "name": "stdout"
        }
      ]
    },
    {
      "cell_type": "markdown",
      "metadata": {
        "id": "M9F-4u6XY2BS"
      },
      "source": [
        "Your next task is to write code that calls spaCy to predict the named entities in the development data, and to evaluate the accuracy of these predictions in terms of precision, recall, and F1. Print these scores using the function that you wrote for Problem&nbsp;1."
      ]
    },
    {
      "cell_type": "code",
      "metadata": {
        "id": "jVQM__OcY2BS"
      },
      "source": [
        "# TODO: Write code here to run and evaluate the spaCy NER on the development data\n",
        "def predict(df):\n",
        "    for row in df.itertuples():\n",
        "        sentence = nlp(row[2])\n",
        "        for ent in sentence.ents:\n",
        "            start = sentence.text.split(' ').index(ent.text.split(' ')[0])\n",
        "            yield (row[1], start, start+len(ent.text.split(' ')))"
      ],
      "execution_count": null,
      "outputs": []
    },
    {
      "cell_type": "code",
      "metadata": {
        "colab": {
          "base_uri": "https://localhost:8080/"
        },
        "id": "cKmUfufRY2BT",
        "outputId": "5f204a0f-6057-46ec-c472-54a3727bee21"
      },
      "source": [
        "preds_dev_gold = set(predict(df_dev)) #predictions of dev data\n",
        "\n",
        "evaluation_report(spans_dev_gold, preds_dev_gold)"
      ],
      "execution_count": null,
      "outputs": [
        {
          "output_type": "stream",
          "text": [
            "Precision: 52%\n",
            "\n",
            "Recall: 67%\n",
            "\n",
            "F1-score: 59%\n"
          ],
          "name": "stdout"
        }
      ]
    },
    {
      "cell_type": "markdown",
      "metadata": {
        "id": "-hzG4NeCY2BT"
      },
      "source": [
        "## Problem 3: Error analysis"
      ]
    },
    {
      "cell_type": "markdown",
      "metadata": {
        "id": "F9rAfDVEY2BT"
      },
      "source": [
        "As you were able to see in Problem&nbsp;2, the span accuracy of the named entity recognizer is far from perfect. In particular, only slightly more than half of the predicted spans are correct according to the gold standard. Your next task is to analyse this result in more detail.\n",
        "\n",
        "Here is a function that prints the false positives as well as the false negatives spans for a data frame, given a reference set of gold-standard spans and a candidate set of predicted spans."
      ]
    },
    {
      "cell_type": "code",
      "metadata": {
        "id": "0gWQYU-oY2BT"
      },
      "source": [
        "from collections import defaultdict\n",
        "\n",
        "def error_report(df, spans_gold, spans_pred):\n",
        "    false_pos = defaultdict(list)\n",
        "    for s, b, e in spans_pred - spans_gold:\n",
        "        false_pos[s].append((b, e))\n",
        "    false_neg = defaultdict(list)\n",
        "    for s, b, e in spans_gold - spans_pred:\n",
        "        false_neg[s].append((b, e))\n",
        "    for row in df.drop_duplicates('sentence_id').itertuples():\n",
        "        if row.sentence_id in false_pos or row.sentence_id in false_neg:\n",
        "            print('Sentence:', row.sentence)\n",
        "            for b, e in false_pos[row.sentence_id]:\n",
        "                print('  FP:', ' '.join(row.sentence.split()[b:e]))\n",
        "            for b, e in false_neg[row.sentence_id]:\n",
        "                print('  FN:', ' '.join(row.sentence.split()[b:e]))"
      ],
      "execution_count": null,
      "outputs": []
    },
    {
      "cell_type": "markdown",
      "metadata": {
        "id": "sjz54qwMY2BT"
      },
      "source": [
        "Use this function to inspect and analyse the errors that the automated prediction makes. Can you see any patterns? Base your analysis on the first 500 rows of the training data. Summarize your observations in a short text."
      ]
    },
    {
      "cell_type": "code",
      "metadata": {
        "id": "ser87s8NY2BT"
      },
      "source": [
        "# TODO: Write code here to do your analysis\n",
        "df_base = df_train.head(500)\n",
        "spans_gold = set(gold_spans(df_base))\n",
        "spans_pred = set(predict(df_base))"
      ],
      "execution_count": null,
      "outputs": []
    },
    {
      "cell_type": "code",
      "metadata": {
        "colab": {
          "base_uri": "https://localhost:8080/"
        },
        "id": "zKpYHCkmY2BU",
        "outputId": "663e8f57-7fe5-4bab-f5dc-f91f2471d85f"
      },
      "source": [
        "error_report(df_base, spans_gold, spans_pred)"
      ],
      "execution_count": null,
      "outputs": [
        {
          "output_type": "stream",
          "text": [
            "Sentence: The European Commission said on Thursday it disagreed with German advice to consumers to shun British lamb until scientists determine whether mad cow disease can be transmitted to sheep .\n",
            "  FP: Thursday\n",
            "  FP: The European Commission\n",
            "  FN: European Commission\n",
            "Sentence: Germany 's representative to the European Union 's veterinary committee Werner Zwingmann said on Wednesday consumers should buy sheepmeat from countries other than Britain until the scientific advice was clearer .\n",
            "  FP: Wednesday\n",
            "  FP: the European Union 's\n",
            "  FN: European Union\n",
            "Sentence: He said further scientific study was required and if it was found that action was needed it should be taken by the European Union .\n",
            "  FP: the European Union\n",
            "  FN: European Union\n",
            "Sentence: He said a proposal last month by EU Farm Commissioner Franz Fischler to ban sheep brains , spleens and spinal cords from the human and animal food chains was a highly specific and precautionary move to protect human health .\n",
            "  FP: last month\n",
            "  FP: EU Farm\n",
            "  FN: EU\n",
            "Sentence: Fischler proposed EU-wide measures after reports from Britain and France that under laboratory conditions sheep could contract Bovine Spongiform Encephalopathy ( BSE ) -- mad cow disease .\n",
            "  FN: BSE\n",
            "Sentence: The EU 's scientific veterinary and multidisciplinary committees are due to re-examine the issue early next month and make recommendations to the senior veterinary officials .\n",
            "  FP: early next month\n",
            "Sentence: Sheep have long been known to contract scrapie , a brain-wasting disease similar to BSE which is believed to have been transferred to cattle through feed containing animal waste .\n",
            "  FN: BSE\n",
            "Sentence: British farmers denied on Thursday there was any danger to human health from their sheep , but expressed concern that German government advice to consumers to avoid British lamb might influence consumers across Europe .\n",
            "  FP: Thursday\n",
            "  FN: British\n",
            "Sentence: \" What we have to be extremely careful of is how other countries are going to take Germany 's lead , \" Welsh National Farmers ' Union ( NFU ) chairman John Lloyd Jones said on BBC radio .\n",
            "  FP: BBC\n",
            "  FN: BBC radio\n",
            "Sentence: Bonn has led efforts to protect public health after consumer confidence collapsed in March after a British report suggested humans could contract an illness similar to mad cow disease by eating contaminated beef .\n",
            "  FP: March\n",
            "Sentence: Germany imported 47,600 sheep from Britain last year , nearly half of total imports .\n",
            "  FP: 47,600\n",
            "  FP: last year\n",
            "  FP: nearly half\n",
            "Sentence: It brought in 4,275 tonnes of British mutton , some 10 percent of overall imports .\n",
            "  FP: some 10 percent\n",
            "  FP: 4,275 tonnes\n",
            "Sentence: Rare Hendrix song draft sells for almost $ 17,000 .\n",
            "  FP: almost $ 17,000\n",
            "  FP: Rare Hendrix\n",
            "  FN: Hendrix\n",
            "Sentence: A rare early handwritten draft of a song by U.S. guitar legend Jimi Hendrix was sold for almost $ 17,000 on Thursday at an auction of some of the late musician 's favourite possessions .\n",
            "  FP: Thursday\n",
            "  FP: almost $ 17,000\n",
            "Sentence: A Florida restaurant paid 10,925 pounds ( $ 16,935 ) for the draft of \" Ai n't no telling \" , which Hendrix penned on a piece of London hotel stationery in late 1966 .\n",
            "  FP: 10,925 pounds\n",
            "  FP: 16,935\n",
            "  FP: late 1966\n",
            "  FN: Ai n't no telling\n",
            "Sentence: At the end of a January 1967 concert in the English city of Nottingham he threw the sheet of paper into the audience , where it was retrieved by a fan .\n",
            "  FP: the end of a January 1967\n",
            "Sentence: Buyers also snapped up 16 other items that were put up for auction by Hendrix 's former girlfriend Kathy Etchingham , who lived with him from 1966 to 1969 .\n",
            "  FP: 1966 to 1969\n",
            "  FP: 16\n",
            "Sentence: They included a black lacquer and mother of pearl inlaid box used by Hendrix to store his drugs , which an anonymous Australian purchaser bought for 5,060 pounds ( $ 7,845 ) .\n",
            "  FP: 5,060 pounds\n",
            "  FP: 7,845\n",
            "Sentence: China on Thursday accused Taipei of spoiling the atmosphere for a resumption of talks across the Taiwan Strait with a visit to Ukraine by Taiwanese Vice President Lien Chan this week that infuriated Beijing .\n",
            "  FP: the atmosphere for\n",
            "  FP: this week\n",
            "  FP: Thursday\n",
            "  FN: Taiwan Strait\n",
            "Sentence: Speaking only hours after Chinese state media said the time was right to engage in political talks with Taiwan , Foreign Ministry spokesman Shen Guofang told Reuters : \" The necessary atmosphere for the opening of the talks has been disrupted by the Taiwan authorities . \"\n",
            "  FP: only hours\n",
            "  FN: Taiwan\n",
            "Sentence: State media quoted China 's top negotiator with Taipei , Tang Shubei , as telling a visiting group from Taiwan on Wednesday that it was time for the rivals to hold political talks .\n",
            "  FP: Wednesday\n",
            "Sentence: that is to end the state of hostility , \" Thursday 's overseas edition of the People 's Daily quoted Tang as saying .\n",
            "  FP: the state of hostility\n",
            "  FP: Thursday\n",
            "  FN: People 's Daily\n",
            "Sentence: China , which has long opposed all Taipei efforts to gain greater international recognition , was infuriated by a visit to Ukraine this week by Taiwanese Vice President Lien .\n",
            "  FP: this week\n",
            "Sentence: Consultations should be held to set the time and format of the talks , the official Xinhua news agency quoted Tang Shubei , executive vice chairman of the Association for Relations Across the Taiwan Straits , as saying late on Wednesday .\n",
            "  FP: Xinhua news agency\n",
            "  FP: the time and format of the talks ,\n",
            "  FP: Wednesday\n",
            "  FN: Xinhua\n",
            "  FN: Association for Relations Across the Taiwan Straits\n",
            "Sentence: German July car registrations up 14.2 pct yr / yr .\n",
            "  FP: 14.2\n",
            "  FP: July\n",
            "Sentence: FRANKFURT 1996-08-22\n",
            "  FN: FRANKFURT\n",
            "Sentence: German first-time registrations of motor vehicles jumped 14.2 percent in July this year from the year-earlier period , the Federal office for motor vehicles said on Thursday .\n",
            "  FP: July\n",
            "  FP: Thursday\n",
            "  FP: 14.2 percent\n",
            "  FP: this year\n",
            "  FN: Federal office for motor vehicles\n",
            "Sentence: Volkswagen AG won 77,719 registrations , slightly more than a quarter of the total .\n",
            "  FP: 77,719\n",
            "Sentence: Opel AG together with General Motors came in second place with 49,269 registrations , 16.4 percent of the overall figure .\n",
            "  FP: 49,269\n",
            "  FP: second\n",
            "  FP: 16.4 percent\n",
            "Sentence: Third was Ford with 35,563 registrations , or 11.7 percent .\n",
            "  FP: 35,563\n",
            "  FP: 11.7 percent\n",
            "  FP: Third\n",
            "Sentence: Only Seat and Porsche had fewer registrations in July 1996 compared to last year 's July .\n",
            "  FP: July\n",
            "  FP: last year 's\n",
            "  FP: July 1996\n",
            "Sentence: Seat posted 3,420 registrations compared with 5522 registrations in July a year earlier .\n",
            "  FP: a year earlier\n",
            "  FP: 3,420\n",
            "  FP: July\n",
            "  FP: 5522\n",
            "  FN: Seat\n",
            "Sentence: Porsche 's registrations fell to 554 from 643 .\n",
            "  FP: 554\n",
            "  FP: 643\n",
            "Sentence: GREEK SOCIALISTS GIVE GREEN LIGHT TO PM FOR ELECTIONS .\n",
            "  FP: GREEN LIGHT\n",
            "  FN: GREEK\n",
            "Sentence: The Greek socialist party 's executive bureau gave the green light to Prime Minister Costas Simitis to call snap elections , its general secretary Costas Skandalidis told reporters .\n",
            "  FN: Costas Skandalidis\n",
            "Sentence: Prime Minister Costas Simitis is going to make an official announcement after a cabinet meeting later on Thursday , said Skandalidis .\n",
            "  FP: Thursday\n",
            "Sentence: -- Dimitris Kontogiannis , Athens Newsroom +301 3311812-4\n",
            "  FP: -- Dimitris Kontogiannis ,\n",
            "  FN: Dimitris Kontogiannis\n",
            "Sentence: BayerVB sets C$ 100 million six-year bond .\n",
            "  FP: C$ 100 million\n",
            "  FN: C$\n",
            "  FN: BayerVB\n",
            "Sentence: BORROWER BAYERISCHE VEREINSBANK\n",
            "  FN: BAYERISCHE VEREINSBANK\n",
            "Sentence: AMT C$ 100 MLN COUPON 6.625 MATURITY 24.SEP.02\n",
            "  FN: C$\n",
            "Sentence: S&P = DENOMS ( K ) 1-10-100 SALE LIMITS US / UK / CA\n",
            "  FP: DENOMS\n",
            "  FP: SALE\n",
            "  FN: CA\n",
            "  FN: US\n",
            "  FN: UK\n",
            "Sentence: GOV LAW GERMAN HOME CTRY = TAX PROVS STANDARD\n",
            "  FN: GERMAN\n",
            "Sentence: NOTES BAYERISCHE VEREINSBANK IS JOINT LEAD MANAGER\n",
            "  FN: BAYERISCHE VEREINSBANK\n",
            "Sentence: -- London Newsroom +44 171 542 7658\n",
            "  FP: -- London Newsroom +44\n",
            "  FP: 171\n",
            "  FN: London Newsroom\n",
            "Sentence: Venantius sets $ 300 million January 1999 FRN .\n",
            "  FP: $ 300 million\n",
            "  FP: January 1999\n",
            "  FP: FRN\n",
            "  FN: Venantius\n",
            "Sentence: BORROWER VENANTIUS AB ( SWEDISH NATIONAL MORTGAGE AGENCY )\n",
            "  FP: SWEDISH NATIONAL MORTGAGE AGENCY\n",
            "  FP: BORROWER VENANTIUS AB\n",
            "  FN: SWEDISH\n",
            "  FN: VENANTIUS AB\n",
            "Sentence: TYPE FRN BASE 3M LIBOR PAY DATE S23.SEP.96\n",
            "  FN: 3M\n",
            "Sentence: LAST S&P AA+ REOFFER =\n",
            "  FN: S&P\n",
            "Sentence: LISTING LONDON DENOMS ( K ) 1-10-100 SALE LIMITS US / UK / JP / FR\n",
            "  FN: UK\n",
            "  FN: FR\n",
            "  FN: JP\n",
            "Sentence: GOV LAW ENGLISH HOME CTRY SWEDEN TAX PROVS STANDARD\n",
            "  FP: ENGLISH HOME\n",
            "  FN: SWEDEN\n",
            "  FN: ENGLISH\n",
            "Sentence: -- London Newsroom +44 171 542 8863\n",
            "  FP: 171 542 8863\n",
            "  FP: -- London Newsroom +44\n",
            "  FN: London Newsroom\n",
            "Sentence: Port conditions update - Syria - Lloyds Shipping .\n",
            "  FN: Lloyds Shipping\n",
            "Sentence: LATTAKIA , Aug 10 - waiting time at Lattakia and Tartous presently 24 hours .\n",
            "  FP: 10\n",
            "  FP: 24 hours\n",
            "  FP: Lattakia and Tartous\n",
            "  FN: LATTAKIA\n",
            "  FN: Tartous\n",
            "  FN: Lattakia\n",
            "Sentence: JERUSALEM 1996-08-22\n",
            "  FN: JERUSALEM\n",
            "Sentence: Israel 's outgoing peace negotiator with Syria said on Thursday current tensions between the two countries appeared to be a storm in a teacup .\n",
            "  FP: Thursday\n",
            "  FP: two\n",
            "Sentence: Itamar Rabinovich , who as Israel 's ambassador to Washington conducted unfruitful negotiations with Syria , told Israel Radio it looked like Damascus wanted to talk rather than fight .\n",
            "  FP: Israel 's\n",
            "  FN: Israel Radio\n",
            "Sentence: Israel on Wednesday sent Syria a message , via Washington , saying it was committed to peace and wanted to open negotiations without preconditions .\n",
            "  FP: Wednesday\n",
            "Sentence: Syria accused Israel on Wednesday of launching a hysterical campaign against it after Israeli television reported that Damascus had recently test fired a missile .\n",
            "  FP: Wednesday\n",
            "Sentence: \" The message that we sent to ( Syrian President Hafez al- ) Assad is that Israel is ready at any time without preconditions to enter peace negotiations , \" Israeli Foreign Minister David Levy told Israel Radio in an interview .\n",
            "  FP: Israel is\n",
            "  FN: Israel Radio\n",
            "Sentence: Tension has mounted since Israeli Prime Minister Benjamin Netanyahu took office in June vowing to retain the Golan Heights Israel captured from Syria in the 1967 Middle East war .\n",
            "  FP: 1967\n",
            "  FP: June\n",
            "  FN: Golan Heights\n",
            "Sentence: Israeli-Syrian peace talks have been deadlocked over the Golan since 1991 despite the previous government 's willingness to make Golan concessions .\n",
            "  FP: 1991\n",
            "  FN: Golan\n",
            "Sentence: Israel 's Channel Two television said Damascus had sent a \" calming signal \" to Israel .\n",
            "  FN: Israel\n",
            "Sentence: The television also said that Netanyahu had sent messages to reassure Syria via Cairo , the United States and Moscow .\n",
            "  FP: the United States\n",
            "  FN: United States\n",
            "Sentence: TUNIS 1996-08-22\n",
            "  FN: TUNIS\n",
            "Sentence: A Polish diplomat on Thursday denied a Polish tabloid report this week that Libya was refusing exit visas to 100 Polish nurses trying to return home after working in the North African country .\n",
            "  FP: 100\n",
            "  FP: this week\n",
            "  FP: Thursday\n",
            "  FN: Polish\n",
            "  FN: Polish\n",
            "Sentence: Up to today , we have no knowledge of any nurse stranded or kept in Libya without her will , and we have not received any complaint , \" the Polish embassy 's charge d'affaires in Tripoli , Tadeusz Awdankiewicz , told Reuters by telephone .\n",
            "  FP: today\n",
            "Sentence: Poland 's labour ministry said this week it would send a team to Libya to investigate , but Awdankiewicz said the probe was prompted by some nurses complaining about their work conditions such as non-payment of their salaries .\n",
            "  FP: this week\n",
            "Sentence: He said that there are an estimated 800 Polish nurses working in Libya .\n",
            "  FP: an estimated 800\n",
            "Sentence: Two Iranian opposition leaders meet in Baghdad .\n",
            "  FP: Two\n",
            "Sentence: BAGHDAD 1996-08-22\n",
            "  FN: BAGHDAD\n",
            "Sentence: An Iranian exile group based in Iraq vowed on Thursday to extend support to Iran 's Kurdish rebels after they were attacked by Iranian troops deep inside Iraq last month .\n",
            "  FP: last month\n",
            "  FP: Thursday\n",
            "  FN: Iranian\n",
            "  FN: Iraq\n",
            "Sentence: A Mujahideen Khalq statement said its leader Massoud Rajavi met in Baghdad the Secretary-General of the Kurdistan Democratic Party of Iran ( KDPI ) Hassan Rastegar on Wednesday and voiced his support to Iran 's rebel Kurds .\n",
            "  FP: the Secretary-General of the Kurdistan Democratic\n",
            "  FP: Wednesday\n",
            "  FP: Iran\n",
            "  FN: Iran\n",
            "  FN: Kurdistan Democratic Party of Iran\n",
            "  FN: Mujahideen Khalq\n",
            "Sentence: \" Rajavi emphasised that the Iranian Resistance would continue to stand side by side with their Kurdish compatriots and the resistance movement in Iranian Kurdistan , \" it said .\n",
            "  FP: Kurdistan\n",
            "  FP: the Iranian Resistance\n",
            "  FN: Rajavi\n",
            "  FN: Resistance\n",
            "  FN: Iranian Kurdistan\n",
            "Sentence: A spokesman for the group said the meeting \" signals a new level of cooperation between Mujahideen Khalq and the Iranian Kurdish oppositions \" .\n",
            "  FP: Iranian\n",
            "  FP: Kurdish\n",
            "  FN: Mujahideen Khalq\n",
            "  FN: Iranian Kurdish\n",
            "Sentence: Iran heavily bombarded targets in northern Iraq in July in pursuit of KDPI guerrillas based in Iraqi Kurdish areas outside the control of the government in Baghdad .\n",
            "  FP: July\n",
            "  FP: Iraqi\n",
            "  FP: Kurdish\n",
            "  FN: Iraqi Kurdish\n",
            "Sentence: Iraqi Kurdish areas bordering Iran are under the control of guerrillas of the Iraqi Kurdish Patriotic Union of Kurdistan ( PUK ) group .\n",
            "  FP: Iraqi\n",
            "  FP: Kurdish\n",
            "  FP: the control of guerrillas of the Iraqi\n",
            "  FN: PUK\n",
            "  FN: Iraqi Kurdish\n",
            "  FN: Iraqi Kurdish Patriotic Union of Kurdistan\n",
            "Sentence: PUK and Iraq 's Kurdistan Democratic Party ( KDP ) the two main Iraqi Kurdish factions , have had northern Iraq under their control since Iraqi forces were ousted from Kuwait in the 1991 Gulf War .\n",
            "  FP: the two main Iraqi\n",
            "  FP: Iraqi\n",
            "  FP: two\n",
            "  FP: Kurdish\n",
            "  FN: Iraqi\n",
            "  FN: Gulf War\n",
            "  FN: Iraq\n",
            "  FN: Iraqi Kurdish\n",
            "Sentence: Clashes between the two parties broke out at the weekend in the most serious fighting since a U.S.-sponsored ceasefire last year .\n",
            "  FP: the two\n",
            "  FP: two\n",
            "  FP: last year\n",
            "  FN: U.S.-sponsored\n",
            "Sentence: Mujahideen Khalq said Iranian troops had also been shelling KDP positions in Qasri region in Suleimaniya province near the Iranian border over the last two days .\n",
            "  FP: the Iranian border over\n",
            "  FP: Suleimaniya province\n",
            "  FN: Suleimaniya\n",
            "  FN: Iranian\n",
            "Sentence: It said about 100 Iraqi Kurds were killed or wounded in the attack .\n",
            "  FP: Kurds\n",
            "  FP: Iraqi\n",
            "  FP: about 100\n",
            "  FN: Iraqi Kurds\n",
            "Sentence: A U.S.-led air force in southern Turkey protects Iraqi Kurds from possible attacks by Baghdad troops .\n",
            "  FP: Iraqi\n",
            "  FP: Kurds\n",
            "  FN: U.S.-led\n",
            "  FN: Iraqi Kurds\n",
            "Sentence: Saudi riyal rates steady in quiet summer trade .\n",
            "  FP: summer\n",
            "Sentence: MANAMA 1996-08-22\n",
            "  FN: MANAMA\n",
            "Sentence: The spot Saudi riyal against the dollar and riyal interbank deposit rates were mainly steady this week in quiet summer trade , dealers in the kingdom said .\n",
            "  FP: kingdom\n",
            "  FP: this week\n",
            "  FP: summer\n",
            "Sentence: One-month interbank deposits were at 5-1/2 , 3/8 percent , three months were 5-5/8 , 1/2 percent and six months were 5-3/4 , 5/8 percent .\n",
            "  FP: six months\n",
            "  FP: 5-5/8 , 1/2 percent\n",
            "  FP: 5/8 percent\n",
            "  FP: 3/8 percent\n",
            "  FP: 5-1/2\n",
            "  FP: 5-3/4\n",
            "  FP: three months\n",
            "  FN: One-month\n",
            "Sentence: One-year funds were at six , 5-7/8 percent .\n",
            "  FP: six\n",
            "  FP: 5-7/8 percent\n",
            "  FN: One-year\n",
            "Sentence: JERUSALEM 1996-08-22\n",
            "  FN: JERUSALEM\n",
            "Sentence: Israel gave Palestinian President Yasser Arafat permission on Thursday to fly over its territory to the West Bank , ending a brief Israeli-PLO crisis , an Arafat adviser said .\n",
            "  FP: the West Bank\n",
            "  FP: Arafat\n",
            "  FP: Thursday\n",
            "  FN: Israeli-PLO\n",
            "  FN: Arafat\n",
            "  FN: West Bank\n",
            "Sentence: The president 's aircraft has received permission to pass through Israeli airspace but the president is not expected to travel to the West Bank before Monday , \" Nabil Abu Rdainah told Reuters .\n",
            "  FP: the president is\n",
            "  FP: Monday\n",
            "  FN: West Bank\n",
            "Sentence: Arafat had been scheduled to meet former Israeli prime minister Shimon Peres in the West Bank town of Ramallah on Thursday but the venue was changed to Gaza after Israel denied flight clearance to the Palestinian leader 's helicopters .\n",
            "  FP: Thursday\n",
            "Sentence: Arafat subsequently cancelled a meeting between Israeli and PLO officials , on civilian affairs , at the Allenby Bridge crossing between Jordan and the West Bank .\n",
            "  FP: the Allenby Bridge\n",
            "  FN: Allenby Bridge\n",
            "  FN: West Bank\n",
            "Sentence: Abu Rdainah said Arafat had decided against flying to the West Bank on Thursday , after Israel lifted the ban , because he had a busy schedule in Gaza and would not be free until Monday .\n",
            "  FP: Thursday\n",
            "  FP: Monday\n",
            "  FP: the West Bank\n",
            "  FN: West Bank\n",
            "Sentence: JERUSALEM 1996-08-22\n",
            "  FN: JERUSALEM\n",
            "Sentence: Yasser Arafat will meet Shimon Peres in Gaza on Thursday after Palestinians said the right-wing Israeli government had barred the Palestinian leader from flying to the West Bank for talks with the former prime minister .\n",
            "  FP: Thursday\n",
            "  FP: the right-wing Israeli\n",
            "  FN: West Bank\n",
            "Sentence: \" The meeting between Peres and Arafat will take place at Erez checkpoint in Gaza and not in Ramallah as planned , \" Peres ' office said .\n",
            "  FN: Peres\n",
            "Sentence: Palestinian officials said the Israeli government had barred Arafat from overflying Israel in a Palestinian helicopter to the West Bank in an attempt to bar the meeting with Peres .\n",
            "  FP: the Israeli government\n",
            "  FN: West Bank\n",
            "  FN: Palestinian\n",
            "Sentence: Israeli Prime Minister Benjamin Netanyahu has accused opposition leader Peres , who he defeated in May elections , of trying to undermine his Likud government 's authority to conduct peace talks .\n",
            "  FP: May\n",
            "Sentence: DUBAI 1996-08-22\n",
            "  FN: DUBAI\n",
            "Sentence: Three Afghan guards brought to the United Arab Emirates last week by Russian hostages who escaped from the Taleban militia will return to Afghanistan in a few days , the Afghan embassy in Abu Dhabi said on Thursday .\n",
            "  FP: Thursday\n",
            "  FP: last week\n",
            "  FP: the United Arab Emirates\n",
            "  FP: Three\n",
            "  FP: a few days\n",
            "  FN: Afghan\n",
            "  FN: United Arab Emirates\n",
            "Sentence: \" Our ambassador is in touch with the UAE foreign ministry .\n",
            "  FP: the UAE foreign ministry\n",
            "  FN: UAE\n",
            "Sentence: Their return to Afghanistan will take place in two or three days , \" an embassy official said .\n",
            "  FP: two or three days\n",
            "Sentence: The three Islamic Taleban guards were overpowered by seven Russian aircrew who escaped to UAE state Sharjah last Friday on board their own aircraft after a year in the captivity of Taleban militia in Kandahar in southern Afghanistan .\n",
            "  FP: three\n",
            "  FP: a year\n",
            "  FP: Taleban\n",
            "  FP: last Friday\n",
            "  FP: UAE state Sharjah\n",
            "  FP: seven\n",
            "  FN: Taleban\n",
            "  FN: Sharjah\n",
            "  FN: UAE\n",
            "Sentence: The UAE said on Monday it would hand over the three to the International Red Crescent , possibly last Tuesday .\n",
            "  FP: three\n",
            "  FP: last Tuesday\n",
            "  FP: the three to the\n",
            "  FP: Monday\n",
            "  FN: International Red Crescent\n",
            "Sentence: When asked whether the three guards would travel back to Kandahar or the Afghan capital Kabul , the embassy official said : \" That has not been decided , but possibly Kandahar . \"\n",
            "  FP: three\n",
            "  FN: Kandahar\n",
            "Sentence: The embassy official said the three men , believed to be in their 20s , were currently in Abu Dhabi .\n",
            "  FP: three\n",
            "Sentence: The Russians , working for the Aerostan firm in the Russian republic of Tatarstan , were taken hostage after a Taleban MiG-19 fighter forced their cargo plane to land in August 1995 .\n",
            "  FP: August 1995\n",
            "  FP: the Aerostan firm in the\n",
            "  FP: Taleban MiG-19\n",
            "  FN: MiG-19\n",
            "  FN: Tatarstan\n",
            "  FN: Taleban\n",
            "  FN: Russian\n",
            "Sentence: The Russians , who said they overpowered the guards -- two armed with Kalashnikov automatic rifles -- while doing regular maintenance work on their Ilyushin 76 cargo plane last Friday , left the UAE capital Abu Dhabi for home on Sunday .\n",
            "  FP: two\n",
            "  FP: last Friday\n",
            "  FP: Sunday\n",
            "Sentence: BAGHDAD 1996-08-22\n",
            "  FN: BAGHDAD\n",
            "Sentence: Iraqi President Saddam Hussein has told visiting Russian ultra-nationalist Vladimir Zhirinovsky that Baghdad wanted to maintain \" friendship and cooperation \" with Moscow , official Iraqi newspapers said on Thursday .\n",
            "  FP: Thursday\n",
            "  FN: Iraqi\n",
            "Sentence: They said Zhirinovsky told Saddam before he left Baghdad on Wednesday that his Liberal Democratic party and the Russian Duma ( parliament ) \" are calling for an immediate lifting of the embargo \" imposed on Iraq after its 1990 invasion of Kuwait .\n",
            "  FP: Wednesday\n",
            "  FP: 1990\n",
            "  FN: Duma\n",
            "Sentence: Zhirinovsky said on Tuesday he would press the Russian government to help end U.N. trade sanctions on Iraq and blamed Moscow for delaying establishment of good ties with Baghdad .\n",
            "  FP: Tuesday\n",
            "Sentence: \" Our stand is firm , namely we are calling on ( the Russian ) government to end the economic embargo on Iraq and resume trade ties between Russia and Iraq , \" he told reporters .\n",
            "  FN: Iraq\n",
            "Sentence: Zhirinovsky visited Iraq twice in 1995 .\n",
            "  FP: 1995\n",
            "Sentence: Last October he was invited to attend the referendum held on Iraq 's presidency , which extended Saddam 's term for seven more years .\n",
            "  FP: Last October\n",
            "  FP: seven more years\n",
            "Sentence: PRESS DIGEST - Iraq - Aug 22 .\n",
            "  FP: PRESS DIGEST - Iraq - Aug 22\n",
            "  FN: Iraq\n",
            "Sentence: BAGHDAD 1996-08-22\n",
            "  FN: BAGHDAD\n",
            "Sentence: These are some of the leading stories in the official Iraqi press on Thursday .\n",
            "  FP: Thursday\n",
            "Sentence: THAWRA\n",
            "  FN: THAWRA\n",
            "Sentence: - Turkish foreign minister says Turkey will take part in the Baghdad trade fair that will be held in November .\n",
            "  FP: November\n",
            "Sentence: - A shipload of 12 tonnes of rice arrives in Umm Qasr port in the Gulf .\n",
            "  FP: 12 tonnes\n",
            "Sentence: PRESS DIGEST - Lebanon - Aug 22 .\n",
            "  FP: PRESS DIGEST - Lebanon - Aug 22\n",
            "  FN: Lebanon\n",
            "Sentence: BEIRUT 1996-08-22\n",
            "  FP: BEIRUT 1996-08-22\n",
            "  FN: BEIRUT\n",
            "Sentence: These are the leading stories in the Beirut press on Thursday .\n",
            "  FP: Thursday\n",
            "Sentence: AN-NAHAR\n",
            "  FN: AN-NAHAR\n",
            "Sentence: AS-SAFIR\n",
            "  FN: AS-SAFIR\n",
            "Sentence: - Parliament Speaker Berri : Israel is preparing for war against Syria and Lebanon .\n",
            "  FP: Parliament\n",
            "Sentence: - Continued criticism of law violation incidents -- which occurred in the Mount Lebanon elections last Sunday .\n",
            "  FP: last Sunday\n",
            "Sentence: AD-DIYAR\n",
            "  FN: AD-DIYAR\n",
            "Sentence: - Hariri to step into the election battle with an incomplete list .\n",
            "  FP: - Hariri\n",
            "  FN: Hariri\n",
            "Sentence: NIDA'A AL-WATAN\n",
            "  FN: NIDA'A AL-WATAN\n",
            "Sentence: - Maronite Patriarch Sfeir expressed sorrow over the violations in Sunday ' elections .\n",
            "  FP: Sunday\n",
            "  FN: Maronite\n",
            "Sentence: CHICAGO 1996-08-22\n",
            "  FN: CHICAGO\n",
            "Sentence: Early calls on CME live and feeder cattle futures ranged from 0.200 cent higher to 0.100 lower , livestock analysts said .\n",
            "  FP: 0.200 cent\n",
            "  FP: 0.100\n",
            "Sentence: KinderCare Learning Centers Inc said on Thursday that a debt buyback would mean an extraordinary loss of $ 1.2 million in its fiscal 1997 first quarter .\n",
            "  FP: $ 1.2 million\n",
            "  FP: Thursday\n",
            "  FP: its fiscal 1997 first quarter\n",
            "Sentence: RESEARCH ALERT - Lehman starts SNET .\n",
            "  FP: RESEARCH ALERT - Lehman\n",
            "  FN: Lehman\n"
          ],
          "name": "stdout"
        }
      ]
    },
    {
      "cell_type": "markdown",
      "metadata": {
        "id": "FhSUIl6iY2BV"
      },
      "source": [
        "*TODO: Write a short text that summarises the errors that you observed*\n",
        "\n",
        "**Answer:**\n",
        "* Predicted 'The European Comission' instead of 'European Comission'. Some predictions contain less words than the gold-label, however it is difficult to descifer which is the logic behind the prediction. \n",
        "* Predicted dates. The gold-label set does not contain dates, therefore they will be removed from the prediction. \n",
        "* Predicted numeric values. The gold-label set does not contain numeric values, they will also be removed."
      ]
    },
    {
      "cell_type": "markdown",
      "metadata": {
        "id": "L1cuurC8Y2BV"
      },
      "source": [
        "Now, use the insights from your error analysis to improve the automated prediction that you implemented in Problem&nbsp;2. While the best way to do this would be to [update spaCy&rsquo;s NER model](https://spacy.io/usage/linguistic-features#updating) using domain-specific training data, for this lab it suffices to write code to post-process the output produced by spaCy. You should be able to improve the F1 score from Problem&nbsp;2 by at last 15 percentage points."
      ]
    },
    {
      "cell_type": "code",
      "metadata": {
        "id": "DD1UdZywY2BV"
      },
      "source": [
        "# TODO: Write code here to improve the span prediction from Problem 2\n",
        "def predict_improved(df):\n",
        "    wrong_label = ['DATE', 'CARDINAL', 'QUANTITY', 'PERCENT', 'MONEY', 'TIME', 'NAME', 'ORDINAL', 'PRODUCT']\n",
        "    for row in df.itertuples():\n",
        "        sentence = nlp(row[2])\n",
        "        for ent in sentence.ents:\n",
        "            if ent.label_ not in wrong_label:\n",
        "                start = sentence.text.split(' ').index(ent.text.split(' ')[0])\n",
        "                yield (row[1], start, start+len(ent.text.split(' ')))"
      ],
      "execution_count": null,
      "outputs": []
    },
    {
      "cell_type": "code",
      "metadata": {
        "scrolled": true,
        "colab": {
          "base_uri": "https://localhost:8080/"
        },
        "id": "f6T6K4isY2BV",
        "outputId": "221ea857-47b8-46ac-fb5b-917b26f5b9eb"
      },
      "source": [
        "preds_dev_gold = set(predict_improved(df_dev)) #predictions of dev data\n",
        "\n",
        "evaluation_report(spans_dev_gold, preds_dev_gold)"
      ],
      "execution_count": null,
      "outputs": [
        {
          "output_type": "stream",
          "text": [
            "Precision: 84%\n",
            "\n",
            "Recall: 67%\n",
            "\n",
            "F1-score: 74%\n"
          ],
          "name": "stdout"
        }
      ]
    },
    {
      "cell_type": "code",
      "metadata": {
        "colab": {
          "base_uri": "https://localhost:8080/",
          "height": 204
        },
        "id": "hk_jGIUAY2BW",
        "outputId": "a3bbf2d9-2a42-4dc6-fba2-473f269fa520"
      },
      "source": [
        "df_train.head()"
      ],
      "execution_count": null,
      "outputs": [
        {
          "output_type": "execute_result",
          "data": {
            "text/html": [
              "<div>\n",
              "<style scoped>\n",
              "    .dataframe tbody tr th:only-of-type {\n",
              "        vertical-align: middle;\n",
              "    }\n",
              "\n",
              "    .dataframe tbody tr th {\n",
              "        vertical-align: top;\n",
              "    }\n",
              "\n",
              "    .dataframe thead th {\n",
              "        text-align: right;\n",
              "    }\n",
              "</style>\n",
              "<table border=\"1\" class=\"dataframe\">\n",
              "  <thead>\n",
              "    <tr style=\"text-align: right;\">\n",
              "      <th></th>\n",
              "      <th>sentence_id</th>\n",
              "      <th>sentence</th>\n",
              "      <th>beg</th>\n",
              "      <th>end</th>\n",
              "      <th>label</th>\n",
              "    </tr>\n",
              "  </thead>\n",
              "  <tbody>\n",
              "    <tr>\n",
              "      <th>0</th>\n",
              "      <td>0000-000</td>\n",
              "      <td>EU rejects German call to boycott British lamb .</td>\n",
              "      <td>0</td>\n",
              "      <td>1</td>\n",
              "      <td>--NME--</td>\n",
              "    </tr>\n",
              "    <tr>\n",
              "      <th>1</th>\n",
              "      <td>0000-000</td>\n",
              "      <td>EU rejects German call to boycott British lamb .</td>\n",
              "      <td>2</td>\n",
              "      <td>3</td>\n",
              "      <td>Germany</td>\n",
              "    </tr>\n",
              "    <tr>\n",
              "      <th>2</th>\n",
              "      <td>0000-000</td>\n",
              "      <td>EU rejects German call to boycott British lamb .</td>\n",
              "      <td>6</td>\n",
              "      <td>7</td>\n",
              "      <td>United_Kingdom</td>\n",
              "    </tr>\n",
              "    <tr>\n",
              "      <th>3</th>\n",
              "      <td>0000-001</td>\n",
              "      <td>Peter Blackburn</td>\n",
              "      <td>0</td>\n",
              "      <td>2</td>\n",
              "      <td>--NME--</td>\n",
              "    </tr>\n",
              "    <tr>\n",
              "      <th>4</th>\n",
              "      <td>0000-002</td>\n",
              "      <td>BRUSSELS 1996-08-22</td>\n",
              "      <td>0</td>\n",
              "      <td>1</td>\n",
              "      <td>Brussels</td>\n",
              "    </tr>\n",
              "  </tbody>\n",
              "</table>\n",
              "</div>"
            ],
            "text/plain": [
              "  sentence_id  ...           label\n",
              "0    0000-000  ...         --NME--\n",
              "1    0000-000  ...         Germany\n",
              "2    0000-000  ...  United_Kingdom\n",
              "3    0000-001  ...         --NME--\n",
              "4    0000-002  ...        Brussels\n",
              "\n",
              "[5 rows x 5 columns]"
            ]
          },
          "metadata": {
            "tags": []
          },
          "execution_count": 16
        }
      ]
    },
    {
      "cell_type": "markdown",
      "metadata": {
        "id": "1f244QshY2BX"
      },
      "source": [
        "Show that you achieve the performance goal by reporting the evaluation measures that you implemented in Problem&nbsp;1."
      ]
    },
    {
      "cell_type": "markdown",
      "metadata": {
        "id": "RZNIrOkQY2BY"
      },
      "source": [
        "Before going on, we ask you to store the outputs of the improved named entity recognizer on the development data in a new data frame. This new frame should have the same layout as the original data frame for the development data that you loaded above, but should contain the *predicted* start and end positions for each token span, rather than the gold positions. As the `label` of each span, you can use the special value `--NME--`."
      ]
    },
    {
      "cell_type": "code",
      "metadata": {
        "colab": {
          "base_uri": "https://localhost:8080/",
          "height": 204
        },
        "id": "4_iLf0pvY2BY",
        "outputId": "34ed3963-ab50-48f3-d7e6-53844d54a533"
      },
      "source": [
        "# TODO: Write code here to store the predicted spans in a new data frame\n",
        "df_pred = pd.DataFrame(preds_dev_gold)\n",
        "df_pred['label'] = '--NME--'\n",
        "df_pred = df_pred.rename(columns={0: \"sentence-id\", 1: \"beg\", 2: \"end\"})\n",
        "df_pred.head()"
      ],
      "execution_count": null,
      "outputs": [
        {
          "output_type": "execute_result",
          "data": {
            "text/html": [
              "<div>\n",
              "<style scoped>\n",
              "    .dataframe tbody tr th:only-of-type {\n",
              "        vertical-align: middle;\n",
              "    }\n",
              "\n",
              "    .dataframe tbody tr th {\n",
              "        vertical-align: top;\n",
              "    }\n",
              "\n",
              "    .dataframe thead th {\n",
              "        text-align: right;\n",
              "    }\n",
              "</style>\n",
              "<table border=\"1\" class=\"dataframe\">\n",
              "  <thead>\n",
              "    <tr style=\"text-align: right;\">\n",
              "      <th></th>\n",
              "      <th>sentence-id</th>\n",
              "      <th>beg</th>\n",
              "      <th>end</th>\n",
              "      <th>label</th>\n",
              "    </tr>\n",
              "  </thead>\n",
              "  <tbody>\n",
              "    <tr>\n",
              "      <th>0</th>\n",
              "      <td>1103-003</td>\n",
              "      <td>5</td>\n",
              "      <td>7</td>\n",
              "      <td>--NME--</td>\n",
              "    </tr>\n",
              "    <tr>\n",
              "      <th>1</th>\n",
              "      <td>1051-011</td>\n",
              "      <td>25</td>\n",
              "      <td>27</td>\n",
              "      <td>--NME--</td>\n",
              "    </tr>\n",
              "    <tr>\n",
              "      <th>2</th>\n",
              "      <td>1046-006</td>\n",
              "      <td>19</td>\n",
              "      <td>21</td>\n",
              "      <td>--NME--</td>\n",
              "    </tr>\n",
              "    <tr>\n",
              "      <th>3</th>\n",
              "      <td>1000-015</td>\n",
              "      <td>41</td>\n",
              "      <td>42</td>\n",
              "      <td>--NME--</td>\n",
              "    </tr>\n",
              "    <tr>\n",
              "      <th>4</th>\n",
              "      <td>1017-000</td>\n",
              "      <td>4</td>\n",
              "      <td>6</td>\n",
              "      <td>--NME--</td>\n",
              "    </tr>\n",
              "  </tbody>\n",
              "</table>\n",
              "</div>"
            ],
            "text/plain": [
              "  sentence-id  beg  end    label\n",
              "0    1103-003    5    7  --NME--\n",
              "1    1051-011   25   27  --NME--\n",
              "2    1046-006   19   21  --NME--\n",
              "3    1000-015   41   42  --NME--\n",
              "4    1017-000    4    6  --NME--"
            ]
          },
          "metadata": {
            "tags": []
          },
          "execution_count": 17
        }
      ]
    },
    {
      "cell_type": "markdown",
      "metadata": {
        "id": "qLqUTIXgY2BZ"
      },
      "source": [
        "## Problem 4: Entity linking"
      ]
    },
    {
      "cell_type": "markdown",
      "metadata": {
        "id": "F64_FZtcY2BZ"
      },
      "source": [
        "Now that we have a method for predicting mention spans, we turn to the task of **entity linking**, which amounts to predicting the knowledge base entity that is referenced by a given mention. In our case, for each span we want to predict the Wikipedia page that this mention references.\n",
        "\n",
        "Start by extending the generator function that you implemented in Problem&nbsp;2 to labelled spans."
      ]
    },
    {
      "cell_type": "code",
      "metadata": {
        "id": "ss1rPnXhY2BZ"
      },
      "source": [
        "def gold_mentions(df):\n",
        "    \"\"\"Yield the gold-standard mentions in a data frame.\n",
        "\n",
        "    Args:\n",
        "        df: A data frame.\n",
        "\n",
        "    Yields:\n",
        "        The gold-standard mention spans in the specified data frame as\n",
        "        quadruples consisting of the sentence id, start position, end\n",
        "        position and entity label of each span.\n",
        "    \"\"\"\n",
        "    # TODO: Replace the next line with your own code\n",
        "    for row in df.itertuples():\n",
        "        yield (row[1],row[3],row[4],row[5])"
      ],
      "execution_count": null,
      "outputs": []
    },
    {
      "cell_type": "code",
      "metadata": {
        "colab": {
          "base_uri": "https://localhost:8080/"
        },
        "id": "0i8A8azh50je",
        "outputId": "93315d72-95c1-48cd-df07-d83d3b6c242b"
      },
      "source": [
        "spans_dev_gold = set(gold_mentions(df_dev))\n",
        "spans_dev_gold_l = list(gold_mentions(df_dev))\n",
        "\n",
        "print(len(spans_dev_gold))\n",
        "print(spans_dev_gold_l[0])\n",
        "print(spans_dev_gold_l[5916])"
      ],
      "execution_count": null,
      "outputs": [
        {
          "output_type": "stream",
          "text": [
            "5917\n",
            "('0946-000', 2, 3, 'Leicestershire_County_Cricket_Club')\n",
            "('1161-010', 1, 3, '--NME--')\n"
          ],
          "name": "stdout"
        }
      ]
    },
    {
      "cell_type": "markdown",
      "metadata": {
        "id": "2UlebAM9Y2BZ"
      },
      "source": [
        "A naive baseline for entity linking on our data set is to link each mention span to the Wikipedia page name that we get when we join the tokens in the span by underscores, as is standard in Wikipedia page names. Suppose, for example, that a span contains the two tokens\n",
        "\n",
        "    Jimi Hendrix\n",
        "\n",
        "The baseline Wikipedia page name for this span would be\n",
        "\n",
        "    Jimi_Hendrix\n",
        "\n",
        "Implement this naive baseline and evaluate its performance. Print the evaluation measures that you implemented in Problem&nbsp;1."
      ]
    },
    {
      "cell_type": "markdown",
      "metadata": {
        "id": "xSWD0mTrY2BZ"
      },
      "source": [
        "<div class=\"alert alert-warning\">\n",
        "    Here and in the remainder of this lab, you should base your entity predictions on the predicted spans that you computed in Problem&nbsp;3.\n",
        "</div>"
      ]
    },
    {
      "cell_type": "code",
      "metadata": {
        "id": "CftMr-_rY2BZ"
      },
      "source": [
        "# TODO: Write code here to implement the baseline\n",
        "def predict_linked(df):\n",
        "    wrong_label = ['DATE', 'CARDINAL', 'QUANTITY', 'PERCENT', 'MONEY', 'TIME', 'NAME', 'ORDINAL', 'PRODUCT']\n",
        "    for row in df.itertuples():\n",
        "        sentence = nlp(row[2])\n",
        "        for ent in sentence.ents:\n",
        "            if ent.label_ not in wrong_label:\n",
        "                start = sentence.text.split(' ').index(ent.text.split(' ')[0])\n",
        "                label = '_'.join(ent.text.split(' '))\n",
        "                yield (row[1], start, start+len(ent.text.split(' ')), label)"
      ],
      "execution_count": null,
      "outputs": []
    },
    {
      "cell_type": "code",
      "metadata": {
        "colab": {
          "base_uri": "https://localhost:8080/"
        },
        "id": "eHkqzLlt_lcS",
        "outputId": "54a152b6-291f-42d5-ccda-a313790a9eb7"
      },
      "source": [
        "preds_dev_gold = set(predict_linked(df_dev)) #predictions of dev data\n",
        "\n",
        "evaluation_report(spans_dev_gold, preds_dev_gold)"
      ],
      "execution_count": null,
      "outputs": [
        {
          "output_type": "stream",
          "text": [
            "Precision: 32%\n",
            "\n",
            "Recall: 25%\n",
            "\n",
            "F1-score: 28%\n"
          ],
          "name": "stdout"
        }
      ]
    },
    {
      "cell_type": "code",
      "metadata": {
        "colab": {
          "base_uri": "https://localhost:8080/",
          "height": 204
        },
        "id": "DjC1GRQSAGC8",
        "outputId": "2aeff911-dae7-400c-dcd3-c97dfd53bb9b"
      },
      "source": [
        "df_pred = pd.DataFrame(preds_dev_gold)\n",
        "df_pred = df_pred.rename(columns={0: \"sentence-id\", 1: \"beg\", 2: \"end\", 3:'label'})\n",
        "df_pred.head()"
      ],
      "execution_count": null,
      "outputs": [
        {
          "output_type": "execute_result",
          "data": {
            "text/html": [
              "<div>\n",
              "<style scoped>\n",
              "    .dataframe tbody tr th:only-of-type {\n",
              "        vertical-align: middle;\n",
              "    }\n",
              "\n",
              "    .dataframe tbody tr th {\n",
              "        vertical-align: top;\n",
              "    }\n",
              "\n",
              "    .dataframe thead th {\n",
              "        text-align: right;\n",
              "    }\n",
              "</style>\n",
              "<table border=\"1\" class=\"dataframe\">\n",
              "  <thead>\n",
              "    <tr style=\"text-align: right;\">\n",
              "      <th></th>\n",
              "      <th>sentence-id</th>\n",
              "      <th>beg</th>\n",
              "      <th>end</th>\n",
              "      <th>label</th>\n",
              "    </tr>\n",
              "  </thead>\n",
              "  <tbody>\n",
              "    <tr>\n",
              "      <th>0</th>\n",
              "      <td>1045-003</td>\n",
              "      <td>12</td>\n",
              "      <td>14</td>\n",
              "      <td>Security_Council</td>\n",
              "    </tr>\n",
              "    <tr>\n",
              "      <th>1</th>\n",
              "      <td>0947-002</td>\n",
              "      <td>7</td>\n",
              "      <td>8</td>\n",
              "      <td>English</td>\n",
              "    </tr>\n",
              "    <tr>\n",
              "      <th>2</th>\n",
              "      <td>1139-003</td>\n",
              "      <td>2</td>\n",
              "      <td>3</td>\n",
              "      <td>Wang</td>\n",
              "    </tr>\n",
              "    <tr>\n",
              "      <th>3</th>\n",
              "      <td>0960-007</td>\n",
              "      <td>17</td>\n",
              "      <td>18</td>\n",
              "      <td>3-6</td>\n",
              "    </tr>\n",
              "    <tr>\n",
              "      <th>4</th>\n",
              "      <td>1065-012</td>\n",
              "      <td>0</td>\n",
              "      <td>1</td>\n",
              "      <td>Clydebank</td>\n",
              "    </tr>\n",
              "  </tbody>\n",
              "</table>\n",
              "</div>"
            ],
            "text/plain": [
              "  sentence-id  beg  end             label\n",
              "0    1045-003   12   14  Security_Council\n",
              "1    0947-002    7    8           English\n",
              "2    1139-003    2    3              Wang\n",
              "3    0960-007   17   18               3-6\n",
              "4    1065-012    0    1         Clydebank"
            ]
          },
          "metadata": {
            "tags": []
          },
          "execution_count": 22
        }
      ]
    },
    {
      "cell_type": "markdown",
      "metadata": {
        "id": "FhHLNOJyY2BZ"
      },
      "source": [
        "## Problem 5: Extending the training data using the knowledge base"
      ]
    },
    {
      "cell_type": "markdown",
      "metadata": {
        "id": "ivGeqTnzY2Ba"
      },
      "source": [
        "State-of-the-art approaches to entity linking exploit information in knowledge bases. In our case, where Wikipedia is the knowledge base, one particularly useful type of information are links to other Wikipedia pages. In particular, we can interpret the anchor texts (the highlighted texts that you click on) as mentions of the entities (pages) that they link to. This allows us to harvest long lists of mention–entity pairings.\n",
        "\n",
        "The following cell loads a data frame summarizing anchor texts and page references harvested from the first paragraphs of the English Wikipedia. The data frame also contains all entity mentions in the training data (but not the development or the test data)."
      ]
    },
    {
      "cell_type": "code",
      "metadata": {
        "id": "KODaBYC8Y2Ba"
      },
      "source": [
        "with bz2.open('kb.tsv.bz2', 'rt') as source:\n",
        "    df_kb = pd.read_csv(source, sep='\\t', quoting=csv.QUOTE_NONE)"
      ],
      "execution_count": null,
      "outputs": []
    },
    {
      "cell_type": "markdown",
      "metadata": {
        "id": "JlZ6OrUSY2Ba"
      },
      "source": [
        "To understand what information is available in this data, the following cell shows the entry for the anchor text `Sweden`."
      ]
    },
    {
      "cell_type": "code",
      "metadata": {
        "colab": {
          "base_uri": "https://localhost:8080/",
          "height": 142
        },
        "id": "jkclNFZCY2Ba",
        "outputId": "9695d336-4e9a-446b-feb3-3b36a6e6acca"
      },
      "source": [
        "df_kb.loc[df_kb.mention == 'Sweden']"
      ],
      "execution_count": null,
      "outputs": [
        {
          "output_type": "execute_result",
          "data": {
            "text/html": [
              "<div>\n",
              "<style scoped>\n",
              "    .dataframe tbody tr th:only-of-type {\n",
              "        vertical-align: middle;\n",
              "    }\n",
              "\n",
              "    .dataframe tbody tr th {\n",
              "        vertical-align: top;\n",
              "    }\n",
              "\n",
              "    .dataframe thead th {\n",
              "        text-align: right;\n",
              "    }\n",
              "</style>\n",
              "<table border=\"1\" class=\"dataframe\">\n",
              "  <thead>\n",
              "    <tr style=\"text-align: right;\">\n",
              "      <th></th>\n",
              "      <th>mention</th>\n",
              "      <th>entity</th>\n",
              "      <th>prob</th>\n",
              "    </tr>\n",
              "  </thead>\n",
              "  <tbody>\n",
              "    <tr>\n",
              "      <th>17436</th>\n",
              "      <td>Sweden</td>\n",
              "      <td>Sweden</td>\n",
              "      <td>0.985768</td>\n",
              "    </tr>\n",
              "    <tr>\n",
              "      <th>17437</th>\n",
              "      <td>Sweden</td>\n",
              "      <td>Sweden_national_football_team</td>\n",
              "      <td>0.014173</td>\n",
              "    </tr>\n",
              "    <tr>\n",
              "      <th>17438</th>\n",
              "      <td>Sweden</td>\n",
              "      <td>Sweden_men's_national_ice_hockey_team</td>\n",
              "      <td>0.000059</td>\n",
              "    </tr>\n",
              "  </tbody>\n",
              "</table>\n",
              "</div>"
            ],
            "text/plain": [
              "      mention                                 entity      prob\n",
              "17436  Sweden                                 Sweden  0.985768\n",
              "17437  Sweden          Sweden_national_football_team  0.014173\n",
              "17438  Sweden  Sweden_men's_national_ice_hockey_team  0.000059"
            ]
          },
          "metadata": {
            "tags": []
          },
          "execution_count": 24
        }
      ]
    },
    {
      "cell_type": "markdown",
      "metadata": {
        "id": "IMYblsdqY2Bb"
      },
      "source": [
        "As you can see, each row of the data frame contains a pair $(m, e)$ of a mention $m$ and an entity $e$, as well as the conditional probability $P(e|m)$ for mention $m$ referring to entity $e$. These probabilities were estimated based on the frequencies of mention–entity pairs in the knowledge base. The example shows that the anchor text &lsquo;Sweden&rsquo; is most often used to refer to the entity [Sweden](http://en.wikipedia.org/wiki/Sweden), but in a few cases also to refer to Sweden&rsquo;s national football and ice hockey teams. Note that references are sorted in decreasing order of probability, so that the most probable pairing come first.\n",
        "\n",
        "Implement an entity linking method that resolves each mention to the most probable entity in the data frame. If the mention is not included in the data frame, you can predict the generic label `--NME--`. Print the precision, recall, and F1 of your method using the function that you implemented for Problem&nbsp;1."
      ]
    },
    {
      "cell_type": "code",
      "metadata": {
        "id": "xXF7YP6gY2Bb"
      },
      "source": [
        "# TODO: Write code here to implement the \"most probable entity\" method.\n",
        "\n",
        "def el_method(df):    \n",
        "    wrong_label = ['DATE', 'CARDINAL', 'QUANTITY', 'PERCENT', 'MONEY', 'TIME', 'NAME', 'ORDINAL', 'PRODUCT']\n",
        "    for row in df.itertuples():\n",
        "      sentence = nlp(row[2])\n",
        "      for ent in sentence.ents:\n",
        "        if ent.label_ not in wrong_label:\n",
        "          start = sentence.text.split(' ').index(ent.text.split(' ')[0])\n",
        "          df_ent = df_kb.entity[df_kb.mention == ent.text]\n",
        "          mention = '--NME--'\n",
        "          if df_ent.shape[0] > 0:\n",
        "            mention = df_ent.iloc[0]\n",
        "          yield (row[1], start, start+len(ent.text.split(' ')), mention)"
      ],
      "execution_count": null,
      "outputs": []
    },
    {
      "cell_type": "code",
      "metadata": {
        "colab": {
          "base_uri": "https://localhost:8080/"
        },
        "id": "GgE6jKryY2Bb",
        "outputId": "8b0b4643-54fa-4d21-df02-d2e90908f827"
      },
      "source": [
        "el_pred = set(el_method(df_dev))\n",
        "evaluation_report(spans_dev_gold, el_pred)"
      ],
      "execution_count": null,
      "outputs": [
        {
          "output_type": "stream",
          "text": [
            "Precision: 65%\n",
            "\n",
            "Recall: 51%\n",
            "\n",
            "F1-score: 57%\n"
          ],
          "name": "stdout"
        }
      ]
    },
    {
      "cell_type": "code",
      "metadata": {
        "colab": {
          "base_uri": "https://localhost:8080/",
          "height": 204
        },
        "id": "Oqdjv62jtBTE",
        "outputId": "4e1940a2-a934-4811-ee60-3bcbb42d8ced"
      },
      "source": [
        "df_pred_el = pd.DataFrame(el_pred)\n",
        "df_pred_el = df_pred_el.rename(columns={0: \"sentence-id\", 1: \"beg\", 2: \"end\", 3:'label'})\n",
        "df_pred_el.head()"
      ],
      "execution_count": null,
      "outputs": [
        {
          "output_type": "execute_result",
          "data": {
            "text/html": [
              "<div>\n",
              "<style scoped>\n",
              "    .dataframe tbody tr th:only-of-type {\n",
              "        vertical-align: middle;\n",
              "    }\n",
              "\n",
              "    .dataframe tbody tr th {\n",
              "        vertical-align: top;\n",
              "    }\n",
              "\n",
              "    .dataframe thead th {\n",
              "        text-align: right;\n",
              "    }\n",
              "</style>\n",
              "<table border=\"1\" class=\"dataframe\">\n",
              "  <thead>\n",
              "    <tr style=\"text-align: right;\">\n",
              "      <th></th>\n",
              "      <th>sentence-id</th>\n",
              "      <th>beg</th>\n",
              "      <th>end</th>\n",
              "      <th>label</th>\n",
              "    </tr>\n",
              "  </thead>\n",
              "  <tbody>\n",
              "    <tr>\n",
              "      <th>0</th>\n",
              "      <td>1003-007</td>\n",
              "      <td>12</td>\n",
              "      <td>14</td>\n",
              "      <td>Dési_Bouterse</td>\n",
              "    </tr>\n",
              "    <tr>\n",
              "      <th>1</th>\n",
              "      <td>0994-010</td>\n",
              "      <td>0</td>\n",
              "      <td>1</td>\n",
              "      <td>Alexander_Lukashenko</td>\n",
              "    </tr>\n",
              "    <tr>\n",
              "      <th>2</th>\n",
              "      <td>1098-002</td>\n",
              "      <td>6</td>\n",
              "      <td>7</td>\n",
              "      <td>World_Boxing_Organization</td>\n",
              "    </tr>\n",
              "    <tr>\n",
              "      <th>3</th>\n",
              "      <td>0966-157</td>\n",
              "      <td>4</td>\n",
              "      <td>5</td>\n",
              "      <td>Cuba</td>\n",
              "    </tr>\n",
              "    <tr>\n",
              "      <th>4</th>\n",
              "      <td>1128-007</td>\n",
              "      <td>0</td>\n",
              "      <td>1</td>\n",
              "      <td>--NME--</td>\n",
              "    </tr>\n",
              "  </tbody>\n",
              "</table>\n",
              "</div>"
            ],
            "text/plain": [
              "  sentence-id  beg  end                      label\n",
              "0    1003-007   12   14              Dési_Bouterse\n",
              "1    0994-010    0    1       Alexander_Lukashenko\n",
              "2    1098-002    6    7  World_Boxing_Organization\n",
              "3    0966-157    4    5                       Cuba\n",
              "4    1128-007    0    1                    --NME--"
            ]
          },
          "metadata": {
            "tags": []
          },
          "execution_count": 27
        }
      ]
    },
    {
      "cell_type": "markdown",
      "metadata": {
        "id": "eEZE6nlbY2Bb"
      },
      "source": [
        "## Problem 6: Context-sensitive disambiguation"
      ]
    },
    {
      "cell_type": "markdown",
      "metadata": {
        "id": "s0ASr7x7Y2Bc"
      },
      "source": [
        "Consider the entity mention &lsquo;Lincoln&rsquo;. The most probable entity for this mention turns out to be [Lincoln, Nebraska](http://en.wikipedia.org/Lincoln,_Nebraska); but in pages about American history, we would be better off to predict [Abraham Lincoln](http://en.wikipedia.org/Abraham_Lincoln). This suggests that we should try to disambiguate between different entity references based on the textual context on the page from which the mention was taken. Your task in this last problem is to implement this idea.\n",
        "\n",
        "Set up a dictionary that contains, for each mention $m$ that can refer to more than one entity $e$, a separate Naive Bayes classifier that is trained to predict the correct entity $e$, given the textual context of the mention. As the prior probabilities of the classifier, choose the probabilities $P(e|m)$ that you used in Problem&nbsp;5. To let you estimate the context-specific probabilities, we have compiled a data set with mention contexts:"
      ]
    },
    {
      "cell_type": "code",
      "metadata": {
        "id": "PaZDtBODY2Bc"
      },
      "source": [
        "from sklearn.pipeline import Pipeline\n",
        "from sklearn.naive_bayes import MultinomialNB\n",
        "from sklearn.feature_extraction.text import CountVectorizer\n",
        "\n",
        "with bz2.open('contexts.tsv.bz2') as source:\n",
        "    df_contexts = pd.read_csv(source, sep='\\t', quoting=csv.QUOTE_NONE)"
      ],
      "execution_count": null,
      "outputs": []
    },
    {
      "cell_type": "markdown",
      "metadata": {
        "id": "_vlRUubkY2Bc"
      },
      "source": [
        "This data frame contains, for each ambiguous mention $m$ and each knowledge base entity $e$ to which this mention can refer, up to 100 randomly selected contexts in which $m$ is used to refer to $e$. For this data, a **context** is defined as the 5 tokens to the left and the 5 tokens to the right of the mention. Here are a few examples:"
      ]
    },
    {
      "cell_type": "code",
      "metadata": {
        "colab": {
          "base_uri": "https://localhost:8080/",
          "height": 204
        },
        "id": "2C6SkpOQY2Bc",
        "outputId": "31c4b007-02d6-4e8e-a5d3-1f14ab07b56b"
      },
      "source": [
        "df_contexts.head()"
      ],
      "execution_count": null,
      "outputs": [
        {
          "output_type": "execute_result",
          "data": {
            "text/html": [
              "<div>\n",
              "<style scoped>\n",
              "    .dataframe tbody tr th:only-of-type {\n",
              "        vertical-align: middle;\n",
              "    }\n",
              "\n",
              "    .dataframe tbody tr th {\n",
              "        vertical-align: top;\n",
              "    }\n",
              "\n",
              "    .dataframe thead th {\n",
              "        text-align: right;\n",
              "    }\n",
              "</style>\n",
              "<table border=\"1\" class=\"dataframe\">\n",
              "  <thead>\n",
              "    <tr style=\"text-align: right;\">\n",
              "      <th></th>\n",
              "      <th>mention</th>\n",
              "      <th>entity</th>\n",
              "      <th>context</th>\n",
              "    </tr>\n",
              "  </thead>\n",
              "  <tbody>\n",
              "    <tr>\n",
              "      <th>0</th>\n",
              "      <td>1970</td>\n",
              "      <td>UEFA_Champions_League</td>\n",
              "      <td>Cup twice the first in @ and the second in 1983</td>\n",
              "    </tr>\n",
              "    <tr>\n",
              "      <th>1</th>\n",
              "      <td>1970</td>\n",
              "      <td>FIFA_World_Cup</td>\n",
              "      <td>America 1975 and during the @ and 1978 World C...</td>\n",
              "    </tr>\n",
              "    <tr>\n",
              "      <th>2</th>\n",
              "      <td>1990 World Cup</td>\n",
              "      <td>1990_FIFA_World_Cup</td>\n",
              "      <td>Manolo represented Spain at the @</td>\n",
              "    </tr>\n",
              "    <tr>\n",
              "      <th>3</th>\n",
              "      <td>1990 World Cup</td>\n",
              "      <td>1990_FIFA_World_Cup</td>\n",
              "      <td>Hašek represented Czechoslovakia at the @ and ...</td>\n",
              "    </tr>\n",
              "    <tr>\n",
              "      <th>4</th>\n",
              "      <td>1990 World Cup</td>\n",
              "      <td>1990_FIFA_World_Cup</td>\n",
              "      <td>renovations in 1989 for the @ The present capa...</td>\n",
              "    </tr>\n",
              "  </tbody>\n",
              "</table>\n",
              "</div>"
            ],
            "text/plain": [
              "          mention  ...                                            context\n",
              "0            1970  ...    Cup twice the first in @ and the second in 1983\n",
              "1            1970  ...  America 1975 and during the @ and 1978 World C...\n",
              "2  1990 World Cup  ...                 Manolo represented Spain at the @ \n",
              "3  1990 World Cup  ...  Hašek represented Czechoslovakia at the @ and ...\n",
              "4  1990 World Cup  ...  renovations in 1989 for the @ The present capa...\n",
              "\n",
              "[5 rows x 3 columns]"
            ]
          },
          "metadata": {
            "tags": []
          },
          "execution_count": 29
        }
      ]
    },
    {
      "cell_type": "markdown",
      "metadata": {
        "id": "Y1vKyyRkY2Bd"
      },
      "source": [
        "Note that, in each context, the position of the mention is indicated by the `@` symbol.\n",
        "\n",
        "From this data frame, it is easy to select the data that you need to train the classifiers – the contexts and corresponding entities for all mentions. To illustrate this, the following cell shows how to select all contexts that belong to the mention &lsquo;Lincoln&rsquo;:"
      ]
    },
    {
      "cell_type": "code",
      "metadata": {
        "colab": {
          "base_uri": "https://localhost:8080/"
        },
        "id": "flLVnwSQY2Bd",
        "outputId": "8dd5e8da-6954-4695-b26a-66b779bc5ebe"
      },
      "source": [
        "df_contexts.context[df_contexts.mention == 'Lincoln']"
      ],
      "execution_count": null,
      "outputs": [
        {
          "output_type": "execute_result",
          "data": {
            "text/plain": [
              "41465    Nebraska Concealed Handgun Permit In @ municip...\n",
              "41466    Lazlo restaurants are located in @ and Omaha C...\n",
              "41467    California Washington Overland Park Kansas @ N...\n",
              "41468    City Missouri Omaha Nebraska and @ Nebraska It...\n",
              "41469    by Sandhills Publishing Company in @ Nebraska USA\n",
              "                               ...                        \n",
              "41609                                      @ Leyton Orient\n",
              "41610                    English division three Swansea @ \n",
              "41611    league membership narrowly edging out @ on goa...\n",
              "41612                                          @ Cambridge\n",
              "41613                                                   @ \n",
              "Name: context, Length: 149, dtype: object"
            ]
          },
          "metadata": {
            "tags": []
          },
          "execution_count": 30
        }
      ]
    },
    {
      "cell_type": "code",
      "metadata": {
        "colab": {
          "base_uri": "https://localhost:8080/",
          "height": 142
        },
        "id": "XObK-_j0aXhq",
        "outputId": "398a1389-cffe-4da4-b7f9-7eaf63391223"
      },
      "source": [
        "df_kb.loc[df_kb.mention == 'Sweden']"
      ],
      "execution_count": null,
      "outputs": [
        {
          "output_type": "execute_result",
          "data": {
            "text/html": [
              "<div>\n",
              "<style scoped>\n",
              "    .dataframe tbody tr th:only-of-type {\n",
              "        vertical-align: middle;\n",
              "    }\n",
              "\n",
              "    .dataframe tbody tr th {\n",
              "        vertical-align: top;\n",
              "    }\n",
              "\n",
              "    .dataframe thead th {\n",
              "        text-align: right;\n",
              "    }\n",
              "</style>\n",
              "<table border=\"1\" class=\"dataframe\">\n",
              "  <thead>\n",
              "    <tr style=\"text-align: right;\">\n",
              "      <th></th>\n",
              "      <th>mention</th>\n",
              "      <th>entity</th>\n",
              "      <th>prob</th>\n",
              "    </tr>\n",
              "  </thead>\n",
              "  <tbody>\n",
              "    <tr>\n",
              "      <th>17436</th>\n",
              "      <td>Sweden</td>\n",
              "      <td>Sweden</td>\n",
              "      <td>0.985768</td>\n",
              "    </tr>\n",
              "    <tr>\n",
              "      <th>17437</th>\n",
              "      <td>Sweden</td>\n",
              "      <td>Sweden_national_football_team</td>\n",
              "      <td>0.014173</td>\n",
              "    </tr>\n",
              "    <tr>\n",
              "      <th>17438</th>\n",
              "      <td>Sweden</td>\n",
              "      <td>Sweden_men's_national_ice_hockey_team</td>\n",
              "      <td>0.000059</td>\n",
              "    </tr>\n",
              "  </tbody>\n",
              "</table>\n",
              "</div>"
            ],
            "text/plain": [
              "      mention                                 entity      prob\n",
              "17436  Sweden                                 Sweden  0.985768\n",
              "17437  Sweden          Sweden_national_football_team  0.014173\n",
              "17438  Sweden  Sweden_men's_national_ice_hockey_team  0.000059"
            ]
          },
          "metadata": {
            "tags": []
          },
          "execution_count": 31
        }
      ]
    },
    {
      "cell_type": "code",
      "metadata": {
        "colab": {
          "base_uri": "https://localhost:8080/"
        },
        "id": "6-ryht0XaYLR",
        "outputId": "9c44eb40-0c24-4922-a4d9-9a6bd4589f5a"
      },
      "source": [
        "df_contexts.entity[df_contexts.mention == 'Sweden'].unique()"
      ],
      "execution_count": null,
      "outputs": [
        {
          "output_type": "execute_result",
          "data": {
            "text/plain": [
              "array(['Sweden', 'Sweden_national_football_team',\n",
              "       \"Sweden_men's_national_ice_hockey_team\"], dtype=object)"
            ]
          },
          "metadata": {
            "tags": []
          },
          "execution_count": 32
        }
      ]
    },
    {
      "cell_type": "markdown",
      "metadata": {
        "id": "6I_UoaYrY2Bd"
      },
      "source": [
        "Implement the context-sensitive disambiguation method and evaluate its performance. Here are some more hints that may help you along the way:\n",
        "\n",
        "**Hint 1:** The prior probabilities for a Naive Bayes classifier can be specified using the `class_prior` option. You will have to provide the probabilities in the same order as the alphabetically sorted class (entity) names.\n",
        "\n",
        "**Hint 2:** Not all mentions in the knowledge base are ambiguous, and therefore not all mentions have context data. If a mention has only one possible entity, pick that one. If a mention has no entity at all, predict the `--NME--` label."
      ]
    },
    {
      "cell_type": "code",
      "metadata": {
        "colab": {
          "base_uri": "https://localhost:8080/",
          "height": 204
        },
        "id": "5dKW7l1JCG21",
        "outputId": "375a5764-3d38-46b4-a70a-149c911cfd33"
      },
      "source": [
        "def predict_ent(df):\n",
        "  wrong_label = ['DATE', 'CARDINAL', 'QUANTITY', 'PERCENT', 'MONEY', 'TIME', 'NAME', 'ORDINAL', 'PRODUCT']\n",
        "  for row in df.itertuples():\n",
        "    sentence = nlp(row[2])\n",
        "    for ent in sentence.ents:\n",
        "      if ent.label_ not in wrong_label:\n",
        "        start = sentence.text.split(' ').index(ent.text.split(' ')[0])\n",
        "        entity = ent.text\n",
        "        yield (row[1], start, start+len(ent.text.split(' ')), entity)\n",
        "\n",
        "df_pred_ent = pd.DataFrame(set(predict_ent(df_dev)))\n",
        "df_pred_ent = df_pred_ent.rename(columns={0: \"sentence_id\", 1: \"beg\", 2: \"end\", 3:'label'})\n",
        "df_pred_ent.head()\n"
      ],
      "execution_count": null,
      "outputs": [
        {
          "output_type": "execute_result",
          "data": {
            "text/html": [
              "<div>\n",
              "<style scoped>\n",
              "    .dataframe tbody tr th:only-of-type {\n",
              "        vertical-align: middle;\n",
              "    }\n",
              "\n",
              "    .dataframe tbody tr th {\n",
              "        vertical-align: top;\n",
              "    }\n",
              "\n",
              "    .dataframe thead th {\n",
              "        text-align: right;\n",
              "    }\n",
              "</style>\n",
              "<table border=\"1\" class=\"dataframe\">\n",
              "  <thead>\n",
              "    <tr style=\"text-align: right;\">\n",
              "      <th></th>\n",
              "      <th>sentence_id</th>\n",
              "      <th>beg</th>\n",
              "      <th>end</th>\n",
              "      <th>label</th>\n",
              "    </tr>\n",
              "  </thead>\n",
              "  <tbody>\n",
              "    <tr>\n",
              "      <th>0</th>\n",
              "      <td>0947-002</td>\n",
              "      <td>7</td>\n",
              "      <td>8</td>\n",
              "      <td>English</td>\n",
              "    </tr>\n",
              "    <tr>\n",
              "      <th>1</th>\n",
              "      <td>1139-003</td>\n",
              "      <td>2</td>\n",
              "      <td>3</td>\n",
              "      <td>Wang</td>\n",
              "    </tr>\n",
              "    <tr>\n",
              "      <th>2</th>\n",
              "      <td>0960-007</td>\n",
              "      <td>17</td>\n",
              "      <td>18</td>\n",
              "      <td>3-6</td>\n",
              "    </tr>\n",
              "    <tr>\n",
              "      <th>3</th>\n",
              "      <td>0966-050</td>\n",
              "      <td>1</td>\n",
              "      <td>3</td>\n",
              "      <td>Isaac Viciosa</td>\n",
              "    </tr>\n",
              "    <tr>\n",
              "      <th>4</th>\n",
              "      <td>0972-025</td>\n",
              "      <td>0</td>\n",
              "      <td>5</td>\n",
              "      <td>R. Kaluwitharana b S. Waugh</td>\n",
              "    </tr>\n",
              "  </tbody>\n",
              "</table>\n",
              "</div>"
            ],
            "text/plain": [
              "  sentence_id  beg  end                        label\n",
              "0    0947-002    7    8                      English\n",
              "1    1139-003    2    3                         Wang\n",
              "2    0960-007   17   18                          3-6\n",
              "3    0966-050    1    3                Isaac Viciosa\n",
              "4    0972-025    0    5  R. Kaluwitharana b S. Waugh"
            ]
          },
          "metadata": {
            "tags": []
          },
          "execution_count": 33
        }
      ]
    },
    {
      "cell_type": "code",
      "metadata": {
        "colab": {
          "base_uri": "https://localhost:8080/",
          "height": 173
        },
        "id": "Lk5RSU_mx95z",
        "outputId": "7ad3fc5e-f0fd-4538-9d69-e1d500c541c5"
      },
      "source": [
        "df_pred_ent[df_pred_ent.sentence_id == \"1045-002\"].head()"
      ],
      "execution_count": null,
      "outputs": [
        {
          "output_type": "execute_result",
          "data": {
            "text/html": [
              "<div>\n",
              "<style scoped>\n",
              "    .dataframe tbody tr th:only-of-type {\n",
              "        vertical-align: middle;\n",
              "    }\n",
              "\n",
              "    .dataframe tbody tr th {\n",
              "        vertical-align: top;\n",
              "    }\n",
              "\n",
              "    .dataframe thead th {\n",
              "        text-align: right;\n",
              "    }\n",
              "</style>\n",
              "<table border=\"1\" class=\"dataframe\">\n",
              "  <thead>\n",
              "    <tr style=\"text-align: right;\">\n",
              "      <th></th>\n",
              "      <th>sentence_id</th>\n",
              "      <th>beg</th>\n",
              "      <th>end</th>\n",
              "      <th>label</th>\n",
              "    </tr>\n",
              "  </thead>\n",
              "  <tbody>\n",
              "    <tr>\n",
              "      <th>1726</th>\n",
              "      <td>1045-002</td>\n",
              "      <td>23</td>\n",
              "      <td>25</td>\n",
              "      <td>Middle East</td>\n",
              "    </tr>\n",
              "    <tr>\n",
              "      <th>1884</th>\n",
              "      <td>1045-002</td>\n",
              "      <td>13</td>\n",
              "      <td>14</td>\n",
              "      <td>Palestinian</td>\n",
              "    </tr>\n",
              "    <tr>\n",
              "      <th>1920</th>\n",
              "      <td>1045-002</td>\n",
              "      <td>8</td>\n",
              "      <td>9</td>\n",
              "      <td>Israel</td>\n",
              "    </tr>\n",
              "    <tr>\n",
              "      <th>4651</th>\n",
              "      <td>1045-002</td>\n",
              "      <td>0</td>\n",
              "      <td>2</td>\n",
              "      <td>Security Council</td>\n",
              "    </tr>\n",
              "  </tbody>\n",
              "</table>\n",
              "</div>"
            ],
            "text/plain": [
              "     sentence_id  beg  end             label\n",
              "1726    1045-002   23   25       Middle East\n",
              "1884    1045-002   13   14       Palestinian\n",
              "1920    1045-002    8    9            Israel\n",
              "4651    1045-002    0    2  Security Council"
            ]
          },
          "metadata": {
            "tags": []
          },
          "execution_count": 34
        }
      ]
    },
    {
      "cell_type": "code",
      "metadata": {
        "colab": {
          "base_uri": "https://localhost:8080/",
          "height": 173
        },
        "id": "ZuoIbvnzxJZ2",
        "outputId": "0724c28f-1b5f-4ca1-8bff-57182ad95c79"
      },
      "source": [
        "df_dev[df_dev.sentence_id == \"1045-002\"].head()"
      ],
      "execution_count": null,
      "outputs": [
        {
          "output_type": "execute_result",
          "data": {
            "text/html": [
              "<div>\n",
              "<style scoped>\n",
              "    .dataframe tbody tr th:only-of-type {\n",
              "        vertical-align: middle;\n",
              "    }\n",
              "\n",
              "    .dataframe tbody tr th {\n",
              "        vertical-align: top;\n",
              "    }\n",
              "\n",
              "    .dataframe thead th {\n",
              "        text-align: right;\n",
              "    }\n",
              "</style>\n",
              "<table border=\"1\" class=\"dataframe\">\n",
              "  <thead>\n",
              "    <tr style=\"text-align: right;\">\n",
              "      <th></th>\n",
              "      <th>sentence_id</th>\n",
              "      <th>sentence</th>\n",
              "      <th>beg</th>\n",
              "      <th>end</th>\n",
              "      <th>label</th>\n",
              "    </tr>\n",
              "  </thead>\n",
              "  <tbody>\n",
              "    <tr>\n",
              "      <th>2698</th>\n",
              "      <td>1045-002</td>\n",
              "      <td>Security Council members expressed concern on ...</td>\n",
              "      <td>0</td>\n",
              "      <td>2</td>\n",
              "      <td>United_Nations_Security_Council</td>\n",
              "    </tr>\n",
              "    <tr>\n",
              "      <th>2699</th>\n",
              "      <td>1045-002</td>\n",
              "      <td>Security Council members expressed concern on ...</td>\n",
              "      <td>8</td>\n",
              "      <td>9</td>\n",
              "      <td>Israel</td>\n",
              "    </tr>\n",
              "    <tr>\n",
              "      <th>2700</th>\n",
              "      <td>1045-002</td>\n",
              "      <td>Security Council members expressed concern on ...</td>\n",
              "      <td>13</td>\n",
              "      <td>14</td>\n",
              "      <td>State_of_Palestine</td>\n",
              "    </tr>\n",
              "    <tr>\n",
              "      <th>2701</th>\n",
              "      <td>1045-002</td>\n",
              "      <td>Security Council members expressed concern on ...</td>\n",
              "      <td>23</td>\n",
              "      <td>25</td>\n",
              "      <td>Middle_East</td>\n",
              "    </tr>\n",
              "  </tbody>\n",
              "</table>\n",
              "</div>"
            ],
            "text/plain": [
              "     sentence_id  ...                            label\n",
              "2698    1045-002  ...  United_Nations_Security_Council\n",
              "2699    1045-002  ...                           Israel\n",
              "2700    1045-002  ...               State_of_Palestine\n",
              "2701    1045-002  ...                      Middle_East\n",
              "\n",
              "[4 rows x 5 columns]"
            ]
          },
          "metadata": {
            "tags": []
          },
          "execution_count": 35
        }
      ]
    },
    {
      "cell_type": "code",
      "metadata": {
        "id": "5bL1OPgfF2sw"
      },
      "source": [
        "from sklearn.pipeline import Pipeline\n",
        "from sklearn.naive_bayes import MultinomialNB\n",
        "from sklearn.feature_extraction.text import CountVectorizer\n",
        "\n",
        "NB_dict = {}\n",
        "\n",
        "for mention in df_pred_ent.label.unique():\n",
        "  #mention_id = '_'.join(mention.split(' '))\n",
        "  NB_dict[mention] = {}\n",
        "  if df_contexts.context[df_contexts.mention==mention].shape[0] == 0:\n",
        "    for s_id in df_pred_ent.sentence_id[df_pred_ent.label ==mention].iteritems():\n",
        "      NB_dict[mention][s_id[1]] = '--NME--'\n",
        "\n",
        "  if df_contexts.context[df_contexts.mention==mention].shape[0] == 1:\n",
        "    for s_id in df_pred_ent.sentence_id[df_pred_ent.label ==mention].iteritems():\n",
        "      NB_dict[mention][s_id[1]] = df_contexts.entity[df_contexts.mention==mention][0]\n",
        "  \n",
        "  if df_contexts.context[df_contexts.mention==mention].shape[0] > 1:\n",
        "    X = df_contexts.context[df_contexts.mention == mention]\n",
        "    y = df_contexts.entity[df_contexts.mention == mention]\n",
        "    #class_prior=df_kb.loc[df_kb.mention == mention].sort_values('entity').prob\n",
        "    pipe = Pipeline(steps=[('preprocessor', CountVectorizer()), ('model', MultinomialNB())])\n",
        "    pipe.fit(X,y)\n",
        "\n",
        "    for row in df_pred_ent.loc[df_pred_ent.label==mention].itertuples():\n",
        "      NB_dict[mention][row[1]] = pipe.predict(df_dev.sentence[df_dev.sentence_id == row[1]])[0]\n"
      ],
      "execution_count": null,
      "outputs": []
    },
    {
      "cell_type": "code",
      "metadata": {
        "colab": {
          "base_uri": "https://localhost:8080/",
          "height": 142
        },
        "id": "tzkqW0zRGW1Q",
        "outputId": "aff28606-8e73-41d8-8ec1-89c9114508b7"
      },
      "source": [
        "df_pred_ent.loc[df_pred_ent.sentence_id==\"1016-012\"]\n",
        "#df_pred_ent.itertuples()[0][0]"
      ],
      "execution_count": null,
      "outputs": [
        {
          "output_type": "execute_result",
          "data": {
            "text/html": [
              "<div>\n",
              "<style scoped>\n",
              "    .dataframe tbody tr th:only-of-type {\n",
              "        vertical-align: middle;\n",
              "    }\n",
              "\n",
              "    .dataframe tbody tr th {\n",
              "        vertical-align: top;\n",
              "    }\n",
              "\n",
              "    .dataframe thead th {\n",
              "        text-align: right;\n",
              "    }\n",
              "</style>\n",
              "<table border=\"1\" class=\"dataframe\">\n",
              "  <thead>\n",
              "    <tr style=\"text-align: right;\">\n",
              "      <th></th>\n",
              "      <th>sentence_id</th>\n",
              "      <th>beg</th>\n",
              "      <th>end</th>\n",
              "      <th>label</th>\n",
              "    </tr>\n",
              "  </thead>\n",
              "  <tbody>\n",
              "    <tr>\n",
              "      <th>1073</th>\n",
              "      <td>1016-012</td>\n",
              "      <td>9</td>\n",
              "      <td>10</td>\n",
              "      <td>Israeli</td>\n",
              "    </tr>\n",
              "    <tr>\n",
              "      <th>2288</th>\n",
              "      <td>1016-012</td>\n",
              "      <td>13</td>\n",
              "      <td>14</td>\n",
              "      <td>Netanyahu</td>\n",
              "    </tr>\n",
              "    <tr>\n",
              "      <th>3871</th>\n",
              "      <td>1016-012</td>\n",
              "      <td>0</td>\n",
              "      <td>1</td>\n",
              "      <td>Levy</td>\n",
              "    </tr>\n",
              "  </tbody>\n",
              "</table>\n",
              "</div>"
            ],
            "text/plain": [
              "     sentence_id  beg  end      label\n",
              "1073    1016-012    9   10    Israeli\n",
              "2288    1016-012   13   14  Netanyahu\n",
              "3871    1016-012    0    1       Levy"
            ]
          },
          "metadata": {
            "tags": []
          },
          "execution_count": 59
        }
      ]
    },
    {
      "cell_type": "code",
      "metadata": {
        "colab": {
          "base_uri": "https://localhost:8080/",
          "height": 142
        },
        "id": "4lqs0Vr_JkCT",
        "outputId": "7436f1c1-a796-404c-f88b-da2fe0414e25"
      },
      "source": [
        "df_pred_csd.loc[df_pred_csd.sentence_id==\"1016-012\"]"
      ],
      "execution_count": null,
      "outputs": [
        {
          "output_type": "execute_result",
          "data": {
            "text/html": [
              "<div>\n",
              "<style scoped>\n",
              "    .dataframe tbody tr th:only-of-type {\n",
              "        vertical-align: middle;\n",
              "    }\n",
              "\n",
              "    .dataframe tbody tr th {\n",
              "        vertical-align: top;\n",
              "    }\n",
              "\n",
              "    .dataframe thead th {\n",
              "        text-align: right;\n",
              "    }\n",
              "</style>\n",
              "<table border=\"1\" class=\"dataframe\">\n",
              "  <thead>\n",
              "    <tr style=\"text-align: right;\">\n",
              "      <th></th>\n",
              "      <th>sentence_id</th>\n",
              "      <th>beg</th>\n",
              "      <th>end</th>\n",
              "      <th>label</th>\n",
              "    </tr>\n",
              "  </thead>\n",
              "  <tbody>\n",
              "    <tr>\n",
              "      <th>1</th>\n",
              "      <td>1016-012</td>\n",
              "      <td>13</td>\n",
              "      <td>14</td>\n",
              "      <td>--NME--</td>\n",
              "    </tr>\n",
              "    <tr>\n",
              "      <th>4113</th>\n",
              "      <td>1016-012</td>\n",
              "      <td>9</td>\n",
              "      <td>10</td>\n",
              "      <td>Israel</td>\n",
              "    </tr>\n",
              "    <tr>\n",
              "      <th>4629</th>\n",
              "      <td>1016-012</td>\n",
              "      <td>0</td>\n",
              "      <td>1</td>\n",
              "      <td>--NME--</td>\n",
              "    </tr>\n",
              "  </tbody>\n",
              "</table>\n",
              "</div>"
            ],
            "text/plain": [
              "     sentence_id  beg  end    label\n",
              "1       1016-012   13   14  --NME--\n",
              "4113    1016-012    9   10   Israel\n",
              "4629    1016-012    0    1  --NME--"
            ]
          },
          "metadata": {
            "tags": []
          },
          "execution_count": 60
        }
      ]
    },
    {
      "cell_type": "code",
      "metadata": {
        "colab": {
          "base_uri": "https://localhost:8080/",
          "height": 49
        },
        "id": "BfMXGJ87KI_7",
        "outputId": "2fb5a6e7-0cc8-48f4-f57d-10d6c37f5dac"
      },
      "source": [
        "df_contexts.loc[df_contexts.mention == 'Levy']"
      ],
      "execution_count": null,
      "outputs": [
        {
          "output_type": "execute_result",
          "data": {
            "text/html": [
              "<div>\n",
              "<style scoped>\n",
              "    .dataframe tbody tr th:only-of-type {\n",
              "        vertical-align: middle;\n",
              "    }\n",
              "\n",
              "    .dataframe tbody tr th {\n",
              "        vertical-align: top;\n",
              "    }\n",
              "\n",
              "    .dataframe thead th {\n",
              "        text-align: right;\n",
              "    }\n",
              "</style>\n",
              "<table border=\"1\" class=\"dataframe\">\n",
              "  <thead>\n",
              "    <tr style=\"text-align: right;\">\n",
              "      <th></th>\n",
              "      <th>mention</th>\n",
              "      <th>entity</th>\n",
              "      <th>context</th>\n",
              "    </tr>\n",
              "  </thead>\n",
              "  <tbody>\n",
              "  </tbody>\n",
              "</table>\n",
              "</div>"
            ],
            "text/plain": [
              "Empty DataFrame\n",
              "Columns: [mention, entity, context]\n",
              "Index: []"
            ]
          },
          "metadata": {
            "tags": []
          },
          "execution_count": 62
        }
      ]
    },
    {
      "cell_type": "code",
      "metadata": {
        "id": "TWOIPRoykaq2",
        "colab": {
          "base_uri": "https://localhost:8080/",
          "height": 1000
        },
        "outputId": "5a4ae2fe-ab88-4f63-8417-bdc0204102c1"
      },
      "source": [
        "def pred_csd(df):\n",
        "  for row in df.itertuples():\n",
        "    entity = NB_dict[row[4]][row[1]]\n",
        "    yield (row[1], row[2], row[3], entity)\n",
        "\n",
        "csd_pred = set(pred_csd(df_pred_ent))\n",
        "df_pred_csd = pd.DataFrame(csd_pred)\n",
        "df_pred_csd = df_pred_csd.rename(columns={0: \"sentence_id\", 1: \"beg\", 2: \"end\", 3:'label'})\n",
        "df_pred_csd.head(50)"
      ],
      "execution_count": null,
      "outputs": [
        {
          "output_type": "execute_result",
          "data": {
            "text/html": [
              "<div>\n",
              "<style scoped>\n",
              "    .dataframe tbody tr th:only-of-type {\n",
              "        vertical-align: middle;\n",
              "    }\n",
              "\n",
              "    .dataframe tbody tr th {\n",
              "        vertical-align: top;\n",
              "    }\n",
              "\n",
              "    .dataframe thead th {\n",
              "        text-align: right;\n",
              "    }\n",
              "</style>\n",
              "<table border=\"1\" class=\"dataframe\">\n",
              "  <thead>\n",
              "    <tr style=\"text-align: right;\">\n",
              "      <th></th>\n",
              "      <th>sentence_id</th>\n",
              "      <th>beg</th>\n",
              "      <th>end</th>\n",
              "      <th>label</th>\n",
              "    </tr>\n",
              "  </thead>\n",
              "  <tbody>\n",
              "    <tr>\n",
              "      <th>0</th>\n",
              "      <td>0966-121</td>\n",
              "      <td>1</td>\n",
              "      <td>3</td>\n",
              "      <td>--NME--</td>\n",
              "    </tr>\n",
              "    <tr>\n",
              "      <th>1</th>\n",
              "      <td>1016-012</td>\n",
              "      <td>13</td>\n",
              "      <td>14</td>\n",
              "      <td>--NME--</td>\n",
              "    </tr>\n",
              "    <tr>\n",
              "      <th>2</th>\n",
              "      <td>1034-000</td>\n",
              "      <td>0</td>\n",
              "      <td>1</td>\n",
              "      <td>Dutch_people</td>\n",
              "    </tr>\n",
              "    <tr>\n",
              "      <th>3</th>\n",
              "      <td>1017-006</td>\n",
              "      <td>5</td>\n",
              "      <td>6</td>\n",
              "      <td>--NME--</td>\n",
              "    </tr>\n",
              "    <tr>\n",
              "      <th>4</th>\n",
              "      <td>1155-013</td>\n",
              "      <td>1</td>\n",
              "      <td>2</td>\n",
              "      <td>Nazi_Germany</td>\n",
              "    </tr>\n",
              "    <tr>\n",
              "      <th>5</th>\n",
              "      <td>0991-010</td>\n",
              "      <td>9</td>\n",
              "      <td>10</td>\n",
              "      <td>--NME--</td>\n",
              "    </tr>\n",
              "    <tr>\n",
              "      <th>6</th>\n",
              "      <td>1128-007</td>\n",
              "      <td>0</td>\n",
              "      <td>1</td>\n",
              "      <td>--NME--</td>\n",
              "    </tr>\n",
              "    <tr>\n",
              "      <th>7</th>\n",
              "      <td>0984-008</td>\n",
              "      <td>15</td>\n",
              "      <td>16</td>\n",
              "      <td>--NME--</td>\n",
              "    </tr>\n",
              "    <tr>\n",
              "      <th>8</th>\n",
              "      <td>0980-003</td>\n",
              "      <td>2</td>\n",
              "      <td>3</td>\n",
              "      <td>Chicago</td>\n",
              "    </tr>\n",
              "    <tr>\n",
              "      <th>9</th>\n",
              "      <td>1089-010</td>\n",
              "      <td>17</td>\n",
              "      <td>18</td>\n",
              "      <td>Sweden</td>\n",
              "    </tr>\n",
              "    <tr>\n",
              "      <th>10</th>\n",
              "      <td>1087-004</td>\n",
              "      <td>21</td>\n",
              "      <td>22</td>\n",
              "      <td>Pakistan</td>\n",
              "    </tr>\n",
              "    <tr>\n",
              "      <th>11</th>\n",
              "      <td>1030-040</td>\n",
              "      <td>1</td>\n",
              "      <td>2</td>\n",
              "      <td>Tokyo</td>\n",
              "    </tr>\n",
              "    <tr>\n",
              "      <th>12</th>\n",
              "      <td>1000-017</td>\n",
              "      <td>7</td>\n",
              "      <td>8</td>\n",
              "      <td>--NME--</td>\n",
              "    </tr>\n",
              "    <tr>\n",
              "      <th>13</th>\n",
              "      <td>0995-016</td>\n",
              "      <td>16</td>\n",
              "      <td>18</td>\n",
              "      <td>--NME--</td>\n",
              "    </tr>\n",
              "    <tr>\n",
              "      <th>14</th>\n",
              "      <td>1078-005</td>\n",
              "      <td>0</td>\n",
              "      <td>3</td>\n",
              "      <td>--NME--</td>\n",
              "    </tr>\n",
              "    <tr>\n",
              "      <th>15</th>\n",
              "      <td>0966-099</td>\n",
              "      <td>1</td>\n",
              "      <td>3</td>\n",
              "      <td>--NME--</td>\n",
              "    </tr>\n",
              "    <tr>\n",
              "      <th>16</th>\n",
              "      <td>1056-044</td>\n",
              "      <td>3</td>\n",
              "      <td>4</td>\n",
              "      <td>Russia_national_football_team</td>\n",
              "    </tr>\n",
              "    <tr>\n",
              "      <th>17</th>\n",
              "      <td>1033-009</td>\n",
              "      <td>0</td>\n",
              "      <td>1</td>\n",
              "      <td>--NME--</td>\n",
              "    </tr>\n",
              "    <tr>\n",
              "      <th>18</th>\n",
              "      <td>1020-002</td>\n",
              "      <td>19</td>\n",
              "      <td>22</td>\n",
              "      <td>--NME--</td>\n",
              "    </tr>\n",
              "    <tr>\n",
              "      <th>19</th>\n",
              "      <td>1144-002</td>\n",
              "      <td>7</td>\n",
              "      <td>9</td>\n",
              "      <td>--NME--</td>\n",
              "    </tr>\n",
              "    <tr>\n",
              "      <th>20</th>\n",
              "      <td>0966-016</td>\n",
              "      <td>1</td>\n",
              "      <td>4</td>\n",
              "      <td>--NME--</td>\n",
              "    </tr>\n",
              "    <tr>\n",
              "      <th>21</th>\n",
              "      <td>1128-011</td>\n",
              "      <td>12</td>\n",
              "      <td>13</td>\n",
              "      <td>--NME--</td>\n",
              "    </tr>\n",
              "    <tr>\n",
              "      <th>22</th>\n",
              "      <td>1140-003</td>\n",
              "      <td>12</td>\n",
              "      <td>14</td>\n",
              "      <td>--NME--</td>\n",
              "    </tr>\n",
              "    <tr>\n",
              "      <th>23</th>\n",
              "      <td>1126-002</td>\n",
              "      <td>11</td>\n",
              "      <td>12</td>\n",
              "      <td>--NME--</td>\n",
              "    </tr>\n",
              "    <tr>\n",
              "      <th>24</th>\n",
              "      <td>1146-005</td>\n",
              "      <td>23</td>\n",
              "      <td>24</td>\n",
              "      <td>Baghdad</td>\n",
              "    </tr>\n",
              "    <tr>\n",
              "      <th>25</th>\n",
              "      <td>1011-007</td>\n",
              "      <td>4</td>\n",
              "      <td>7</td>\n",
              "      <td>--NME--</td>\n",
              "    </tr>\n",
              "    <tr>\n",
              "      <th>26</th>\n",
              "      <td>0963-022</td>\n",
              "      <td>2</td>\n",
              "      <td>4</td>\n",
              "      <td>--NME--</td>\n",
              "    </tr>\n",
              "    <tr>\n",
              "      <th>27</th>\n",
              "      <td>0983-005</td>\n",
              "      <td>1</td>\n",
              "      <td>2</td>\n",
              "      <td>English_language</td>\n",
              "    </tr>\n",
              "    <tr>\n",
              "      <th>28</th>\n",
              "      <td>1000-005</td>\n",
              "      <td>11</td>\n",
              "      <td>12</td>\n",
              "      <td>Vienna</td>\n",
              "    </tr>\n",
              "    <tr>\n",
              "      <th>29</th>\n",
              "      <td>1096-041</td>\n",
              "      <td>11</td>\n",
              "      <td>12</td>\n",
              "      <td>Run_(baseball)</td>\n",
              "    </tr>\n",
              "    <tr>\n",
              "      <th>30</th>\n",
              "      <td>1152-014</td>\n",
              "      <td>23</td>\n",
              "      <td>25</td>\n",
              "      <td>United_States_Air_Force</td>\n",
              "    </tr>\n",
              "    <tr>\n",
              "      <th>31</th>\n",
              "      <td>0957-020</td>\n",
              "      <td>26</td>\n",
              "      <td>28</td>\n",
              "      <td>--NME--</td>\n",
              "    </tr>\n",
              "    <tr>\n",
              "      <th>32</th>\n",
              "      <td>1155-005</td>\n",
              "      <td>14</td>\n",
              "      <td>15</td>\n",
              "      <td>Tehran</td>\n",
              "    </tr>\n",
              "    <tr>\n",
              "      <th>33</th>\n",
              "      <td>1015-003</td>\n",
              "      <td>5</td>\n",
              "      <td>6</td>\n",
              "      <td>--NME--</td>\n",
              "    </tr>\n",
              "    <tr>\n",
              "      <th>34</th>\n",
              "      <td>1086-002</td>\n",
              "      <td>2</td>\n",
              "      <td>4</td>\n",
              "      <td>--NME--</td>\n",
              "    </tr>\n",
              "    <tr>\n",
              "      <th>35</th>\n",
              "      <td>1031-004</td>\n",
              "      <td>39</td>\n",
              "      <td>41</td>\n",
              "      <td>--NME--</td>\n",
              "    </tr>\n",
              "    <tr>\n",
              "      <th>36</th>\n",
              "      <td>1118-007</td>\n",
              "      <td>7</td>\n",
              "      <td>10</td>\n",
              "      <td>--NME--</td>\n",
              "    </tr>\n",
              "    <tr>\n",
              "      <th>37</th>\n",
              "      <td>0980-005</td>\n",
              "      <td>21</td>\n",
              "      <td>22</td>\n",
              "      <td>--NME--</td>\n",
              "    </tr>\n",
              "    <tr>\n",
              "      <th>38</th>\n",
              "      <td>1156-003</td>\n",
              "      <td>32</td>\n",
              "      <td>33</td>\n",
              "      <td>Italy</td>\n",
              "    </tr>\n",
              "    <tr>\n",
              "      <th>39</th>\n",
              "      <td>0993-003</td>\n",
              "      <td>24</td>\n",
              "      <td>25</td>\n",
              "      <td>--NME--</td>\n",
              "    </tr>\n",
              "    <tr>\n",
              "      <th>40</th>\n",
              "      <td>0958-001</td>\n",
              "      <td>0</td>\n",
              "      <td>2</td>\n",
              "      <td>New_York_City</td>\n",
              "    </tr>\n",
              "    <tr>\n",
              "      <th>41</th>\n",
              "      <td>1153-002</td>\n",
              "      <td>1</td>\n",
              "      <td>2</td>\n",
              "      <td>Belgium</td>\n",
              "    </tr>\n",
              "    <tr>\n",
              "      <th>42</th>\n",
              "      <td>1056-022</td>\n",
              "      <td>4</td>\n",
              "      <td>5</td>\n",
              "      <td>Australia_national_cricket_team</td>\n",
              "    </tr>\n",
              "    <tr>\n",
              "      <th>43</th>\n",
              "      <td>0946-006</td>\n",
              "      <td>15</td>\n",
              "      <td>17</td>\n",
              "      <td>--NME--</td>\n",
              "    </tr>\n",
              "    <tr>\n",
              "      <th>44</th>\n",
              "      <td>1004-002</td>\n",
              "      <td>4</td>\n",
              "      <td>5</td>\n",
              "      <td>--NME--</td>\n",
              "    </tr>\n",
              "    <tr>\n",
              "      <th>45</th>\n",
              "      <td>1058-008</td>\n",
              "      <td>1</td>\n",
              "      <td>2</td>\n",
              "      <td>Indigenous_peoples_of_the_Americas</td>\n",
              "    </tr>\n",
              "    <tr>\n",
              "      <th>46</th>\n",
              "      <td>0990-009</td>\n",
              "      <td>6</td>\n",
              "      <td>7</td>\n",
              "      <td>--NME--</td>\n",
              "    </tr>\n",
              "    <tr>\n",
              "      <th>47</th>\n",
              "      <td>0946-004</td>\n",
              "      <td>14</td>\n",
              "      <td>15</td>\n",
              "      <td>--NME--</td>\n",
              "    </tr>\n",
              "    <tr>\n",
              "      <th>48</th>\n",
              "      <td>1054-016</td>\n",
              "      <td>4</td>\n",
              "      <td>5</td>\n",
              "      <td>--NME--</td>\n",
              "    </tr>\n",
              "    <tr>\n",
              "      <th>49</th>\n",
              "      <td>1067-002</td>\n",
              "      <td>2</td>\n",
              "      <td>3</td>\n",
              "      <td>Scotland</td>\n",
              "    </tr>\n",
              "  </tbody>\n",
              "</table>\n",
              "</div>"
            ],
            "text/plain": [
              "   sentence_id  beg  end                               label\n",
              "0     0966-121    1    3                             --NME--\n",
              "1     1016-012   13   14                             --NME--\n",
              "2     1034-000    0    1                        Dutch_people\n",
              "3     1017-006    5    6                             --NME--\n",
              "4     1155-013    1    2                        Nazi_Germany\n",
              "5     0991-010    9   10                             --NME--\n",
              "6     1128-007    0    1                             --NME--\n",
              "7     0984-008   15   16                             --NME--\n",
              "8     0980-003    2    3                             Chicago\n",
              "9     1089-010   17   18                              Sweden\n",
              "10    1087-004   21   22                            Pakistan\n",
              "11    1030-040    1    2                               Tokyo\n",
              "12    1000-017    7    8                             --NME--\n",
              "13    0995-016   16   18                             --NME--\n",
              "14    1078-005    0    3                             --NME--\n",
              "15    0966-099    1    3                             --NME--\n",
              "16    1056-044    3    4       Russia_national_football_team\n",
              "17    1033-009    0    1                             --NME--\n",
              "18    1020-002   19   22                             --NME--\n",
              "19    1144-002    7    9                             --NME--\n",
              "20    0966-016    1    4                             --NME--\n",
              "21    1128-011   12   13                             --NME--\n",
              "22    1140-003   12   14                             --NME--\n",
              "23    1126-002   11   12                             --NME--\n",
              "24    1146-005   23   24                             Baghdad\n",
              "25    1011-007    4    7                             --NME--\n",
              "26    0963-022    2    4                             --NME--\n",
              "27    0983-005    1    2                    English_language\n",
              "28    1000-005   11   12                              Vienna\n",
              "29    1096-041   11   12                      Run_(baseball)\n",
              "30    1152-014   23   25             United_States_Air_Force\n",
              "31    0957-020   26   28                             --NME--\n",
              "32    1155-005   14   15                              Tehran\n",
              "33    1015-003    5    6                             --NME--\n",
              "34    1086-002    2    4                             --NME--\n",
              "35    1031-004   39   41                             --NME--\n",
              "36    1118-007    7   10                             --NME--\n",
              "37    0980-005   21   22                             --NME--\n",
              "38    1156-003   32   33                               Italy\n",
              "39    0993-003   24   25                             --NME--\n",
              "40    0958-001    0    2                       New_York_City\n",
              "41    1153-002    1    2                             Belgium\n",
              "42    1056-022    4    5     Australia_national_cricket_team\n",
              "43    0946-006   15   17                             --NME--\n",
              "44    1004-002    4    5                             --NME--\n",
              "45    1058-008    1    2  Indigenous_peoples_of_the_Americas\n",
              "46    0990-009    6    7                             --NME--\n",
              "47    0946-004   14   15                             --NME--\n",
              "48    1054-016    4    5                             --NME--\n",
              "49    1067-002    2    3                            Scotland"
            ]
          },
          "metadata": {
            "tags": []
          },
          "execution_count": 44
        }
      ]
    },
    {
      "cell_type": "code",
      "metadata": {
        "id": "APzPChwUpfCV",
        "colab": {
          "base_uri": "https://localhost:8080/"
        },
        "outputId": "d75c326c-7194-44d2-e422-3d098dbdd062"
      },
      "source": [
        "evaluation_report(spans_dev_gold, csd_pred)"
      ],
      "execution_count": null,
      "outputs": [
        {
          "output_type": "stream",
          "text": [
            "Precision: 31%\n",
            "\n",
            "Recall: 25%\n",
            "\n",
            "F1-score: 27%\n"
          ],
          "name": "stdout"
        }
      ]
    },
    {
      "cell_type": "markdown",
      "metadata": {
        "id": "az_aHaGRY2Be"
      },
      "source": [
        "You should expect to see a small (around 1&nbsp;unit) increase in both precision, recall, and F1."
      ]
    },
    {
      "cell_type": "markdown",
      "metadata": {
        "id": "tY-kpEW4Y2Be"
      },
      "source": [
        "**This was the last lab in the Text Mining course. Congratulations!**"
      ]
    },
    {
      "cell_type": "markdown",
      "metadata": {
        "id": "zqxkUn6UY2Be"
      },
      "source": [
        "<div class=\"alert alert-info\">\n",
        "    Please read the section ‘General information’ on the ‘Labs’ page of the course website before submitting this notebook!\n",
        "</div>"
      ]
    }
  ]
}