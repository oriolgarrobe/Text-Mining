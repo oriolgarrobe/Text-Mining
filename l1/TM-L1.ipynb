{
 "cells": [
  {
   "cell_type": "markdown",
   "metadata": {
    "id": "NT7J6hhkMcqs"
   },
   "source": [
    "# L1: Information retrieval"
   ]
  },
  {
   "cell_type": "markdown",
   "metadata": {
    "id": "zAJxSqphMcqw"
   },
   "source": [
    "In this lab you will apply basic techniques from information retrieval to implement the core of a minimalistic search engine. The data for this lab consists of a collection of app descriptions scraped from the [Google Play Store](https://play.google.com/store/apps?hl=en). From this collection, your search engine should retrieve those apps whose descriptions best match a given query under the vector space model."
   ]
  },
  {
   "cell_type": "markdown",
   "metadata": {
    "id": "0mmqJWWjMcqz"
   },
   "source": [
    "## Data set"
   ]
  },
  {
   "cell_type": "markdown",
   "metadata": {
    "id": "65TiMRfeMcq1"
   },
   "source": [
    "The app descriptions come in the form of a compressed [JSON](https://en.wikipedia.org/wiki/JSON) file. Start by loading this file into a [Pandas](https://pandas.pydata.org) [DataFrame](https://pandas.pydata.org/pandas-docs/stable/getting_started/dsintro.html#dataframe)."
   ]
  },
  {
   "cell_type": "code",
   "execution_count": 3,
   "metadata": {
    "id": "04TORG1oMcq3"
   },
   "outputs": [],
   "source": [
    "import bz2\n",
    "import pandas as pd\n",
    "\n",
    "with bz2.open('app-descriptions.json.bz2') as source:\n",
    "    df = pd.read_json(source)"
   ]
  },
  {
   "cell_type": "markdown",
   "metadata": {
    "id": "_8jA5ivgMcq_"
   },
   "source": [
    "In Pandas, a DataFrame is a table with indexed rows and labelled columns of potentially different types. Data in a DataFrame can be accessed in various ways, including by row and by column. To give an example, the code in the next cell shows rows 200–204:"
   ]
  },
  {
   "cell_type": "code",
   "execution_count": 4,
   "metadata": {
    "colab": {
     "base_uri": "https://localhost:8080/",
     "height": 204
    },
    "id": "2lLBb4SdMcrA",
    "outputId": "04a3033d-03e9-4eaf-c445-4757b2bf71c7"
   },
   "outputs": [
    {
     "data": {
      "text/html": [
       "<div>\n",
       "<style scoped>\n",
       "    .dataframe tbody tr th:only-of-type {\n",
       "        vertical-align: middle;\n",
       "    }\n",
       "\n",
       "    .dataframe tbody tr th {\n",
       "        vertical-align: top;\n",
       "    }\n",
       "\n",
       "    .dataframe thead th {\n",
       "        text-align: right;\n",
       "    }\n",
       "</style>\n",
       "<table border=\"1\" class=\"dataframe\">\n",
       "  <thead>\n",
       "    <tr style=\"text-align: right;\">\n",
       "      <th></th>\n",
       "      <th>name</th>\n",
       "      <th>description</th>\n",
       "    </tr>\n",
       "  </thead>\n",
       "  <tbody>\n",
       "    <tr>\n",
       "      <th>200</th>\n",
       "      <td>Brick Breaker Star: Space King</td>\n",
       "      <td>Introducing the best Brick Breaker game that e...</td>\n",
       "    </tr>\n",
       "    <tr>\n",
       "      <th>201</th>\n",
       "      <td>Brick Classic - Brick Game</td>\n",
       "      <td>Classic Brick Game!\\n\\nBrick Classic is a popu...</td>\n",
       "    </tr>\n",
       "    <tr>\n",
       "      <th>202</th>\n",
       "      <td>Bricks Breaker - Glow Balls</td>\n",
       "      <td>Bricks Breaker - Glow Balls is a addictive and...</td>\n",
       "    </tr>\n",
       "    <tr>\n",
       "      <th>203</th>\n",
       "      <td>Bricks Breaker Quest</td>\n",
       "      <td>How to play\\n- The ball flies to wherever you ...</td>\n",
       "    </tr>\n",
       "    <tr>\n",
       "      <th>204</th>\n",
       "      <td>Brothers in Arms® 3</td>\n",
       "      <td>Fight brave soldiers from around the globe on ...</td>\n",
       "    </tr>\n",
       "  </tbody>\n",
       "</table>\n",
       "</div>"
      ],
      "text/plain": [
       "                               name                                        description\n",
       "200  Brick Breaker Star: Space King  Introducing the best Brick Breaker game that e...\n",
       "201      Brick Classic - Brick Game  Classic Brick Game!\\n\\nBrick Classic is a popu...\n",
       "202     Bricks Breaker - Glow Balls  Bricks Breaker - Glow Balls is a addictive and...\n",
       "203            Bricks Breaker Quest  How to play\\n- The ball flies to wherever you ...\n",
       "204             Brothers in Arms® 3  Fight brave soldiers from around the globe on ..."
      ]
     },
     "execution_count": 4,
     "metadata": {
      "tags": []
     },
     "output_type": "execute_result"
    }
   ],
   "source": [
    "df[200:205]"
   ]
  },
  {
   "cell_type": "markdown",
   "metadata": {
    "id": "pT-MIrZgMcrH"
   },
   "source": [
    "As you can see, there are two labelled columns: `name` (the name of the app) and `description` (a textual description). The code in the next cell shows how to acess fields from the description column."
   ]
  },
  {
   "cell_type": "code",
   "execution_count": 5,
   "metadata": {
    "colab": {
     "base_uri": "https://localhost:8080/"
    },
    "id": "HaydENo4McrI",
    "outputId": "06df8eaa-e2fb-4ac9-fb2f-3d40d31a99c7"
   },
   "outputs": [
    {
     "data": {
      "text/plain": [
       "200    Introducing the best Brick Breaker game that e...\n",
       "201    Classic Brick Game!\\n\\nBrick Classic is a popu...\n",
       "202    Bricks Breaker - Glow Balls is a addictive and...\n",
       "203    How to play\\n- The ball flies to wherever you ...\n",
       "204    Fight brave soldiers from around the globe on ...\n",
       "Name: description, dtype: object"
      ]
     },
     "execution_count": 5,
     "metadata": {
      "tags": []
     },
     "output_type": "execute_result"
    }
   ],
   "source": [
    "df['description'][200:205]"
   ]
  },
  {
   "cell_type": "markdown",
   "metadata": {
    "id": "PAcLHFecMcrO"
   },
   "source": [
    "## Problem 1: Preprocessing"
   ]
  },
  {
   "cell_type": "markdown",
   "metadata": {
    "id": "ZHE1j5EYMcrP"
   },
   "source": [
    "Your first task is to implement a preprocessor for your search engine. In the vector space model, *preprocessing* refers to any kind of transformation that is applied before a text is vectorized. Here you can restrict yourself to a very simple preprocessing: tokenization, stop word removal, and lemmatization.\n",
    "\n",
    "To implement your preprocessor, you can use [spaCy](https://spacy.io). Make sure that you read the [Linguistic annotations](https://spacy.io/usage/spacy-101#annotations) section of the spaCy&nbsp;101; that section contains all the information that you need for this problem (and more).\n",
    "\n",
    "Implement your preprocessor by completing the skeleton code in the next cell, adding additional code as you feel necessary."
   ]
  },
  {
   "cell_type": "code",
   "execution_count": 6,
   "metadata": {
    "id": "4zLA2C4jMcrQ"
   },
   "outputs": [],
   "source": [
    "import spacy\n",
    "\n",
    "def preprocess(text):\n",
    "   \n",
    "    # Load Model\n",
    "    nlp = spacy.load('en_core_web_sm')\n",
    "    \n",
    "    # tokenization, stop word removal and lemmatization and discarding non-alphabetical characters  \n",
    "    return [token.lemma_ for token in nlp(text) if token.lemma_.isalpha() and not token.is_stop]"
   ]
  },
  {
   "cell_type": "markdown",
   "metadata": {
    "id": "BcR95oxEMcrU"
   },
   "source": [
    "Your implementation should conform to the following specification:\n",
    "\n",
    "<strong>preprocess</strong> (<em>text</em>)\n",
    "\n",
    "> Preprocesses given text by tokenizing it, removing any stop words, replacing each remaining token with its lemma (base form), and discarding all lemmas that contain non-alphabetical characters. Returns the list of remaining lemmas (represented as strings).\n",
    "\n",
    "**Tip:** To speed up the preprocessing, you can disable loading those spaCy components that you do not need, such as the part-of-speech tagger, parser, and named entity recognizer. See [here](https://spacy.io/usage/processing-pipelines#disabling) for more information about this."
   ]
  },
  {
   "cell_type": "markdown",
   "metadata": {
    "id": "XTZOyWfHMcrV"
   },
   "source": [
    "Test your implementation by running the following cell:"
   ]
  },
  {
   "cell_type": "code",
   "execution_count": 7,
   "metadata": {
    "colab": {
     "base_uri": "https://localhost:8080/"
    },
    "id": "T74myT0bMcrW",
    "outputId": "cdd6a80e-eed7-4c48-bd88-34d11f7442b0"
   },
   "outputs": [
    {
     "data": {
      "text/plain": [
       "['Apple', 'look', 'buy', 'startup', 'billion']"
      ]
     },
     "execution_count": 7,
     "metadata": {
      "tags": []
     },
     "output_type": "execute_result"
    }
   ],
   "source": [
    "preprocess('Apple is looking at buying U.K. startup for $1 billion')"
   ]
  },
  {
   "cell_type": "markdown",
   "metadata": {
    "id": "st5scr89Mcrb"
   },
   "source": [
    "This should give the following output:\n"
   ]
  },
  {
   "cell_type": "markdown",
   "metadata": {
    "id": "ci6-res3Mcrc"
   },
   "source": [
    "['Apple', 'look', 'buy', 'startup', 'billion']"
   ]
  },
  {
   "cell_type": "markdown",
   "metadata": {
    "id": "LlQzsWD0Mcrd"
   },
   "source": [
    "## Problem 2: Vectorizing"
   ]
  },
  {
   "cell_type": "markdown",
   "metadata": {
    "id": "X51JProCMcre"
   },
   "source": [
    "Your next task is to vectorize the data – and more specifically, to map each app description to a tf–idf vector. For this you can use the [TfidfVectorizer](https://scikit-learn.org/stable/modules/generated/sklearn.feature_extraction.text.TfidfVectorizer.html) class from [scikit-learn](https://scikit-learn.org/stable/). Make sure to specify your preprocessor from the previous problem as the `tokenizer` &ndash; not the `preprocessor`! &ndash; for the vectorizer. (In scikit-learn parlance, the `preprocessor` handles string-level preprocessing.)"
   ]
  },
  {
   "cell_type": "code",
   "execution_count": 8,
   "metadata": {
    "id": "WlBHMUB1Mcrf"
   },
   "outputs": [],
   "source": [
    "import numpy as np\n",
    "from sklearn.feature_extraction.text import TfidfVectorizer"
   ]
  },
  {
   "cell_type": "code",
   "execution_count": 9,
   "metadata": {
    "id": "VwDscWwwMcri"
   },
   "outputs": [],
   "source": [
    "vectorizer = TfidfVectorizer(tokenizer=preprocess)\n",
    "X = vectorizer.fit_transform(df['description'])"
   ]
  },
  {
   "cell_type": "markdown",
   "metadata": {
    "id": "tC5G81dbMcrm"
   },
   "source": [
    "Test your implementation by running the following cell:"
   ]
  },
  {
   "cell_type": "code",
   "execution_count": 10,
   "metadata": {
    "colab": {
     "base_uri": "https://localhost:8080/"
    },
    "id": "38XfEtGwMcrn",
    "outputId": "79af284f-b068-48f6-d2be-5a0d560bcc91"
   },
   "outputs": [
    {
     "data": {
      "text/plain": [
       "(1614, 21610)"
      ]
     },
     "execution_count": 10,
     "metadata": {
      "tags": []
     },
     "output_type": "execute_result"
    }
   ],
   "source": [
    "X.shape"
   ]
  },
  {
   "cell_type": "markdown",
   "metadata": {
    "id": "N5vcp7JfMcrr"
   },
   "source": [
    "This should show the dimensions of the matrix `X` to be 1614 × 20669."
   ]
  },
  {
   "cell_type": "markdown",
   "metadata": {
    "id": "Q45wJnqHMcrs"
   },
   "source": [
    "## Problem 3: Retrieving"
   ]
  },
  {
   "cell_type": "markdown",
   "metadata": {
    "id": "w4SABZypMcrs"
   },
   "source": [
    "To complete the search engine, your last task is to write a function that returns the most relevant app descriptions for a given query. An easy way to do solve this task is to use scikit-learn&rsquo;s [NearestNeighbors](https://scikit-learn.org/stable/modules/generated/sklearn.neighbors.NearestNeighbors.html) class. That class implements unsupervised nearest neighbours learning, and allows you to easily find a predefined number of app descriptions whose vector representations are closest to the query vector."
   ]
  },
  {
   "cell_type": "code",
   "execution_count": 11,
   "metadata": {
    "id": "8g2uHePQMcrt"
   },
   "outputs": [],
   "source": [
    "from sklearn.neighbors import NearestNeighbors\n",
    "\n",
    "# Train model\n",
    "knn = NearestNeighbors(n_neighbors=10, metric='cosine')\n",
    "knn.fit(X)\n",
    "\n",
    "def search(query):\n",
    "    # TODO: Replace the next line with your own code.\n",
    "    input_features = vectorizer.transform([query])\n",
    "    N = knn.kneighbors(input_features, return_distance=False)\n",
    "    \n",
    "    return df.iloc[N[0]]\n"
   ]
  },
  {
   "cell_type": "markdown",
   "metadata": {
    "id": "Z1ZXX0K9Mcrx"
   },
   "source": [
    "Your implementation should conform to the following specification:\n",
    "\n",
    "<strong>search</strong> (<em>query</em>)\n",
    "\n",
    "> Returns the 10 app descriptions most similar (in terms of cosine similarity) to the given query as a Pandas DataFrame."
   ]
  },
  {
   "cell_type": "markdown",
   "metadata": {
    "id": "DFDoT-gTMcry"
   },
   "source": [
    "Test your implementation by running the following cell:"
   ]
  },
  {
   "cell_type": "code",
   "execution_count": 12,
   "metadata": {
    "colab": {
     "base_uri": "https://localhost:8080/",
     "height": 359
    },
    "id": "VEtAZQeOMcry",
    "outputId": "46f139dd-a112-47d4-c9d3-875a45815a51",
    "scrolled": true
   },
   "outputs": [
    {
     "data": {
      "text/html": [
       "<div>\n",
       "<style scoped>\n",
       "    .dataframe tbody tr th:only-of-type {\n",
       "        vertical-align: middle;\n",
       "    }\n",
       "\n",
       "    .dataframe tbody tr th {\n",
       "        vertical-align: top;\n",
       "    }\n",
       "\n",
       "    .dataframe thead th {\n",
       "        text-align: right;\n",
       "    }\n",
       "</style>\n",
       "<table border=\"1\" class=\"dataframe\">\n",
       "  <thead>\n",
       "    <tr style=\"text-align: right;\">\n",
       "      <th></th>\n",
       "      <th>name</th>\n",
       "      <th>description</th>\n",
       "    </tr>\n",
       "  </thead>\n",
       "  <tbody>\n",
       "    <tr>\n",
       "      <th>998</th>\n",
       "      <td>No Humanity - The Hardest Game</td>\n",
       "      <td>2M+ Downloads All Over The World!\\n\\n* IGN Nom...</td>\n",
       "    </tr>\n",
       "    <tr>\n",
       "      <th>1300</th>\n",
       "      <td>Subway Princess Runner</td>\n",
       "      <td>Subway princess runner, Bus run, forest rush w...</td>\n",
       "    </tr>\n",
       "    <tr>\n",
       "      <th>1168</th>\n",
       "      <td>Rush</td>\n",
       "      <td>Are you ready for a thrilling ride?\\n\\nRush th...</td>\n",
       "    </tr>\n",
       "    <tr>\n",
       "      <th>1465</th>\n",
       "      <td>Virus War - Space Shooting Game</td>\n",
       "      <td>Warning! Virus invasion! Destroy them with you...</td>\n",
       "    </tr>\n",
       "    <tr>\n",
       "      <th>1153</th>\n",
       "      <td>Road Riot</td>\n",
       "      <td>Road Riot is the global sensation that defined...</td>\n",
       "    </tr>\n",
       "    <tr>\n",
       "      <th>1301</th>\n",
       "      <td>Subway Surfers</td>\n",
       "      <td>DASH as fast as you can! \\nDODGE the oncoming ...</td>\n",
       "    </tr>\n",
       "    <tr>\n",
       "      <th>360</th>\n",
       "      <td>Dancing Road: Color Ball Run!</td>\n",
       "      <td>Try out the most exciting Running - Sliding - ...</td>\n",
       "    </tr>\n",
       "    <tr>\n",
       "      <th>29</th>\n",
       "      <td>Agar.io</td>\n",
       "      <td>Play online with players around the world as y...</td>\n",
       "    </tr>\n",
       "    <tr>\n",
       "      <th>757</th>\n",
       "      <td>Kids Numbers and Math</td>\n",
       "      <td>Wouldn't it be just wonderful if there was a s...</td>\n",
       "    </tr>\n",
       "    <tr>\n",
       "      <th>1113</th>\n",
       "      <td>Race the Traffic</td>\n",
       "      <td>Race the Traffic is one of the best racing gam...</td>\n",
       "    </tr>\n",
       "  </tbody>\n",
       "</table>\n",
       "</div>"
      ],
      "text/plain": [
       "                                 name                                        description\n",
       "998    No Humanity - The Hardest Game  2M+ Downloads All Over The World!\\n\\n* IGN Nom...\n",
       "1300           Subway Princess Runner  Subway princess runner, Bus run, forest rush w...\n",
       "1168                             Rush  Are you ready for a thrilling ride?\\n\\nRush th...\n",
       "1465  Virus War - Space Shooting Game  Warning! Virus invasion! Destroy them with you...\n",
       "1153                        Road Riot  Road Riot is the global sensation that defined...\n",
       "1301                   Subway Surfers  DASH as fast as you can! \\nDODGE the oncoming ...\n",
       "360     Dancing Road: Color Ball Run!  Try out the most exciting Running - Sliding - ...\n",
       "29                            Agar.io  Play online with players around the world as y...\n",
       "757             Kids Numbers and Math  Wouldn't it be just wonderful if there was a s...\n",
       "1113                 Race the Traffic  Race the Traffic is one of the best racing gam..."
      ]
     },
     "execution_count": 12,
     "metadata": {
      "tags": []
     },
     "output_type": "execute_result"
    }
   ],
   "source": [
    "search('dodge trains')"
   ]
  },
  {
   "cell_type": "markdown",
   "metadata": {
    "id": "OuaSsc52Mcr3"
   },
   "source": [
    "The top hit in the list should be *Subway Surfers*."
   ]
  },
  {
   "cell_type": "markdown",
   "metadata": {
    "id": "COx8tlW6Mcr3"
   },
   "source": [
    "## Problem 4: Finding terms with low/high idf"
   ]
  },
  {
   "cell_type": "markdown",
   "metadata": {
    "id": "FeUCdrV0Mcr4"
   },
   "source": [
    "Recall that the inverse document frequency (idf) of a term is the lower the more documents from a given collection the term appears in. To get a better understanding for this concept, your next task is to write code to find out which terms have the lowest/highest idf with respect to the app descriptions.\n",
    "\n",
    "Start by sorting the terms in increasing order of idf, breaking ties by falling back on alphabetic order."
   ]
  },
  {
   "cell_type": "code",
   "execution_count": 13,
   "metadata": {
    "id": "u-8zyJ6MMcr5"
   },
   "outputs": [],
   "source": [
    "# TODO: Replace the next line with your own code.\n",
    "\n",
    "feature_names = vectorizer.get_feature_names() # All the words\n",
    "feature_idf = vectorizer.idf_ # idf values of the All the words\n",
    "\n",
    "zipped = zip(feature_names, feature_idf) # map each word to its idf value\n",
    "terms = dict(sorted(zipped, key = lambda t: t[1])) # sort in ascending idf value - this is a list\n"
   ]
  },
  {
   "cell_type": "markdown",
   "metadata": {
    "id": "k-4ONySjMcr-"
   },
   "source": [
    "Now, print the 10 terms with the lowest/highest idf. How do you explain the results?"
   ]
  },
  {
   "cell_type": "code",
   "execution_count": 14,
   "metadata": {
    "colab": {
     "base_uri": "https://localhost:8080/"
    },
    "id": "4huGcF-fMcr_",
    "outputId": "f0460a96-6777-4c86-bd78-4490afb40a26"
   },
   "outputs": [
    {
     "name": "stdout",
     "output_type": "stream",
     "text": [
      "[('회원가입에', 7.6939430550968115), ('회원을', 7.6939430550968115), ('획득한', 7.6939430550968115), ('효과', 7.6939430550968115), ('효과음', 7.6939430550968115), ('ﬁnd', 7.6939430550968115), ('ﬁnger', 7.6939430550968115), ('ﬁnish', 7.6939430550968115), ('ﬁrst', 7.6939430550968115), ('ﬂye', 7.6939430550968115)]\n"
     ]
    }
   ],
   "source": [
    "# Highest idf\n",
    "print(list(terms.items())[-10:])"
   ]
  },
  {
   "cell_type": "code",
   "execution_count": 15,
   "metadata": {
    "colab": {
     "base_uri": "https://localhost:8080/"
    },
    "id": "ribsTd1NMcsC",
    "outputId": "eef63f4c-c101-42c0-e9b7-8292ebe3be64",
    "scrolled": true
   },
   "outputs": [
    {
     "name": "stdout",
     "output_type": "stream",
     "text": [
      "[('game', 1.2970133998806652), ('play', 1.4201230970427738), ('feature', 1.4753429354050822), ('free', 1.5846954723324462), ('new', 1.6656645348661132), ('world', 1.781792314708555), ('time', 1.8106206666085325), ('app', 1.8417405753223373), ('fun', 1.8591323180342063), ('use', 1.872377544784227)]\n"
     ]
    }
   ],
   "source": [
    "# Lowest idf\n",
    "print(list(terms.items())[:10])"
   ]
  },
  {
   "cell_type": "markdown",
   "metadata": {
    "id": "wyK2L83cMcsG"
   },
   "source": [
    "**Answer** : TF-IDF assigns more weight to less frequently occurring words rather than frequently occurring ones. It is based on the assumption that less frequently occurring words are more important. In particular, words like: game, fun or app, are very frequent in descriptions of games in the Google Play Store. However, words like zac, or zazz are less frequent, therefore it is assumed that this words have a bigger impact on the meaning of the sentence."
   ]
  },
  {
   "cell_type": "markdown",
   "metadata": {
    "id": "M0WaQUOXMcsG"
   },
   "source": [
    "## Problem 5: Keyword extraction"
   ]
  },
  {
   "cell_type": "markdown",
   "metadata": {
    "id": "-1Foh7UeMcsH"
   },
   "source": [
    "A simple method for extracting salient keywords from a document is to pick the $k$ terms with the highest tf–idf value. Your last task in this lab is to implement this method. More specifically, we ask you to implement a function `keywords` that extracts keywords from a given text."
   ]
  },
  {
   "cell_type": "code",
   "execution_count": 56,
   "metadata": {
    "colab": {
     "base_uri": "https://localhost:8080/"
    },
    "id": "nq13N2BhURoC",
    "outputId": "5f1c97a9-5997-4b74-f1c6-20cf4633903a"
   },
   "outputs": [
    {
     "name": "stdout",
     "output_type": "stream",
     "text": [
      "['train', 'chaos', 'crash', 'let', 'manage', 'master', 'pick', 'rail', 'railroad', 'railway']\n"
     ]
    }
   ],
   "source": [
    "#X_matrix = X.todense()\n",
    "#X_matrix[0,:].shape\n",
    "#X.toarray()[1469,0]\n",
    "\n",
    "X_text = vectorizer.fit_transform([df['description'][1428]]).toarray()\n",
    "feature_names = vectorizer.get_feature_names() # All the words\n",
    "zipped = zip(feature_names, X_text[0]) # map each word to its idf value\n",
    "tf_idf = dict(sorted(zipped, key = lambda t: t[1], reverse=True)) # sort in ascending idf value - this is a list\n",
    "#tf_idf[0]\n",
    "k_terms[key for key in tf_idf.keys()][0:10])\n",
    "\n",
    "#print(set(tf_idf))\n"
   ]
  },
  {
   "cell_type": "code",
   "execution_count": 63,
   "metadata": {
    "id": "rcCkwQtFMcsI"
   },
   "outputs": [],
   "source": [
    "def keywords(text, n=10):\n",
    "    \n",
    "    X_text = vectorizer.fit_transform([df['description'][1428]]).toarray()\n",
    "    feature_names = vectorizer.get_feature_names() # All the words\n",
    "    zipped = zip(feature_names, X_text[0]) # map each word to its idf value\n",
    "    tf_idf = dict(sorted(zipped, key = lambda t: t[1], reverse=True)) # sort in ascending idf value - this is a list\n",
    "    k_terms = [key for key in tf_idf.keys()]\n",
    "\n",
    "    return k_terms"
   ]
  },
  {
   "cell_type": "markdown",
   "metadata": {
    "id": "2yBVMohBMcsM"
   },
   "source": [
    "Your implementation should conform to the following specification:\n",
    "\n",
    "<strong>keywords</strong> (<em>text</em>, <em>n</em> = 10)\n",
    "\n",
    "> Returns a list with the $n$ (default value: 10) most salient keywords from the specified text, as measured by their tf–idf value relative to the collection of app descriptions."
   ]
  },
  {
   "cell_type": "markdown",
   "metadata": {
    "id": "YMyGNCLpMcsM"
   },
   "source": [
    "Test your implementation by running the following cell:"
   ]
  },
  {
   "cell_type": "code",
   "execution_count": 64,
   "metadata": {
    "colab": {
     "base_uri": "https://localhost:8080/"
    },
    "id": "r45s6mRlMcsN",
    "outputId": "26f87fde-571f-4375-e27e-d31aa6ccd75f"
   },
   "outputs": [
    {
     "name": "stdout",
     "output_type": "stream",
     "text": [
      "['train', 'chaos', 'crash', 'let', 'manage', 'master', 'pick', 'rail', 'railroad', 'railway', 'action', 'alert', 'arcade', 'avoid', 'bell', 'bet', 'big', 'branching', 'breakneck', 'build', 'bullet', 'business', 'carriage', 'conduct', 'connect', 'control', 'count', 'customise', 'destination', 'diesel', 'dream', 'driver', 'drop', 'earn', 'electric', 'explosive', 'express', 'factory', 'fast', 'favourite', 'find', 'fog', 'fork', 'good', 'grow', 'haul', 'high', 'horn', 'idle', 'include', 'international', 'lay', 'level', 'lightning', 'locomotive', 'loose', 'manager', 'marshal', 'micro', 'miss', 'modern', 'mountain', 'near', 'need', 'network', 'obstacle', 'optimise', 'overcast', 'pace', 'passenger', 'path', 'planning', 'play', 'port', 'puzzle', 'railyard', 'rain', 're', 'rich', 'road', 'route', 'seat', 'second', 'sit', 'situation', 'sleep', 'snappy', 'solve', 'speed', 'split', 'station', 'strategy', 'style', 'thrilling', 'thunderstorm', 'timetable', 'toot', 'traffic', 'tram', 'try', 'tunnel', 'turn', 'tycoon', 'type', 'ultimate', 'videogame', 'weather', 'world']\n"
     ]
    }
   ],
   "source": [
    "print(keywords(df['description'][1428]))"
   ]
  },
  {
   "cell_type": "markdown",
   "metadata": {
    "id": "n5pK941qMcsS"
   },
   "source": [
    "This should give the following output:"
   ]
  },
  {
   "cell_type": "markdown",
   "metadata": {
    "id": "BRTnZAgZMcsS"
   },
   "source": [
    "['train', 'railway', 'railroad', 'rail', 'chaos', 'crash', 'overcast', 'locomotive', 'timetable', 'railyard']"
   ]
  },
  {
   "cell_type": "markdown",
   "metadata": {
    "id": "R2ne7NiwMcsT"
   },
   "source": [
    "<div class=\"alert alert-info\">\n",
    "    Please read the General information section on the lab web page before submitting this notebook!\n",
    "</div>"
   ]
  }
 ],
 "metadata": {
  "colab": {
   "name": "TM-L1.ipynb",
   "provenance": []
  },
  "kernelspec": {
   "display_name": "Python 3",
   "language": "python",
   "name": "python3"
  },
  "language_info": {
   "codemirror_mode": {
    "name": "ipython",
    "version": 3
   },
   "file_extension": ".py",
   "mimetype": "text/x-python",
   "name": "python",
   "nbconvert_exporter": "python",
   "pygments_lexer": "ipython3",
   "version": "3.7.6"
  }
 },
 "nbformat": 4,
 "nbformat_minor": 1
}
